{
 "cells": [
  {
   "cell_type": "markdown",
   "id": "4348b562-898c-4ae5-8041-c25b1547c52b",
   "metadata": {},
   "source": [
    "# 1.导入数据"
   ]
  },
  {
   "cell_type": "code",
   "execution_count": 2,
   "id": "fbfb5bb7-b41d-4b65-948d-99bcfae3e597",
   "metadata": {},
   "outputs": [
    {
     "data": {
      "text/html": [
       "<div>\n",
       "<style scoped>\n",
       "    .dataframe tbody tr th:only-of-type {\n",
       "        vertical-align: middle;\n",
       "    }\n",
       "\n",
       "    .dataframe tbody tr th {\n",
       "        vertical-align: top;\n",
       "    }\n",
       "\n",
       "    .dataframe thead th {\n",
       "        text-align: right;\n",
       "    }\n",
       "</style>\n",
       "<table border=\"1\" class=\"dataframe\">\n",
       "  <thead>\n",
       "    <tr style=\"text-align: right;\">\n",
       "      <th></th>\n",
       "      <th>age</th>\n",
       "      <th>sex</th>\n",
       "      <th>cp</th>\n",
       "      <th>trestbps</th>\n",
       "      <th>chol</th>\n",
       "      <th>fbs</th>\n",
       "      <th>restecg</th>\n",
       "      <th>thalach</th>\n",
       "      <th>exang</th>\n",
       "      <th>oldpeak</th>\n",
       "      <th>slope</th>\n",
       "      <th>ca</th>\n",
       "      <th>thal</th>\n",
       "      <th>target</th>\n",
       "    </tr>\n",
       "  </thead>\n",
       "  <tbody>\n",
       "    <tr>\n",
       "      <th>0</th>\n",
       "      <td>52</td>\n",
       "      <td>1</td>\n",
       "      <td>0</td>\n",
       "      <td>125</td>\n",
       "      <td>212</td>\n",
       "      <td>0</td>\n",
       "      <td>1</td>\n",
       "      <td>168</td>\n",
       "      <td>0</td>\n",
       "      <td>1.0</td>\n",
       "      <td>2</td>\n",
       "      <td>2</td>\n",
       "      <td>3</td>\n",
       "      <td>0</td>\n",
       "    </tr>\n",
       "    <tr>\n",
       "      <th>1</th>\n",
       "      <td>53</td>\n",
       "      <td>1</td>\n",
       "      <td>0</td>\n",
       "      <td>140</td>\n",
       "      <td>203</td>\n",
       "      <td>1</td>\n",
       "      <td>0</td>\n",
       "      <td>155</td>\n",
       "      <td>1</td>\n",
       "      <td>3.1</td>\n",
       "      <td>0</td>\n",
       "      <td>0</td>\n",
       "      <td>3</td>\n",
       "      <td>0</td>\n",
       "    </tr>\n",
       "    <tr>\n",
       "      <th>2</th>\n",
       "      <td>70</td>\n",
       "      <td>1</td>\n",
       "      <td>0</td>\n",
       "      <td>145</td>\n",
       "      <td>174</td>\n",
       "      <td>0</td>\n",
       "      <td>1</td>\n",
       "      <td>125</td>\n",
       "      <td>1</td>\n",
       "      <td>2.6</td>\n",
       "      <td>0</td>\n",
       "      <td>0</td>\n",
       "      <td>3</td>\n",
       "      <td>0</td>\n",
       "    </tr>\n",
       "    <tr>\n",
       "      <th>3</th>\n",
       "      <td>61</td>\n",
       "      <td>1</td>\n",
       "      <td>0</td>\n",
       "      <td>148</td>\n",
       "      <td>203</td>\n",
       "      <td>0</td>\n",
       "      <td>1</td>\n",
       "      <td>161</td>\n",
       "      <td>0</td>\n",
       "      <td>0.0</td>\n",
       "      <td>2</td>\n",
       "      <td>1</td>\n",
       "      <td>3</td>\n",
       "      <td>0</td>\n",
       "    </tr>\n",
       "    <tr>\n",
       "      <th>4</th>\n",
       "      <td>62</td>\n",
       "      <td>0</td>\n",
       "      <td>0</td>\n",
       "      <td>138</td>\n",
       "      <td>294</td>\n",
       "      <td>1</td>\n",
       "      <td>1</td>\n",
       "      <td>106</td>\n",
       "      <td>0</td>\n",
       "      <td>1.9</td>\n",
       "      <td>1</td>\n",
       "      <td>3</td>\n",
       "      <td>2</td>\n",
       "      <td>0</td>\n",
       "    </tr>\n",
       "    <tr>\n",
       "      <th>...</th>\n",
       "      <td>...</td>\n",
       "      <td>...</td>\n",
       "      <td>...</td>\n",
       "      <td>...</td>\n",
       "      <td>...</td>\n",
       "      <td>...</td>\n",
       "      <td>...</td>\n",
       "      <td>...</td>\n",
       "      <td>...</td>\n",
       "      <td>...</td>\n",
       "      <td>...</td>\n",
       "      <td>...</td>\n",
       "      <td>...</td>\n",
       "      <td>...</td>\n",
       "    </tr>\n",
       "    <tr>\n",
       "      <th>1020</th>\n",
       "      <td>59</td>\n",
       "      <td>1</td>\n",
       "      <td>1</td>\n",
       "      <td>140</td>\n",
       "      <td>221</td>\n",
       "      <td>0</td>\n",
       "      <td>1</td>\n",
       "      <td>164</td>\n",
       "      <td>1</td>\n",
       "      <td>0.0</td>\n",
       "      <td>2</td>\n",
       "      <td>0</td>\n",
       "      <td>2</td>\n",
       "      <td>1</td>\n",
       "    </tr>\n",
       "    <tr>\n",
       "      <th>1021</th>\n",
       "      <td>60</td>\n",
       "      <td>1</td>\n",
       "      <td>0</td>\n",
       "      <td>125</td>\n",
       "      <td>258</td>\n",
       "      <td>0</td>\n",
       "      <td>0</td>\n",
       "      <td>141</td>\n",
       "      <td>1</td>\n",
       "      <td>2.8</td>\n",
       "      <td>1</td>\n",
       "      <td>1</td>\n",
       "      <td>3</td>\n",
       "      <td>0</td>\n",
       "    </tr>\n",
       "    <tr>\n",
       "      <th>1022</th>\n",
       "      <td>47</td>\n",
       "      <td>1</td>\n",
       "      <td>0</td>\n",
       "      <td>110</td>\n",
       "      <td>275</td>\n",
       "      <td>0</td>\n",
       "      <td>0</td>\n",
       "      <td>118</td>\n",
       "      <td>1</td>\n",
       "      <td>1.0</td>\n",
       "      <td>1</td>\n",
       "      <td>1</td>\n",
       "      <td>2</td>\n",
       "      <td>0</td>\n",
       "    </tr>\n",
       "    <tr>\n",
       "      <th>1023</th>\n",
       "      <td>50</td>\n",
       "      <td>0</td>\n",
       "      <td>0</td>\n",
       "      <td>110</td>\n",
       "      <td>254</td>\n",
       "      <td>0</td>\n",
       "      <td>0</td>\n",
       "      <td>159</td>\n",
       "      <td>0</td>\n",
       "      <td>0.0</td>\n",
       "      <td>2</td>\n",
       "      <td>0</td>\n",
       "      <td>2</td>\n",
       "      <td>1</td>\n",
       "    </tr>\n",
       "    <tr>\n",
       "      <th>1024</th>\n",
       "      <td>54</td>\n",
       "      <td>1</td>\n",
       "      <td>0</td>\n",
       "      <td>120</td>\n",
       "      <td>188</td>\n",
       "      <td>0</td>\n",
       "      <td>1</td>\n",
       "      <td>113</td>\n",
       "      <td>0</td>\n",
       "      <td>1.4</td>\n",
       "      <td>1</td>\n",
       "      <td>1</td>\n",
       "      <td>3</td>\n",
       "      <td>0</td>\n",
       "    </tr>\n",
       "  </tbody>\n",
       "</table>\n",
       "<p>1025 rows × 14 columns</p>\n",
       "</div>"
      ],
      "text/plain": [
       "      age  sex  cp  trestbps  chol  fbs  restecg  thalach  exang  oldpeak  \\\n",
       "0      52    1   0       125   212    0        1      168      0      1.0   \n",
       "1      53    1   0       140   203    1        0      155      1      3.1   \n",
       "2      70    1   0       145   174    0        1      125      1      2.6   \n",
       "3      61    1   0       148   203    0        1      161      0      0.0   \n",
       "4      62    0   0       138   294    1        1      106      0      1.9   \n",
       "...   ...  ...  ..       ...   ...  ...      ...      ...    ...      ...   \n",
       "1020   59    1   1       140   221    0        1      164      1      0.0   \n",
       "1021   60    1   0       125   258    0        0      141      1      2.8   \n",
       "1022   47    1   0       110   275    0        0      118      1      1.0   \n",
       "1023   50    0   0       110   254    0        0      159      0      0.0   \n",
       "1024   54    1   0       120   188    0        1      113      0      1.4   \n",
       "\n",
       "      slope  ca  thal  target  \n",
       "0         2   2     3       0  \n",
       "1         0   0     3       0  \n",
       "2         0   0     3       0  \n",
       "3         2   1     3       0  \n",
       "4         1   3     2       0  \n",
       "...     ...  ..   ...     ...  \n",
       "1020      2   0     2       1  \n",
       "1021      1   1     3       0  \n",
       "1022      1   1     2       0  \n",
       "1023      2   0     2       1  \n",
       "1024      1   1     3       0  \n",
       "\n",
       "[1025 rows x 14 columns]"
      ]
     },
     "execution_count": 2,
     "metadata": {},
     "output_type": "execute_result"
    }
   ],
   "source": [
    "# 导入数据集\n",
    "import pandas as pd\n",
    "data = pd.read_csv(r\"C:\\Users\\Terry\\Desktop\\heart.csv\")\n",
    "data"
   ]
  },
  {
   "cell_type": "markdown",
   "id": "14fd2180-6a78-4f01-9d71-f023d0c0c8d9",
   "metadata": {},
   "source": [
    "数据集有1025行，14列。每行表示一个病人。13列表示特征，1列表示标签(是否患心脏病)"
   ]
  },
  {
   "cell_type": "code",
   "execution_count": 7,
   "id": "40cc9611-3bf2-45b6-a4e5-83a220f2f792",
   "metadata": {},
   "outputs": [
    {
     "data": {
      "text/html": [
       "<style>\n",
       "    table {\n",
       "        display: inline-block\n",
       "    }\n",
       "</style>\n"
      ],
      "text/plain": [
       "<IPython.core.display.HTML object>"
      ]
     },
     "metadata": {},
     "output_type": "display_data"
    }
   ],
   "source": [
    "%%html\n",
    "<style>\n",
    "    table {\n",
    "        display: inline-block\n",
    "    }\n",
    "</style>"
   ]
  },
  {
   "cell_type": "markdown",
   "id": "eaf2d4fc-a3d6-4c08-b02b-1cb222bd47da",
   "metadata": {},
   "source": [
    "|字段名|含义|\n",
    "|---|---|\n",
    "| age      | 年龄                                                         |\n",
    "| sex      | 性别，1表示男，0表示女                                       |\n",
    "| cp       | 心绞痛病史，1:典型心绞痛，2:非典型心绞痛，3:无心绞痛，4:无症状 |\n",
    "| trestbps | 静息血压，入院时测量得到，单位为毫米汞柱(mm Hg)              |\n",
    "| chol     | 胆固醇含量，单位:mgldl                                       |\n",
    "| fbs      | 空腹时是否血糖高，如果空腹血糖大于120 mg/dl，值为1，否则值为0 |\n",
    "| restecg  | 静息时的心电图特征。0:正常。1:  ST-T波有异常。2:根据Estes准则，有潜在的左 |\n",
    "| thalach  | 最大心率                                                     |\n",
    "| exang    | 运动是否会导致心绞痛,1表示会，0表示不会                      |\n",
    "| oldpeak  | 运动相比于静息状态，心电图中的ST-T波是否会被压平。1表示会，0表示不会 |\n",
    "| slope    | 心电图中ST波峰值的坡度（1:上升，2:平坦，3:下降)              |\n",
    "| ca       | 心脏周边大血管的个数(0-3)                                    |\n",
    "| thal     | 是否患有地中海贫血症（0 =正常；1 =固定缺陷；2 =可逆缺陷） |\n",
    "| target   | 标签列。是否有心脏病，0表示没有，1表示有                     |"
   ]
  },
  {
   "cell_type": "markdown",
   "id": "3605636a-7fbe-4f26-8ba1-e3a86b3a9493",
   "metadata": {},
   "source": [
    "# 2.数据预处理 探索性数据分析"
   ]
  },
  {
   "cell_type": "code",
   "execution_count": 74,
   "id": "6c6d5638-c3c0-4378-b07d-91b7d329f07e",
   "metadata": {},
   "outputs": [
    {
     "name": "stdout",
     "output_type": "stream",
     "text": [
      "<class 'pandas.core.frame.DataFrame'>\n",
      "RangeIndex: 1025 entries, 0 to 1024\n",
      "Data columns (total 14 columns):\n",
      " #   Column    Non-Null Count  Dtype  \n",
      "---  ------    --------------  -----  \n",
      " 0   age       1025 non-null   int64  \n",
      " 1   sex       1025 non-null   object \n",
      " 2   cp        1025 non-null   object \n",
      " 3   trestbps  1025 non-null   int64  \n",
      " 4   chol      1025 non-null   int64  \n",
      " 5   fbs       1025 non-null   object \n",
      " 6   restecg   1025 non-null   object \n",
      " 7   thalach   1025 non-null   int64  \n",
      " 8   exang     1025 non-null   object \n",
      " 9   oldpeak   1025 non-null   float64\n",
      " 10  slope     1025 non-null   object \n",
      " 11  ca        1025 non-null   int64  \n",
      " 12  thal      1025 non-null   object \n",
      " 13  target    1025 non-null   int64  \n",
      "dtypes: float64(1), int64(6), object(7)\n",
      "memory usage: 112.2+ KB\n"
     ]
    }
   ],
   "source": [
    "data.info()"
   ]
  },
  {
   "cell_type": "code",
   "execution_count": 11,
   "id": "f21434e1-12dc-4807-85ff-fb63993b8090",
   "metadata": {},
   "outputs": [
    {
     "data": {
      "text/plain": [
       "age         0\n",
       "sex         0\n",
       "cp          0\n",
       "trestbps    0\n",
       "chol        0\n",
       "fbs         0\n",
       "restecg     0\n",
       "thalach     0\n",
       "exang       0\n",
       "oldpeak     0\n",
       "slope       0\n",
       "ca          0\n",
       "thal        0\n",
       "target      0\n",
       "dtype: int64"
      ]
     },
     "execution_count": 11,
     "metadata": {},
     "output_type": "execute_result"
    }
   ],
   "source": [
    "# 缺失值的检查\n",
    "data.isna().sum()"
   ]
  },
  {
   "cell_type": "code",
   "execution_count": 10,
   "id": "614f65db-7438-4e49-afdc-8305ba4409a1",
   "metadata": {},
   "outputs": [
    {
     "data": {
      "image/png": "[encoded data removed]",
      "text/plain": [
       "<Figure size 2500x1000 with 2 Axes>"
      ]
     },
     "metadata": {},
     "output_type": "display_data"
    }
   ],
   "source": [
    "import missingno as msno\n",
    "import matplotlib.pyplot as plt\n",
    "plt.rcParams['font.sans-serif']=['Roboto'] \n",
    "msno.matrix(data, labels=True)\n",
    "# 忽略warnings\n",
    "import warnings\n",
    "warnings.filterwarnings(\"ignore\")"
   ]
  },
  {
   "cell_type": "code",
   "execution_count": 14,
   "id": "6333a539-376b-4cc8-a045-9a83ea4c6431",
   "metadata": {},
   "outputs": [
    {
     "data": {
      "image/png": "[encoded data removed]",
      "text/plain": [
       "<Figure size 1000x800 with 2 Axes>"
      ]
     },
     "metadata": {},
     "output_type": "display_data"
    }
   ],
   "source": [
    "# 热力图绘制\n",
    "def enhanced_corr_heatmap(data):\n",
    "    \"\"\"绘制数据皮尔逊相关性系数的热力图（下三角显示）\"\"\"\n",
    "    \n",
    "    # 导包\n",
    "    import numpy as np\n",
    "    import matplotlib.pyplot as plt\n",
    "    import seaborn as sns\n",
    "    \n",
    "    # matplotlib的图像大小和字体显示设置\n",
    "    plt.figure(figsize=(10, 8)) # 可同比例放大\n",
    "    plt.rcParams['font.sans-serif'] = ['Roboto'] # 美化字体\n",
    "    plt.rcParams['axes.unicode_minus'] = False # 显示负数\n",
    "    \n",
    "    #保留下三角：\n",
    "    data_corr = data.corr()\n",
    "    mask = np.zeros_like(data_corr)\n",
    "    for i in range(1,len(mask)):\n",
    "      for j in range(0,i):\n",
    "        mask[j][i] = True # 上三角就mask[i][j] = True\n",
    "    \n",
    "    # 绘图\n",
    "    sns.heatmap(data_corr,annot=True, fmt=\".2f\",cmap = 'Blues',mask = mask)\n",
    "    plt.show()\n",
    "enhanced_corr_heatmap(data)"
   ]
  },
  {
   "cell_type": "markdown",
   "id": "029c3a0a-90a8-4298-a66a-53be5792d5e4",
   "metadata": {},
   "source": [
    "# 3.特征工程"
   ]
  },
  {
   "cell_type": "code",
   "execution_count": 20,
   "id": "a4f2e055-0ee7-4891-b8f2-0e31996838d9",
   "metadata": {},
   "outputs": [],
   "source": [
    "df = data\n",
    "# 将定类特征由整数编码转为实际对应的字符串，还原为真实含义\n",
    "df['sex'][df['sex'] == 0] = 'female'\n",
    "df['sex'][df['sex'] == 1] = 'male'\n",
    "df['cp'][df['cp'] == 0] = 'typical angina'\n",
    "df['cp'][df['cp'] == 1] = 'atypical angina'\n",
    "df['cp'][df['cp'] == 2] = 'non-anginal pain'\n",
    "df['cp'][df['cp'] == 3] = 'asymptomatic'\n",
    " \n",
    "df['fbs'][df['fbs'] == 0] = 'lower than 120mg/ml'\n",
    "df['fbs'][df['fbs'] == 1] = 'greater than 120mg ml'\n",
    " \n",
    "df['restecg'][df['restecg'] == 0] = 'normal'\n",
    "df['restecg'][df['restecg'] == 1] = 'ST-T wave abnormality'\n",
    "df['restecg'][df['restecg'] == 2] = 'left ventricular hyper trophy'\n",
    " \n",
    "df['exang'][df['exang'] == 0] = 'no'\n",
    "df['exang'][df['exang'] == 1] = 'yes'\n",
    " \n",
    "df['slope'][df['slope'] == 0] = 'upsloping'\n",
    "df['slope'][df['slope'] == 1] = 'flat'\n",
    "df['slope'][df['slope'] == 2] = 'downsloping'\n",
    " \n",
    "df['thal'][df['thal'] == 0] = 'unknown'\n",
    "df['thal'][df['thal'] == 1] = 'normal'\n",
    "df['thal'][df['thal'] == 2] = 'fixed defect'\n",
    "df['thal'][df['thal'] == 3] = 'reversable defect'\n",
    " \n",
    "# 将离散的定类和定序特征列转为One-Hot独热编码\n",
    "# 将定类数据扩展为特征\n",
    "df = pd.get_dummies(df)"
   ]
  },
  {
   "cell_type": "code",
   "execution_count": 21,
   "id": "9c3c1dae-1dde-495b-b8ed-9e447c422ddb",
   "metadata": {},
   "outputs": [
    {
     "data": {
      "text/html": [
       "<div>\n",
       "<style scoped>\n",
       "    .dataframe tbody tr th:only-of-type {\n",
       "        vertical-align: middle;\n",
       "    }\n",
       "\n",
       "    .dataframe tbody tr th {\n",
       "        vertical-align: top;\n",
       "    }\n",
       "\n",
       "    .dataframe thead th {\n",
       "        text-align: right;\n",
       "    }\n",
       "</style>\n",
       "<table border=\"1\" class=\"dataframe\">\n",
       "  <thead>\n",
       "    <tr style=\"text-align: right;\">\n",
       "      <th></th>\n",
       "      <th>age</th>\n",
       "      <th>trestbps</th>\n",
       "      <th>chol</th>\n",
       "      <th>thalach</th>\n",
       "      <th>oldpeak</th>\n",
       "      <th>ca</th>\n",
       "      <th>target</th>\n",
       "      <th>sex_female</th>\n",
       "      <th>sex_male</th>\n",
       "      <th>cp_asymptomatic</th>\n",
       "      <th>...</th>\n",
       "      <th>restecg_normal</th>\n",
       "      <th>exang_no</th>\n",
       "      <th>exang_yes</th>\n",
       "      <th>slope_downsloping</th>\n",
       "      <th>slope_flat</th>\n",
       "      <th>slope_upsloping</th>\n",
       "      <th>thal_fixed defect</th>\n",
       "      <th>thal_normal</th>\n",
       "      <th>thal_reversable defect</th>\n",
       "      <th>thal_unknown</th>\n",
       "    </tr>\n",
       "  </thead>\n",
       "  <tbody>\n",
       "    <tr>\n",
       "      <th>0</th>\n",
       "      <td>52</td>\n",
       "      <td>125</td>\n",
       "      <td>212</td>\n",
       "      <td>168</td>\n",
       "      <td>1.0</td>\n",
       "      <td>2</td>\n",
       "      <td>0</td>\n",
       "      <td>0</td>\n",
       "      <td>1</td>\n",
       "      <td>0</td>\n",
       "      <td>...</td>\n",
       "      <td>0</td>\n",
       "      <td>1</td>\n",
       "      <td>0</td>\n",
       "      <td>1</td>\n",
       "      <td>0</td>\n",
       "      <td>0</td>\n",
       "      <td>0</td>\n",
       "      <td>0</td>\n",
       "      <td>1</td>\n",
       "      <td>0</td>\n",
       "    </tr>\n",
       "    <tr>\n",
       "      <th>1</th>\n",
       "      <td>53</td>\n",
       "      <td>140</td>\n",
       "      <td>203</td>\n",
       "      <td>155</td>\n",
       "      <td>3.1</td>\n",
       "      <td>0</td>\n",
       "      <td>0</td>\n",
       "      <td>0</td>\n",
       "      <td>1</td>\n",
       "      <td>0</td>\n",
       "      <td>...</td>\n",
       "      <td>1</td>\n",
       "      <td>0</td>\n",
       "      <td>1</td>\n",
       "      <td>0</td>\n",
       "      <td>0</td>\n",
       "      <td>1</td>\n",
       "      <td>0</td>\n",
       "      <td>0</td>\n",
       "      <td>1</td>\n",
       "      <td>0</td>\n",
       "    </tr>\n",
       "    <tr>\n",
       "      <th>2</th>\n",
       "      <td>70</td>\n",
       "      <td>145</td>\n",
       "      <td>174</td>\n",
       "      <td>125</td>\n",
       "      <td>2.6</td>\n",
       "      <td>0</td>\n",
       "      <td>0</td>\n",
       "      <td>0</td>\n",
       "      <td>1</td>\n",
       "      <td>0</td>\n",
       "      <td>...</td>\n",
       "      <td>0</td>\n",
       "      <td>0</td>\n",
       "      <td>1</td>\n",
       "      <td>0</td>\n",
       "      <td>0</td>\n",
       "      <td>1</td>\n",
       "      <td>0</td>\n",
       "      <td>0</td>\n",
       "      <td>1</td>\n",
       "      <td>0</td>\n",
       "    </tr>\n",
       "    <tr>\n",
       "      <th>3</th>\n",
       "      <td>61</td>\n",
       "      <td>148</td>\n",
       "      <td>203</td>\n",
       "      <td>161</td>\n",
       "      <td>0.0</td>\n",
       "      <td>1</td>\n",
       "      <td>0</td>\n",
       "      <td>0</td>\n",
       "      <td>1</td>\n",
       "      <td>0</td>\n",
       "      <td>...</td>\n",
       "      <td>0</td>\n",
       "      <td>1</td>\n",
       "      <td>0</td>\n",
       "      <td>1</td>\n",
       "      <td>0</td>\n",
       "      <td>0</td>\n",
       "      <td>0</td>\n",
       "      <td>0</td>\n",
       "      <td>1</td>\n",
       "      <td>0</td>\n",
       "    </tr>\n",
       "    <tr>\n",
       "      <th>4</th>\n",
       "      <td>62</td>\n",
       "      <td>138</td>\n",
       "      <td>294</td>\n",
       "      <td>106</td>\n",
       "      <td>1.9</td>\n",
       "      <td>3</td>\n",
       "      <td>0</td>\n",
       "      <td>1</td>\n",
       "      <td>0</td>\n",
       "      <td>0</td>\n",
       "      <td>...</td>\n",
       "      <td>0</td>\n",
       "      <td>1</td>\n",
       "      <td>0</td>\n",
       "      <td>0</td>\n",
       "      <td>1</td>\n",
       "      <td>0</td>\n",
       "      <td>1</td>\n",
       "      <td>0</td>\n",
       "      <td>0</td>\n",
       "      <td>0</td>\n",
       "    </tr>\n",
       "    <tr>\n",
       "      <th>...</th>\n",
       "      <td>...</td>\n",
       "      <td>...</td>\n",
       "      <td>...</td>\n",
       "      <td>...</td>\n",
       "      <td>...</td>\n",
       "      <td>...</td>\n",
       "      <td>...</td>\n",
       "      <td>...</td>\n",
       "      <td>...</td>\n",
       "      <td>...</td>\n",
       "      <td>...</td>\n",
       "      <td>...</td>\n",
       "      <td>...</td>\n",
       "      <td>...</td>\n",
       "      <td>...</td>\n",
       "      <td>...</td>\n",
       "      <td>...</td>\n",
       "      <td>...</td>\n",
       "      <td>...</td>\n",
       "      <td>...</td>\n",
       "      <td>...</td>\n",
       "    </tr>\n",
       "    <tr>\n",
       "      <th>1020</th>\n",
       "      <td>59</td>\n",
       "      <td>140</td>\n",
       "      <td>221</td>\n",
       "      <td>164</td>\n",
       "      <td>0.0</td>\n",
       "      <td>0</td>\n",
       "      <td>1</td>\n",
       "      <td>0</td>\n",
       "      <td>1</td>\n",
       "      <td>0</td>\n",
       "      <td>...</td>\n",
       "      <td>0</td>\n",
       "      <td>0</td>\n",
       "      <td>1</td>\n",
       "      <td>1</td>\n",
       "      <td>0</td>\n",
       "      <td>0</td>\n",
       "      <td>1</td>\n",
       "      <td>0</td>\n",
       "      <td>0</td>\n",
       "      <td>0</td>\n",
       "    </tr>\n",
       "    <tr>\n",
       "      <th>1021</th>\n",
       "      <td>60</td>\n",
       "      <td>125</td>\n",
       "      <td>258</td>\n",
       "      <td>141</td>\n",
       "      <td>2.8</td>\n",
       "      <td>1</td>\n",
       "      <td>0</td>\n",
       "      <td>0</td>\n",
       "      <td>1</td>\n",
       "      <td>0</td>\n",
       "      <td>...</td>\n",
       "      <td>1</td>\n",
       "      <td>0</td>\n",
       "      <td>1</td>\n",
       "      <td>0</td>\n",
       "      <td>1</td>\n",
       "      <td>0</td>\n",
       "      <td>0</td>\n",
       "      <td>0</td>\n",
       "      <td>1</td>\n",
       "      <td>0</td>\n",
       "    </tr>\n",
       "    <tr>\n",
       "      <th>1022</th>\n",
       "      <td>47</td>\n",
       "      <td>110</td>\n",
       "      <td>275</td>\n",
       "      <td>118</td>\n",
       "      <td>1.0</td>\n",
       "      <td>1</td>\n",
       "      <td>0</td>\n",
       "      <td>0</td>\n",
       "      <td>1</td>\n",
       "      <td>0</td>\n",
       "      <td>...</td>\n",
       "      <td>1</td>\n",
       "      <td>0</td>\n",
       "      <td>1</td>\n",
       "      <td>0</td>\n",
       "      <td>1</td>\n",
       "      <td>0</td>\n",
       "      <td>1</td>\n",
       "      <td>0</td>\n",
       "      <td>0</td>\n",
       "      <td>0</td>\n",
       "    </tr>\n",
       "    <tr>\n",
       "      <th>1023</th>\n",
       "      <td>50</td>\n",
       "      <td>110</td>\n",
       "      <td>254</td>\n",
       "      <td>159</td>\n",
       "      <td>0.0</td>\n",
       "      <td>0</td>\n",
       "      <td>1</td>\n",
       "      <td>1</td>\n",
       "      <td>0</td>\n",
       "      <td>0</td>\n",
       "      <td>...</td>\n",
       "      <td>1</td>\n",
       "      <td>1</td>\n",
       "      <td>0</td>\n",
       "      <td>1</td>\n",
       "      <td>0</td>\n",
       "      <td>0</td>\n",
       "      <td>1</td>\n",
       "      <td>0</td>\n",
       "      <td>0</td>\n",
       "      <td>0</td>\n",
       "    </tr>\n",
       "    <tr>\n",
       "      <th>1024</th>\n",
       "      <td>54</td>\n",
       "      <td>120</td>\n",
       "      <td>188</td>\n",
       "      <td>113</td>\n",
       "      <td>1.4</td>\n",
       "      <td>1</td>\n",
       "      <td>0</td>\n",
       "      <td>0</td>\n",
       "      <td>1</td>\n",
       "      <td>0</td>\n",
       "      <td>...</td>\n",
       "      <td>0</td>\n",
       "      <td>1</td>\n",
       "      <td>0</td>\n",
       "      <td>0</td>\n",
       "      <td>1</td>\n",
       "      <td>0</td>\n",
       "      <td>0</td>\n",
       "      <td>0</td>\n",
       "      <td>1</td>\n",
       "      <td>0</td>\n",
       "    </tr>\n",
       "  </tbody>\n",
       "</table>\n",
       "<p>1025 rows × 27 columns</p>\n",
       "</div>"
      ],
      "text/plain": [
       "      age  trestbps  chol  thalach  oldpeak  ca  target  sex_female  sex_male  \\\n",
       "0      52       125   212      168      1.0   2       0           0         1   \n",
       "1      53       140   203      155      3.1   0       0           0         1   \n",
       "2      70       145   174      125      2.6   0       0           0         1   \n",
       "3      61       148   203      161      0.0   1       0           0         1   \n",
       "4      62       138   294      106      1.9   3       0           1         0   \n",
       "...   ...       ...   ...      ...      ...  ..     ...         ...       ...   \n",
       "1020   59       140   221      164      0.0   0       1           0         1   \n",
       "1021   60       125   258      141      2.8   1       0           0         1   \n",
       "1022   47       110   275      118      1.0   1       0           0         1   \n",
       "1023   50       110   254      159      0.0   0       1           1         0   \n",
       "1024   54       120   188      113      1.4   1       0           0         1   \n",
       "\n",
       "      cp_asymptomatic  ...  restecg_normal  exang_no  exang_yes  \\\n",
       "0                   0  ...               0         1          0   \n",
       "1                   0  ...               1         0          1   \n",
       "2                   0  ...               0         0          1   \n",
       "3                   0  ...               0         1          0   \n",
       "4                   0  ...               0         1          0   \n",
       "...               ...  ...             ...       ...        ...   \n",
       "1020                0  ...               0         0          1   \n",
       "1021                0  ...               1         0          1   \n",
       "1022                0  ...               1         0          1   \n",
       "1023                0  ...               1         1          0   \n",
       "1024                0  ...               0         1          0   \n",
       "\n",
       "      slope_downsloping  slope_flat  slope_upsloping  thal_fixed defect  \\\n",
       "0                     1           0                0                  0   \n",
       "1                     0           0                1                  0   \n",
       "2                     0           0                1                  0   \n",
       "3                     1           0                0                  0   \n",
       "4                     0           1                0                  1   \n",
       "...                 ...         ...              ...                ...   \n",
       "1020                  1           0                0                  1   \n",
       "1021                  0           1                0                  0   \n",
       "1022                  0           1                0                  1   \n",
       "1023                  1           0                0                  1   \n",
       "1024                  0           1                0                  0   \n",
       "\n",
       "      thal_normal  thal_reversable defect  thal_unknown  \n",
       "0               0                       1             0  \n",
       "1               0                       1             0  \n",
       "2               0                       1             0  \n",
       "3               0                       1             0  \n",
       "4               0                       0             0  \n",
       "...           ...                     ...           ...  \n",
       "1020            0                       0             0  \n",
       "1021            0                       1             0  \n",
       "1022            0                       0             0  \n",
       "1023            0                       0             0  \n",
       "1024            0                       1             0  \n",
       "\n",
       "[1025 rows x 27 columns]"
      ]
     },
     "execution_count": 21,
     "metadata": {},
     "output_type": "execute_result"
    }
   ],
   "source": [
    "df"
   ]
  },
  {
   "cell_type": "markdown",
   "id": "e8e80d21-66d5-48e7-8638-89e80a256f02",
   "metadata": {},
   "source": [
    "# 4.模型训练，参数调优（贝叶斯调优）"
   ]
  },
  {
   "cell_type": "code",
   "execution_count": 69,
   "id": "eda3e8bb-2a8b-4925-a96a-e75ddc214aa0",
   "metadata": {},
   "outputs": [],
   "source": [
    "# 去掉这一列  矩阵用X表示  input\n",
    "X = df.drop('target',axis=1)\n",
    "# y向量\n",
    "y = df['target']\n",
    "# 切分测试集和验证集\n",
    "from sklearn.model_selection import train_test_split\n",
    "X_train,X_test,y_train,y_test = train_test_split(X,y,test_size=0.3,random_state=10)"
   ]
  },
  {
   "cell_type": "code",
   "execution_count": 70,
   "id": "37dd8a77-29ea-4d29-adc9-cf375c1a65a4",
   "metadata": {},
   "outputs": [
    {
     "name": "stdout",
     "output_type": "stream",
     "text": [
      "|   iter    |  target   | colsam... | max_depth | min_ch... | num_le... | subsample |\n",
      "-------------------------------------------------------------------------------------\n",
      "| \u001b[0m1        \u001b[0m | \u001b[0m0.975    \u001b[0m | \u001b[0m0.7913   \u001b[0m | \u001b[0m6.354    \u001b[0m | \u001b[0m12.72    \u001b[0m | \u001b[0m173.6    \u001b[0m | \u001b[0m0.9068   \u001b[0m |\n",
      "| \u001b[0m2        \u001b[0m | \u001b[0m0.9733   \u001b[0m | \u001b[0m0.8968   \u001b[0m | \u001b[0m9.003    \u001b[0m | \u001b[0m10.3     \u001b[0m | \u001b[0m131.1    \u001b[0m | \u001b[0m0.8315   \u001b[0m |\n",
      "| \u001b[0m3        \u001b[0m | \u001b[0m0.9523   \u001b[0m | \u001b[0m0.8282   \u001b[0m | \u001b[0m3.854    \u001b[0m | \u001b[0m23.45    \u001b[0m | \u001b[0m218.2    \u001b[0m | \u001b[0m0.7749   \u001b[0m |\n",
      "| \u001b[0m4        \u001b[0m | \u001b[0m0.9738   \u001b[0m | \u001b[0m0.7265   \u001b[0m | \u001b[0m4.173    \u001b[0m | \u001b[0m15.92    \u001b[0m | \u001b[0m210.6    \u001b[0m | \u001b[0m0.8746   \u001b[0m |\n",
      "| \u001b[95m5        \u001b[0m | \u001b[95m0.9778   \u001b[0m | \u001b[95m0.9717   \u001b[0m | \u001b[95m9.477    \u001b[0m | \u001b[95m16.13    \u001b[0m | \u001b[95m219.6    \u001b[0m | \u001b[95m0.9489   \u001b[0m |\n",
      "| \u001b[0m6        \u001b[0m | \u001b[0m0.9723   \u001b[0m | \u001b[0m0.9453   \u001b[0m | \u001b[0m4.576    \u001b[0m | \u001b[0m15.87    \u001b[0m | \u001b[0m210.2    \u001b[0m | \u001b[0m0.9975   \u001b[0m |\n",
      "| \u001b[0m7        \u001b[0m | \u001b[0m0.975    \u001b[0m | \u001b[0m0.8017   \u001b[0m | \u001b[0m7.711    \u001b[0m | \u001b[0m13.1     \u001b[0m | \u001b[0m216.4    \u001b[0m | \u001b[0m0.9629   \u001b[0m |\n",
      "| \u001b[0m8        \u001b[0m | \u001b[0m0.9733   \u001b[0m | \u001b[0m0.9483   \u001b[0m | \u001b[0m8.279    \u001b[0m | \u001b[0m12.78    \u001b[0m | \u001b[0m222.7    \u001b[0m | \u001b[0m0.982    \u001b[0m |\n",
      "| \u001b[0m9        \u001b[0m | \u001b[0m0.8958   \u001b[0m | \u001b[0m0.7      \u001b[0m | \u001b[0m2.0      \u001b[0m | \u001b[0m11.72    \u001b[0m | \u001b[0m214.0    \u001b[0m | \u001b[0m0.7      \u001b[0m |\n",
      "| \u001b[95m10       \u001b[0m | \u001b[95m0.9808   \u001b[0m | \u001b[95m0.8825   \u001b[0m | \u001b[95m9.229    \u001b[0m | \u001b[95m18.19    \u001b[0m | \u001b[95m214.9    \u001b[0m | \u001b[95m0.918    \u001b[0m |\n",
      "| \u001b[0m11       \u001b[0m | \u001b[0m0.978    \u001b[0m | \u001b[0m0.9665   \u001b[0m | \u001b[0m6.7      \u001b[0m | \u001b[0m20.63    \u001b[0m | \u001b[0m211.2    \u001b[0m | \u001b[0m0.8523   \u001b[0m |\n",
      "| \u001b[0m12       \u001b[0m | \u001b[0m0.8969   \u001b[0m | \u001b[0m0.7926   \u001b[0m | \u001b[0m2.607    \u001b[0m | \u001b[0m21.03    \u001b[0m | \u001b[0m207.4    \u001b[0m | \u001b[0m0.9679   \u001b[0m |\n",
      "| \u001b[0m13       \u001b[0m | \u001b[0m0.9808   \u001b[0m | \u001b[0m0.7475   \u001b[0m | \u001b[0m5.789    \u001b[0m | \u001b[0m18.21    \u001b[0m | \u001b[0m214.4    \u001b[0m | \u001b[0m0.9566   \u001b[0m |\n",
      "| \u001b[0m14       \u001b[0m | \u001b[0m0.9808   \u001b[0m | \u001b[0m0.7      \u001b[0m | \u001b[0m10.0     \u001b[0m | \u001b[0m16.78    \u001b[0m | \u001b[0m210.8    \u001b[0m | \u001b[0m0.7      \u001b[0m |\n",
      "| \u001b[0m15       \u001b[0m | \u001b[0m0.9795   \u001b[0m | \u001b[0m0.8661   \u001b[0m | \u001b[0m9.613    \u001b[0m | \u001b[0m23.8     \u001b[0m | \u001b[0m214.1    \u001b[0m | \u001b[0m0.7488   \u001b[0m |\n",
      "| \u001b[0m16       \u001b[0m | \u001b[0m0.9719   \u001b[0m | \u001b[0m0.7014   \u001b[0m | \u001b[0m4.769    \u001b[0m | \u001b[0m9.707    \u001b[0m | \u001b[0m168.2    \u001b[0m | \u001b[0m0.7      \u001b[0m |\n",
      "| \u001b[0m17       \u001b[0m | \u001b[0m0.9764   \u001b[0m | \u001b[0m0.7206   \u001b[0m | \u001b[0m5.719    \u001b[0m | \u001b[0m6.501    \u001b[0m | \u001b[0m174.1    \u001b[0m | \u001b[0m0.8931   \u001b[0m |\n",
      "| \u001b[0m18       \u001b[0m | \u001b[0m0.9718   \u001b[0m | \u001b[0m0.858    \u001b[0m | \u001b[0m8.186    \u001b[0m | \u001b[0m8.837    \u001b[0m | \u001b[0m179.0    \u001b[0m | \u001b[0m0.7785   \u001b[0m |\n",
      "| \u001b[0m19       \u001b[0m | \u001b[0m0.9005   \u001b[0m | \u001b[0m0.9184   \u001b[0m | \u001b[0m2.097    \u001b[0m | \u001b[0m10.91    \u001b[0m | \u001b[0m177.6    \u001b[0m | \u001b[0m0.9673   \u001b[0m |\n",
      "| \u001b[0m20       \u001b[0m | \u001b[0m0.9718   \u001b[0m | \u001b[0m0.7625   \u001b[0m | \u001b[0m9.971    \u001b[0m | \u001b[0m9.076    \u001b[0m | \u001b[0m172.7    \u001b[0m | \u001b[0m0.7239   \u001b[0m |\n",
      "| \u001b[0m21       \u001b[0m | \u001b[0m0.9681   \u001b[0m | \u001b[0m0.9019   \u001b[0m | \u001b[0m9.269    \u001b[0m | \u001b[0m3.189    \u001b[0m | \u001b[0m175.9    \u001b[0m | \u001b[0m0.7778   \u001b[0m |\n",
      "| \u001b[0m22       \u001b[0m | \u001b[0m0.9778   \u001b[0m | \u001b[0m0.7046   \u001b[0m | \u001b[0m8.715    \u001b[0m | \u001b[0m14.67    \u001b[0m | \u001b[0m169.5    \u001b[0m | \u001b[0m0.9276   \u001b[0m |\n",
      "| \u001b[0m23       \u001b[0m | \u001b[0m0.9808   \u001b[0m | \u001b[0m0.7      \u001b[0m | \u001b[0m10.0     \u001b[0m | \u001b[0m16.5     \u001b[0m | \u001b[0m174.4    \u001b[0m | \u001b[0m0.8183   \u001b[0m |\n",
      "| \u001b[0m24       \u001b[0m | \u001b[0m0.9793   \u001b[0m | \u001b[0m1.0      \u001b[0m | \u001b[0m6.352    \u001b[0m | \u001b[0m19.19    \u001b[0m | \u001b[0m171.7    \u001b[0m | \u001b[0m0.7      \u001b[0m |\n",
      "| \u001b[0m25       \u001b[0m | \u001b[0m0.9778   \u001b[0m | \u001b[0m0.9879   \u001b[0m | \u001b[0m9.641    \u001b[0m | \u001b[0m22.58    \u001b[0m | \u001b[0m175.0    \u001b[0m | \u001b[0m0.8576   \u001b[0m |\n",
      "| \u001b[0m26       \u001b[0m | \u001b[0m0.9765   \u001b[0m | \u001b[0m0.8178   \u001b[0m | \u001b[0m9.586    \u001b[0m | \u001b[0m21.69    \u001b[0m | \u001b[0m169.1    \u001b[0m | \u001b[0m0.8743   \u001b[0m |\n",
      "| \u001b[0m27       \u001b[0m | \u001b[0m0.978    \u001b[0m | \u001b[0m0.81     \u001b[0m | \u001b[0m5.345    \u001b[0m | \u001b[0m18.18    \u001b[0m | \u001b[0m165.4    \u001b[0m | \u001b[0m0.9048   \u001b[0m |\n",
      "| \u001b[0m28       \u001b[0m | \u001b[0m0.9768   \u001b[0m | \u001b[0m0.9584   \u001b[0m | \u001b[0m4.039    \u001b[0m | \u001b[0m24.98    \u001b[0m | \u001b[0m168.1    \u001b[0m | \u001b[0m0.8636   \u001b[0m |\n",
      "| \u001b[0m29       \u001b[0m | \u001b[0m0.8941   \u001b[0m | \u001b[0m0.8173   \u001b[0m | \u001b[0m2.996    \u001b[0m | \u001b[0m23.51    \u001b[0m | \u001b[0m173.8    \u001b[0m | \u001b[0m0.8883   \u001b[0m |\n",
      "| \u001b[0m30       \u001b[0m | \u001b[0m0.9795   \u001b[0m | \u001b[0m0.9788   \u001b[0m | \u001b[0m5.52     \u001b[0m | \u001b[0m24.67    \u001b[0m | \u001b[0m163.7    \u001b[0m | \u001b[0m0.8116   \u001b[0m |\n",
      "=====================================================================================\n"
     ]
    },
    {
     "data": {
      "text/plain": [
       "{'target': 0.98077682946104,\n",
       " 'params': {'colsample_bytree': 0.8825156866688096,\n",
       "  'max_depth': 9.22852569044181,\n",
       "  'min_child_samples': 18.187925142422635,\n",
       "  'num_leaves': 214.92095842701295,\n",
       "  'subsample': 0.9180263743786915}}"
      ]
     },
     "execution_count": 70,
     "metadata": {},
     "output_type": "execute_result"
    }
   ],
   "source": [
    "# 设置几个参数\n",
    "import lightgbm as lgb\n",
    "from sklearn.model_selection import cross_val_score,KFold\n",
    "from bayes_opt import BayesianOptimization\n",
    "def lgb_cv(colsample_bytree, min_child_samples, num_leaves, subsample, max_depth):\n",
    "    model = lgb.LGBMClassifier(boosting_type='gbdt',objective='binary',\n",
    "           colsample_bytree=float(colsample_bytree), learning_rate=0.01,\n",
    "           min_child_samples=int(min_child_samples), min_child_weight=0.001, \n",
    "           n_estimators=800, n_jobs=-1, num_leaves=int(num_leaves),\n",
    "           random_state=None, reg_alpha=0.0, reg_lambda=0.0,max_depth=int(max_depth),\n",
    "           subsample=float(subsample))\n",
    "    cv_score = cross_val_score(model, X_train, y_train, scoring=\"f1\", cv=5).mean()\n",
    "    return cv_score\n",
    "# 使用贝叶斯优化\n",
    "lgb_bo = BayesianOptimization(\n",
    "        lgb_cv,\n",
    "        {'colsample_bytree': (0.7,1),\n",
    "        'min_child_samples': (2, 25),\n",
    "        'num_leaves': (5, 250),\n",
    "        'subsample': (0.7, 1),\n",
    "        'max_depth':(2,10)}\n",
    "    )\n",
    "lgb_bo.maximize()\n",
    "lgb_bo.max"
   ]
  },
  {
   "cell_type": "code",
   "execution_count": 71,
   "id": "71500b0e-6dce-493e-bf67-537ce0b30c42",
   "metadata": {},
   "outputs": [
    {
     "data": {
      "text/plain": [
       "0.98077682946104"
      ]
     },
     "execution_count": 71,
     "metadata": {},
     "output_type": "execute_result"
    }
   ],
   "source": [
    "# 将优化好的参数带入进行使用 部分参数需要取整\n",
    "lgbm_clf  = lgb.LGBMClassifier(boosting_type='gbdt',objective='binary',\n",
    "           colsample_bytree=0.8825, learning_rate=0.01,\n",
    "           min_child_samples=18, min_child_weight=0.001, \n",
    "           n_estimators=800, n_jobs=-1, num_leaves=214,\n",
    "           random_state=None, reg_alpha=0.0, reg_lambda=0.0,max_depth= 9,\n",
    "           subsample=0.9180)\n",
    "cv_score = cross_val_score(lgbm_clf , X_train, y_train, scoring=\"f1\", cv=5).mean()\n",
    "cv_score"
   ]
  },
  {
   "cell_type": "code",
   "execution_count": 72,
   "id": "382c1535-ffe6-43c4-8920-ecf2e6f0b1c3",
   "metadata": {},
   "outputs": [],
   "source": [
    "lgbm_clf .fit(X_train, y_train)\n",
    "y_pred = lgbm_clf .predict(X_test)\n",
    "y_score = lgbm_clf .predict_proba(X_test)[:,1]"
   ]
  },
  {
   "cell_type": "markdown",
   "id": "4e2e3db8-129b-421d-ada2-7e3f2587691c",
   "metadata": {},
   "source": [
    "# 5.模型评价"
   ]
  },
  {
   "cell_type": "code",
   "execution_count": 66,
   "id": "46a7c12f-4e99-481a-bc02-31ebd0c656a7",
   "metadata": {},
   "outputs": [
    {
     "data": {
      "text/html": [
       "        <script type=\"text/javascript\">\n",
       "        window.PlotlyConfig = {MathJaxConfig: 'local'};\n",
       "        if (window.MathJax && window.MathJax.Hub && window.MathJax.Hub.Config) {window.MathJax.Hub.Config({SVG: {font: \"STIX-Web\"}});}\n",
       "        if (typeof require !== 'undefined') {\n",
       "        require.undef(\"plotly\");\n",
       "        requirejs.config({\n",
       "            paths: {\n",
       "                'plotly': ['https://cdn.plot.ly/plotly-2.12.1.min']\n",
       "            }\n",
       "        });\n",
       "        require(['plotly'], function(Plotly) {\n",
       "            window._Plotly = Plotly;\n",
       "        });\n",
       "        }\n",
       "        </script>\n",
       "        "
      ]
     },
     "metadata": {},
     "output_type": "display_data"
    }
   ],
   "source": [
    "from sklearn.metrics import precision_score, roc_auc_score, recall_score, confusion_matrix, roc_curve, precision_recall_curve, accuracy_score\n",
    "from scipy.stats import randint as sp_randint\n",
    "from scipy.stats import uniform as sp_uniform\n",
    "import plotly.offline as py\n",
    "py.init_notebook_mode(connected=True)\n",
    "import plotly.graph_objs as go\n",
    "import plotly.subplots as tls\n",
    "import plotly.figure_factory as ff\n",
    "import numpy as np"
   ]
  },
  {
   "cell_type": "code",
   "execution_count": 67,
   "id": "1e132e9a-4e89-41b3-9fc4-f246c2e1e63a",
   "metadata": {},
   "outputs": [],
   "source": [
    "def model_performance(model) : \n",
    "    #Conf matrix\n",
    "    conf_matrix = confusion_matrix(y_test, y_pred)\n",
    "    trace1 = go.Heatmap(z = conf_matrix  ,x = [\"0 (pred)\",\"1 (pred)\"],\n",
    "                        y = [\"0 (true)\",\"1 (true)\"],xgap = 2, ygap = 2, \n",
    "                        colorscale = 'Viridis', showscale  = False)\n",
    "\n",
    "    #Show metrics\n",
    "    tp = conf_matrix[1,1]\n",
    "    fn = conf_matrix[1,0]\n",
    "    fp = conf_matrix[0,1]\n",
    "    tn = conf_matrix[0,0]\n",
    "    Accuracy  =  ((tp+tn)/(tp+tn+fp+fn))\n",
    "    Precision =  (tp/(tp+fp))\n",
    "    Recall    =  (tp/(tp+fn))\n",
    "    F1_score  =  (2*(((tp/(tp+fp))*(tp/(tp+fn)))/((tp/(tp+fp))+(tp/(tp+fn)))))\n",
    "\n",
    "    show_metrics = pd.DataFrame(data=[[Accuracy , Precision, Recall, F1_score]])\n",
    "    show_metrics = show_metrics.T\n",
    "\n",
    "    colors = ['gold', 'lightgreen', 'lightcoral', 'lightskyblue']\n",
    "    trace2 = go.Bar(x = (show_metrics[0].values), \n",
    "                   y = ['Accuracy', 'Precision', 'Recall', 'F1_score'], text = np.round_(show_metrics[0].values,4),\n",
    "                    textposition = 'auto',\n",
    "                   orientation = 'h', opacity = 0.8,marker=dict(\n",
    "            color=colors,\n",
    "            line=dict(color='#000000',width=1.5)))\n",
    "    \n",
    "    #Roc curve\n",
    "    model_roc_auc = round(roc_auc_score(y_test, y_score) , 3)\n",
    "    fpr, tpr, t = roc_curve(y_test, y_score)\n",
    "    trace3 = go.Scatter(x = fpr,y = tpr,\n",
    "                        name = \"Roc : \" + str(model_roc_auc),\n",
    "                        line = dict(color = ('rgb(22, 96, 167)'),width = 2), fill='tozeroy')\n",
    "    trace4 = go.Scatter(x = [0,1],y = [0,1],\n",
    "                        line = dict(color = ('black'),width = 1.5,\n",
    "                        dash = 'dot'))\n",
    "    \n",
    "    # Precision-recall curve\n",
    "    precision, recall, thresholds = precision_recall_curve(y_test, y_score)\n",
    "    trace5 = go.Scatter(x = recall, y = precision,\n",
    "                        name = \"Precision\" + str(precision),\n",
    "                        line = dict(color = ('lightcoral'),width = 2), fill='tozeroy')\n",
    "    \n",
    "    #Feature importance\n",
    "    coefficients  = pd.DataFrame(eval(model).feature_importances_)\n",
    "    column_data   = pd.DataFrame(list(data))\n",
    "    coef_sumry    = (pd.merge(coefficients,column_data,left_index= True,\n",
    "                              right_index= True, how = \"left\"))\n",
    "    coef_sumry.columns = [\"coefficients\",\"features\"]\n",
    "    coef_sumry    = coef_sumry.sort_values(by = \"coefficients\",ascending = False)\n",
    "    coef_sumry = coef_sumry[coef_sumry[\"coefficients\"] !=0]\n",
    "    trace6 = go.Bar(x = coef_sumry[\"features\"],y = coef_sumry[\"coefficients\"],\n",
    "                    name = \"coefficients\",\n",
    "                    marker = dict(color = coef_sumry[\"coefficients\"],\n",
    "                                  colorscale = \"Viridis\",\n",
    "                                  line = dict(width = .6,color = \"black\")))\n",
    "    \n",
    "    #Cumulative gain\n",
    "    pos = np.array(pd.get_dummies(y_test))\n",
    "    pos = pos[:,1] \n",
    "    npos = np.sum(pos)\n",
    "    index = np.argsort(y_score) \n",
    "    index = index[::-1] \n",
    "    sort_pos = pos[index]\n",
    "    #cumulative sum\n",
    "    cpos = np.cumsum(sort_pos) \n",
    "    #recall\n",
    "    recall = cpos/npos \n",
    "    #size obs test\n",
    "    n = y_test.shape[0] \n",
    "    size = np.arange(start=1,stop=369,step=1) \n",
    "    #proportion\n",
    "    size = size / n \n",
    "    #plots\n",
    "    model = model\n",
    "    trace7 = go.Scatter(x = size,y = recall,\n",
    "                        name = \"Lift curve\",\n",
    "                        line = dict(color = ('gold'),width = 2), fill='tozeroy') \n",
    "    \n",
    "    #Subplots\n",
    "    fig = tls.make_subplots(rows=4, cols=2, print_grid=False, \n",
    "                          specs=[[{}, {}], \n",
    "                                 [{}, {}],\n",
    "                                 [{'colspan': 2}, None],\n",
    "                                 [{'colspan': 2}, None]],\n",
    "                          subplot_titles=('Confusion Matrix',\n",
    "                                        'Metrics',\n",
    "                                        'ROC curve'+\" \"+ '('+ str(model_roc_auc)+')',\n",
    "                                        'Precision - Recall curve',\n",
    "                                        'Cumulative gains curve',\n",
    "                                        'Feature importance',\n",
    "                                        ))\n",
    "    \n",
    "    fig.append_trace(trace1,1,1)\n",
    "    fig.append_trace(trace2,1,2)\n",
    "    fig.append_trace(trace3,2,1)\n",
    "    fig.append_trace(trace4,2,1)\n",
    "    fig.append_trace(trace5,2,2)\n",
    "    fig.append_trace(trace6,4,1)\n",
    "    fig.append_trace(trace7,3,1)\n",
    "    \n",
    "    # 图布局修正\n",
    "    fig['layout'].update(showlegend = False, title = '<b>Model performance report</b><br>'+str(model),\n",
    "                        autosize = False, height = 1500,width = 830,\n",
    "                        plot_bgcolor = 'rgba(240,240,240, 0.95)',\n",
    "                        paper_bgcolor = 'rgba(240,240,240, 0.95)',\n",
    "                        margin = dict(b = 195))\n",
    "    fig[\"layout\"][\"xaxis2\"].update((dict(range=[0, 1])))\n",
    "    fig[\"layout\"][\"xaxis3\"].update(dict(title = \"false positive rate\"))\n",
    "    fig[\"layout\"][\"yaxis3\"].update(dict(title = \"true positive rate\"))\n",
    "    fig[\"layout\"][\"xaxis4\"].update(dict(title = \"recall\"), range = [0,1.05])\n",
    "    fig[\"layout\"][\"yaxis4\"].update(dict(title = \"precision\"), range = [0,1.05])\n",
    "    fig[\"layout\"][\"xaxis5\"].update(dict(title = \"Percentage contacted\"))\n",
    "    fig[\"layout\"][\"yaxis5\"].update(dict(title = \"Percentage positive targeted\"))\n",
    "    fig.layout.titlefont.size = 14\n",
    "    \n",
    "    py.iplot(fig)"
   ]
  },
  {
   "cell_type": "code",
   "execution_count": 73,
   "id": "eeda2b4c-2795-4b5a-8b57-1e0fb581a002",
   "metadata": {},
   "outputs": [
    {
     "data": {
      "application/vnd.plotly.v1+json": {
       "config": {
        "linkText": "Export to plot.ly",
        "plotlyServerURL": "https://plot.ly",
        "showLink": false
       },
       "data": [
        {
         "colorscale": [
          [
           0,
           "#440154"
          ],
          [
           0.1111111111111111,
           "#482878"
          ],
          [
           0.2222222222222222,
           "#3e4989"
          ],
          [
           0.3333333333333333,
           "#31688e"
          ],
          [
           0.4444444444444444,
           "#26828e"
          ],
          [
           0.5555555555555556,
           "#1f9e89"
          ],
          [
           0.6666666666666666,
           "#35b779"
          ],
          [
           0.7777777777777778,
           "#6ece58"
          ],
          [
           0.8888888888888888,
           "#b5de2b"
          ],
          [
           1,
           "#fde725"
          ]
         ],
         "showscale": false,
         "type": "heatmap",
         "x": [
          "0 (pred)",
          "1 (pred)"
         ],
         "xaxis": "x",
         "xgap": 2,
         "y": [
          "0 (true)",
          "1 (true)"
         ],
         "yaxis": "y",
         "ygap": 2,
         "z": [
          [
           149,
           4
          ],
          [
           8,
           147
          ]
         ]
        },
        {
         "marker": {
          "color": [
           "gold",
           "lightgreen",
           "lightcoral",
           "lightskyblue"
          ],
          "line": {
           "color": "#000000",
           "width": 1.5
          }
         },
         "opacity": 0.8,
         "orientation": "h",
         "text": [
          0.961,
          0.9735,
          0.9484,
          0.9608
         ],
         "textposition": "auto",
         "type": "bar",
         "x": [
          0.961038961038961,
          0.9735099337748344,
          0.9483870967741935,
          0.9607843137254902
         ],
         "xaxis": "x2",
         "y": [
          "Accuracy",
          "Precision",
          "Recall",
          "F1_score"
         ],
         "yaxis": "y2"
        },
        {
         "fill": "tozeroy",
         "line": {
          "color": "rgb(22, 96, 167)",
          "width": 2
         },
         "name": "Roc : 0.979",
         "type": "scatter",
         "x": [
          0,
          0,
          0,
          0,
          0,
          0,
          0,
          0,
          0,
          0,
          0,
          0,
          0,
          0,
          0,
          0.026143790849673203,
          0.026143790849673203,
          0.026143790849673203,
          0.026143790849673203,
          0.026143790849673203,
          0.026143790849673203,
          0.026143790849673203,
          0.026143790849673203,
          0.026143790849673203,
          0.026143790849673203,
          0.026143790849673203,
          0.026143790849673203,
          0.026143790849673203,
          0.026143790849673203,
          0.026143790849673203,
          0.026143790849673203,
          0.026143790849673203,
          0.026143790849673203,
          0.026143790849673203,
          0.026143790849673203,
          0.026143790849673203,
          0.026143790849673203,
          0.026143790849673203,
          0.026143790849673203,
          0.026143790849673203,
          0.026143790849673203,
          0.026143790849673203,
          0.026143790849673203,
          0.026143790849673203,
          0.026143790849673203,
          0.026143790849673203,
          0.026143790849673203,
          0.026143790849673203,
          0.026143790849673203,
          0.026143790849673203,
          0.026143790849673203,
          0.026143790849673203,
          0.026143790849673203,
          0.026143790849673203,
          0.026143790849673203,
          0.026143790849673203,
          0.026143790849673203,
          0.026143790849673203,
          0.026143790849673203,
          0.026143790849673203,
          0.026143790849673203,
          0.026143790849673203,
          0.026143790849673203,
          0.0457516339869281,
          0.0457516339869281,
          0.08496732026143791,
          0.10457516339869281,
          0.11764705882352941,
          0.13071895424836602,
          0.16339869281045752,
          0.17647058823529413,
          0.1895424836601307,
          0.20915032679738563,
          0.21568627450980393,
          0.22875816993464052,
          0.23529411764705882,
          0.24836601307189543,
          0.28104575163398693,
          0.29411764705882354,
          0.30718954248366015,
          0.3202614379084967,
          0.32679738562091504,
          0.3464052287581699,
          0.35294117647058826,
          0.3660130718954248,
          0.39215686274509803,
          0.40522875816993464,
          0.41830065359477125,
          0.4444444444444444,
          0.46405228758169936,
          0.477124183006536,
          0.49019607843137253,
          0.5098039215686274,
          0.5228758169934641,
          0.5294117647058824,
          0.5490196078431373,
          0.5555555555555556,
          0.5686274509803921,
          0.5816993464052288,
          0.5947712418300654,
          0.6013071895424836,
          0.6143790849673203,
          0.6862745098039216,
          0.6993464052287581,
          0.7058823529411765,
          0.7254901960784313,
          0.738562091503268,
          0.7516339869281046,
          0.7647058823529411,
          0.7777777777777778,
          0.7908496732026143,
          0.803921568627451,
          0.8235294117647058,
          0.8366013071895425,
          0.8562091503267973,
          0.869281045751634,
          0.8888888888888888,
          0.9019607843137255,
          0.9084967320261438,
          0.9281045751633987,
          0.9411764705882353,
          0.9477124183006536,
          0.9607843137254902,
          0.9803921568627451,
          0.9934640522875817,
          1
         ],
         "xaxis": "x3",
         "y": [
          0,
          0.012903225806451613,
          0.025806451612903226,
          0.03870967741935484,
          0.05806451612903226,
          0.06451612903225806,
          0.07741935483870968,
          0.1032258064516129,
          0.12258064516129032,
          0.14193548387096774,
          0.15483870967741936,
          0.16774193548387098,
          0.17419354838709677,
          0.2,
          0.23225806451612904,
          0.23225806451612904,
          0.25161290322580643,
          0.2645161290322581,
          0.27741935483870966,
          0.2903225806451613,
          0.32903225806451614,
          0.3419354838709677,
          0.3548387096774194,
          0.38064516129032255,
          0.3935483870967742,
          0.4129032258064516,
          0.4258064516129032,
          0.432258064516129,
          0.44516129032258067,
          0.45161290322580644,
          0.4774193548387097,
          0.49032258064516127,
          0.5032258064516129,
          0.5290322580645161,
          0.5419354838709678,
          0.5612903225806452,
          0.5741935483870968,
          0.5870967741935483,
          0.6129032258064516,
          0.6193548387096774,
          0.632258064516129,
          0.6580645161290323,
          0.6709677419354839,
          0.6838709677419355,
          0.6967741935483871,
          0.7032258064516129,
          0.7161290322580646,
          0.7419354838709677,
          0.7548387096774194,
          0.7612903225806451,
          0.7741935483870968,
          0.7806451612903226,
          0.7935483870967742,
          0.8064516129032258,
          0.8193548387096774,
          0.8387096774193549,
          0.8516129032258064,
          0.8709677419354839,
          0.8838709677419355,
          0.9032258064516129,
          0.9290322580645162,
          0.9483870967741935,
          0.9741935483870968,
          0.9741935483870968,
          1,
          1,
          1,
          1,
          1,
          1,
          1,
          1,
          1,
          1,
          1,
          1,
          1,
          1,
          1,
          1,
          1,
          1,
          1,
          1,
          1,
          1,
          1,
          1,
          1,
          1,
          1,
          1,
          1,
          1,
          1,
          1,
          1,
          1,
          1,
          1,
          1,
          1,
          1,
          1,
          1,
          1,
          1,
          1,
          1,
          1,
          1,
          1,
          1,
          1,
          1,
          1,
          1,
          1,
          1,
          1,
          1,
          1,
          1,
          1,
          1,
          1
         ],
         "yaxis": "y3"
        },
        {
         "line": {
          "color": "black",
          "dash": "dot",
          "width": 1.5
         },
         "type": "scatter",
         "x": [
          0,
          1
         ],
         "xaxis": "x3",
         "y": [
          0,
          1
         ],
         "yaxis": "y3"
        },
        {
         "fill": "tozeroy",
         "line": {
          "color": "lightcoral",
          "width": 2
         },
         "name": "Precision[0.95679012 0.9556962  0.97419355 0.97350993 0.97297297 0.97260274\n 0.97222222 0.97202797 0.97183099 0.97163121 0.97122302 0.97101449\n 0.97080292 0.97058824 0.97014925 0.96992481 0.96969697 0.96946565\n 0.96899225 0.96875    0.96850394 0.968      0.96774194 0.96721311\n 0.96694215 0.96638655 0.96610169 0.96581197 0.96551724 0.96521739\n 0.96460177 0.96428571 0.96363636 0.96330275 0.96296296 0.96226415\n 0.96190476 0.96153846 0.96116505 0.96078431 0.96       0.95959596\n 0.95876289 0.95789474 0.95744681 0.95698925 0.95604396 0.95555556\n 0.95505618 0.95454545 0.95348837 0.95294118 0.95238095 0.95180723\n 0.95121951 0.95       0.94936709 0.94871795 0.94736842 0.94594595\n 0.94520548 0.94366197 0.94285714 0.94117647 0.93846154 0.9375\n 0.93650794 0.93442623 0.93220339 0.93103448 0.92982456 0.92727273\n 0.92592593 0.9245283  0.92307692 0.92156863 0.92       0.91836735\n 0.91489362 0.91304348 0.91111111 0.90697674 0.9047619  0.90243902\n 0.9        1.         1.         1.         1.         1.\n 1.         1.         1.         1.         1.         1.\n 1.         1.         1.         1.         1.         1.\n 1.         1.         1.         1.         1.         1.\n 1.        ]",
         "type": "scatter",
         "x": [
          1,
          0.9741935483870968,
          0.9741935483870968,
          0.9483870967741935,
          0.9290322580645162,
          0.9161290322580645,
          0.9032258064516129,
          0.896774193548387,
          0.8903225806451613,
          0.8838709677419355,
          0.8709677419354839,
          0.864516129032258,
          0.8580645161290322,
          0.8516129032258064,
          0.8387096774193549,
          0.832258064516129,
          0.8258064516129032,
          0.8193548387096774,
          0.8064516129032258,
          0.8,
          0.7935483870967742,
          0.7806451612903226,
          0.7741935483870968,
          0.7612903225806451,
          0.7548387096774194,
          0.7419354838709677,
          0.7354838709677419,
          0.7290322580645161,
          0.7225806451612903,
          0.7161290322580646,
          0.7032258064516129,
          0.6967741935483871,
          0.6838709677419355,
          0.6774193548387096,
          0.6709677419354839,
          0.6580645161290323,
          0.6516129032258065,
          0.6451612903225806,
          0.6387096774193548,
          0.632258064516129,
          0.6193548387096774,
          0.6129032258064516,
          0.6,
          0.5870967741935483,
          0.5806451612903226,
          0.5741935483870968,
          0.5612903225806452,
          0.5548387096774193,
          0.5483870967741935,
          0.5419354838709678,
          0.5290322580645161,
          0.5225806451612903,
          0.5161290322580645,
          0.5096774193548387,
          0.5032258064516129,
          0.49032258064516127,
          0.4838709677419355,
          0.4774193548387097,
          0.4645161290322581,
          0.45161290322580644,
          0.44516129032258067,
          0.432258064516129,
          0.4258064516129032,
          0.4129032258064516,
          0.3935483870967742,
          0.3870967741935484,
          0.38064516129032255,
          0.36774193548387096,
          0.3548387096774194,
          0.34838709677419355,
          0.3419354838709677,
          0.32903225806451614,
          0.3225806451612903,
          0.3161290322580645,
          0.3096774193548387,
          0.3032258064516129,
          0.2967741935483871,
          0.2903225806451613,
          0.27741935483870966,
          0.2709677419354839,
          0.2645161290322581,
          0.25161290322580643,
          0.24516129032258063,
          0.23870967741935484,
          0.23225806451612904,
          0.23225806451612904,
          0.22580645161290322,
          0.21935483870967742,
          0.2129032258064516,
          0.2064516129032258,
          0.2,
          0.1870967741935484,
          0.17419354838709677,
          0.16774193548387098,
          0.15483870967741936,
          0.14838709677419354,
          0.14193548387096774,
          0.12258064516129032,
          0.11612903225806452,
          0.10967741935483871,
          0.1032258064516129,
          0.07741935483870968,
          0.06451612903225806,
          0.05806451612903226,
          0.03870967741935484,
          0.025806451612903226,
          0.01935483870967742,
          0.012903225806451613,
          0
         ],
         "xaxis": "x4",
         "y": [
          0.9567901234567902,
          0.9556962025316456,
          0.9741935483870968,
          0.9735099337748344,
          0.972972972972973,
          0.9726027397260274,
          0.9722222222222222,
          0.972027972027972,
          0.971830985915493,
          0.9716312056737588,
          0.9712230215827338,
          0.9710144927536232,
          0.9708029197080292,
          0.9705882352941176,
          0.9701492537313433,
          0.9699248120300752,
          0.9696969696969697,
          0.9694656488549618,
          0.9689922480620154,
          0.96875,
          0.968503937007874,
          0.968,
          0.967741935483871,
          0.9672131147540983,
          0.9669421487603306,
          0.9663865546218487,
          0.9661016949152542,
          0.9658119658119658,
          0.9655172413793104,
          0.9652173913043478,
          0.9646017699115044,
          0.9642857142857143,
          0.9636363636363636,
          0.963302752293578,
          0.9629629629629629,
          0.9622641509433962,
          0.9619047619047619,
          0.9615384615384616,
          0.9611650485436893,
          0.9607843137254902,
          0.96,
          0.9595959595959596,
          0.9587628865979382,
          0.9578947368421052,
          0.9574468085106383,
          0.956989247311828,
          0.9560439560439561,
          0.9555555555555556,
          0.9550561797752809,
          0.9545454545454546,
          0.9534883720930233,
          0.9529411764705882,
          0.9523809523809523,
          0.9518072289156626,
          0.9512195121951219,
          0.95,
          0.9493670886075949,
          0.9487179487179487,
          0.9473684210526315,
          0.9459459459459459,
          0.9452054794520548,
          0.9436619718309859,
          0.9428571428571428,
          0.9411764705882353,
          0.9384615384615385,
          0.9375,
          0.9365079365079365,
          0.9344262295081968,
          0.9322033898305084,
          0.9310344827586207,
          0.9298245614035088,
          0.9272727272727272,
          0.9259259259259259,
          0.9245283018867925,
          0.9230769230769231,
          0.9215686274509803,
          0.92,
          0.9183673469387755,
          0.9148936170212766,
          0.9130434782608695,
          0.9111111111111111,
          0.9069767441860465,
          0.9047619047619048,
          0.9024390243902439,
          0.9,
          1,
          1,
          1,
          1,
          1,
          1,
          1,
          1,
          1,
          1,
          1,
          1,
          1,
          1,
          1,
          1,
          1,
          1,
          1,
          1,
          1,
          1,
          1,
          1
         ],
         "yaxis": "y4"
        },
        {
         "marker": {
          "color": [
           3710,
           3506,
           3266,
           2965,
           2550,
           1657,
           1154,
           982,
           613,
           566,
           543,
           504,
           492,
           409,
           336,
           288,
           250,
           249,
           207,
           135,
           133,
           95,
           64,
           55
          ],
          "colorscale": [
           [
            0,
            "#440154"
           ],
           [
            0.1111111111111111,
            "#482878"
           ],
           [
            0.2222222222222222,
            "#3e4989"
           ],
           [
            0.3333333333333333,
            "#31688e"
           ],
           [
            0.4444444444444444,
            "#26828e"
           ],
           [
            0.5555555555555556,
            "#1f9e89"
           ],
           [
            0.6666666666666666,
            "#35b779"
           ],
           [
            0.7777777777777778,
            "#6ece58"
           ],
           [
            0.8888888888888888,
            "#b5de2b"
           ],
           [
            1,
            "#fde725"
           ]
          ],
          "line": {
           "color": "black",
           "width": 0.6
          }
         },
         "name": "coefficients",
         "type": "bar",
         "x": [
          "trestbps",
          "age",
          "cp",
          "chol",
          "sex",
          "fbs",
          "ca",
          null,
          null,
          null,
          "slope",
          "restecg",
          null,
          null,
          "thalach",
          null,
          null,
          null,
          "oldpeak",
          "exang",
          "thal",
          "target",
          null,
          null
         ],
         "xaxis": "x6",
         "y": [
          3710,
          3506,
          3266,
          2965,
          2550,
          1657,
          1154,
          982,
          613,
          566,
          543,
          504,
          492,
          409,
          336,
          288,
          250,
          249,
          207,
          135,
          133,
          95,
          64,
          55
         ],
         "yaxis": "y6"
        },
        {
         "fill": "tozeroy",
         "line": {
          "color": "gold",
          "width": 2
         },
         "name": "Lift curve",
         "type": "scatter",
         "x": [
          0.003246753246753247,
          0.006493506493506494,
          0.00974025974025974,
          0.012987012987012988,
          0.016233766233766232,
          0.01948051948051948,
          0.022727272727272728,
          0.025974025974025976,
          0.02922077922077922,
          0.032467532467532464,
          0.03571428571428571,
          0.03896103896103896,
          0.04220779220779221,
          0.045454545454545456,
          0.048701298701298704,
          0.05194805194805195,
          0.05519480519480519,
          0.05844155844155844,
          0.06168831168831169,
          0.06493506493506493,
          0.06818181818181818,
          0.07142857142857142,
          0.07467532467532467,
          0.07792207792207792,
          0.08116883116883117,
          0.08441558441558442,
          0.08766233766233766,
          0.09090909090909091,
          0.09415584415584416,
          0.09740259740259741,
          0.10064935064935066,
          0.1038961038961039,
          0.10714285714285714,
          0.11038961038961038,
          0.11363636363636363,
          0.11688311688311688,
          0.12012987012987013,
          0.12337662337662338,
          0.1266233766233766,
          0.12987012987012986,
          0.1331168831168831,
          0.13636363636363635,
          0.1396103896103896,
          0.14285714285714285,
          0.1461038961038961,
          0.14935064935064934,
          0.1525974025974026,
          0.15584415584415584,
          0.1590909090909091,
          0.16233766233766234,
          0.16558441558441558,
          0.16883116883116883,
          0.17207792207792208,
          0.17532467532467533,
          0.17857142857142858,
          0.18181818181818182,
          0.18506493506493507,
          0.18831168831168832,
          0.19155844155844157,
          0.19480519480519481,
          0.19805194805194806,
          0.2012987012987013,
          0.20454545454545456,
          0.2077922077922078,
          0.21103896103896103,
          0.21428571428571427,
          0.21753246753246752,
          0.22077922077922077,
          0.22402597402597402,
          0.22727272727272727,
          0.2305194805194805,
          0.23376623376623376,
          0.237012987012987,
          0.24025974025974026,
          0.2435064935064935,
          0.24675324675324675,
          0.25,
          0.2532467532467532,
          0.2564935064935065,
          0.2597402597402597,
          0.262987012987013,
          0.2662337662337662,
          0.2694805194805195,
          0.2727272727272727,
          0.275974025974026,
          0.2792207792207792,
          0.2824675324675325,
          0.2857142857142857,
          0.288961038961039,
          0.2922077922077922,
          0.29545454545454547,
          0.2987012987012987,
          0.30194805194805197,
          0.3051948051948052,
          0.30844155844155846,
          0.3116883116883117,
          0.31493506493506496,
          0.3181818181818182,
          0.32142857142857145,
          0.3246753246753247,
          0.32792207792207795,
          0.33116883116883117,
          0.3344155844155844,
          0.33766233766233766,
          0.3409090909090909,
          0.34415584415584416,
          0.3474025974025974,
          0.35064935064935066,
          0.3538961038961039,
          0.35714285714285715,
          0.36038961038961037,
          0.36363636363636365,
          0.36688311688311687,
          0.37012987012987014,
          0.37337662337662336,
          0.37662337662337664,
          0.37987012987012986,
          0.38311688311688313,
          0.38636363636363635,
          0.38961038961038963,
          0.39285714285714285,
          0.3961038961038961,
          0.39935064935064934,
          0.4025974025974026,
          0.40584415584415584,
          0.4090909090909091,
          0.41233766233766234,
          0.4155844155844156,
          0.41883116883116883,
          0.42207792207792205,
          0.4253246753246753,
          0.42857142857142855,
          0.4318181818181818,
          0.43506493506493504,
          0.4383116883116883,
          0.44155844155844154,
          0.4448051948051948,
          0.44805194805194803,
          0.4512987012987013,
          0.45454545454545453,
          0.4577922077922078,
          0.461038961038961,
          0.4642857142857143,
          0.4675324675324675,
          0.4707792207792208,
          0.474025974025974,
          0.4772727272727273,
          0.4805194805194805,
          0.4837662337662338,
          0.487012987012987,
          0.4902597402597403,
          0.4935064935064935,
          0.4967532467532468,
          0.5,
          0.5032467532467533,
          0.5064935064935064,
          0.5097402597402597,
          0.512987012987013,
          0.5162337662337663,
          0.5194805194805194,
          0.5227272727272727,
          0.525974025974026,
          0.5292207792207793,
          0.5324675324675324,
          0.5357142857142857,
          0.538961038961039,
          0.5422077922077922,
          0.5454545454545454,
          0.5487012987012987,
          0.551948051948052,
          0.5551948051948052,
          0.5584415584415584,
          0.5616883116883117,
          0.564935064935065,
          0.5681818181818182,
          0.5714285714285714,
          0.5746753246753247,
          0.577922077922078,
          0.5811688311688312,
          0.5844155844155844,
          0.5876623376623377,
          0.5909090909090909,
          0.5941558441558441,
          0.5974025974025974,
          0.6006493506493507,
          0.6038961038961039,
          0.6071428571428571,
          0.6103896103896104,
          0.6136363636363636,
          0.6168831168831169,
          0.6201298701298701,
          0.6233766233766234,
          0.6266233766233766,
          0.6298701298701299,
          0.6331168831168831,
          0.6363636363636364,
          0.6396103896103896,
          0.6428571428571429,
          0.6461038961038961,
          0.6493506493506493,
          0.6525974025974026,
          0.6558441558441559,
          0.6590909090909091,
          0.6623376623376623,
          0.6655844155844156,
          0.6688311688311688,
          0.672077922077922,
          0.6753246753246753,
          0.6785714285714286,
          0.6818181818181818,
          0.685064935064935,
          0.6883116883116883,
          0.6915584415584416,
          0.6948051948051948,
          0.698051948051948,
          0.7012987012987013,
          0.7045454545454546,
          0.7077922077922078,
          0.711038961038961,
          0.7142857142857143,
          0.7175324675324676,
          0.7207792207792207,
          0.724025974025974,
          0.7272727272727273,
          0.7305194805194806,
          0.7337662337662337,
          0.737012987012987,
          0.7402597402597403,
          0.7435064935064936,
          0.7467532467532467,
          0.75,
          0.7532467532467533,
          0.7564935064935064,
          0.7597402597402597,
          0.762987012987013,
          0.7662337662337663,
          0.7694805194805194,
          0.7727272727272727,
          0.775974025974026,
          0.7792207792207793,
          0.7824675324675324,
          0.7857142857142857,
          0.788961038961039,
          0.7922077922077922,
          0.7954545454545454,
          0.7987012987012987,
          0.801948051948052,
          0.8051948051948052,
          0.8084415584415584,
          0.8116883116883117,
          0.814935064935065,
          0.8181818181818182,
          0.8214285714285714,
          0.8246753246753247,
          0.827922077922078,
          0.8311688311688312,
          0.8344155844155844,
          0.8376623376623377,
          0.8409090909090909,
          0.8441558441558441,
          0.8474025974025974,
          0.8506493506493507,
          0.8538961038961039,
          0.8571428571428571,
          0.8603896103896104,
          0.8636363636363636,
          0.8668831168831169,
          0.8701298701298701,
          0.8733766233766234,
          0.8766233766233766,
          0.8798701298701299,
          0.8831168831168831,
          0.8863636363636364,
          0.8896103896103896,
          0.8928571428571429,
          0.8961038961038961,
          0.8993506493506493,
          0.9025974025974026,
          0.9058441558441559,
          0.9090909090909091,
          0.9123376623376623,
          0.9155844155844156,
          0.9188311688311688,
          0.922077922077922,
          0.9253246753246753,
          0.9285714285714286,
          0.9318181818181818,
          0.935064935064935,
          0.9383116883116883,
          0.9415584415584416,
          0.9448051948051948,
          0.948051948051948,
          0.9512987012987013,
          0.9545454545454546,
          0.9577922077922078,
          0.961038961038961,
          0.9642857142857143,
          0.9675324675324676,
          0.9707792207792207,
          0.974025974025974,
          0.9772727272727273,
          0.9805194805194806,
          0.9837662337662337,
          0.987012987012987,
          0.9902597402597403,
          0.9935064935064936,
          0.9967532467532467,
          1,
          1.0032467532467533,
          1.0064935064935066,
          1.0097402597402598,
          1.0129870129870129,
          1.0162337662337662,
          1.0194805194805194,
          1.0227272727272727,
          1.025974025974026,
          1.0292207792207793,
          1.0324675324675325,
          1.0357142857142858,
          1.0389610389610389,
          1.0422077922077921,
          1.0454545454545454,
          1.0487012987012987,
          1.051948051948052,
          1.0551948051948052,
          1.0584415584415585,
          1.0616883116883118,
          1.0649350649350648,
          1.0681818181818181,
          1.0714285714285714,
          1.0746753246753247,
          1.077922077922078,
          1.0811688311688312,
          1.0844155844155845,
          1.0876623376623376,
          1.0909090909090908,
          1.094155844155844,
          1.0974025974025974,
          1.1006493506493507,
          1.103896103896104,
          1.1071428571428572,
          1.1103896103896105,
          1.1136363636363635,
          1.1168831168831168,
          1.12012987012987,
          1.1233766233766234,
          1.1266233766233766,
          1.12987012987013,
          1.1331168831168832,
          1.1363636363636365,
          1.1396103896103895,
          1.1428571428571428,
          1.146103896103896,
          1.1493506493506493,
          1.1525974025974026,
          1.155844155844156,
          1.1590909090909092,
          1.1623376623376624,
          1.1655844155844155,
          1.1688311688311688,
          1.172077922077922,
          1.1753246753246753,
          1.1785714285714286,
          1.1818181818181819,
          1.1850649350649352,
          1.1883116883116882,
          1.1915584415584415,
          1.1948051948051948
         ],
         "xaxis": "x5",
         "y": [
          0.0064516129032258064,
          0.012903225806451613,
          0.01935483870967742,
          0.025806451612903226,
          0.03225806451612903,
          0.03870967741935484,
          0.04516129032258064,
          0.05161290322580645,
          0.05806451612903226,
          0.06451612903225806,
          0.07096774193548387,
          0.07741935483870968,
          0.08387096774193549,
          0.09032258064516129,
          0.0967741935483871,
          0.1032258064516129,
          0.10967741935483871,
          0.11612903225806452,
          0.12258064516129032,
          0.12903225806451613,
          0.13548387096774195,
          0.14193548387096774,
          0.14838709677419354,
          0.15483870967741936,
          0.16129032258064516,
          0.16774193548387098,
          0.17419354838709677,
          0.18064516129032257,
          0.1870967741935484,
          0.1935483870967742,
          0.2,
          0.2064516129032258,
          0.2129032258064516,
          0.21935483870967742,
          0.22580645161290322,
          0.23225806451612904,
          0.23225806451612904,
          0.23225806451612904,
          0.23225806451612904,
          0.23225806451612904,
          0.23870967741935484,
          0.24516129032258063,
          0.25161290322580643,
          0.25806451612903225,
          0.2645161290322581,
          0.2709677419354839,
          0.27741935483870966,
          0.2838709677419355,
          0.2903225806451613,
          0.2967741935483871,
          0.3032258064516129,
          0.3096774193548387,
          0.3161290322580645,
          0.3225806451612903,
          0.32903225806451614,
          0.33548387096774196,
          0.3419354838709677,
          0.34838709677419355,
          0.3548387096774194,
          0.36129032258064514,
          0.36774193548387096,
          0.3741935483870968,
          0.38064516129032255,
          0.3870967741935484,
          0.3935483870967742,
          0.4,
          0.4064516129032258,
          0.4129032258064516,
          0.41935483870967744,
          0.4258064516129032,
          0.432258064516129,
          0.43870967741935485,
          0.44516129032258067,
          0.45161290322580644,
          0.45806451612903226,
          0.4645161290322581,
          0.47096774193548385,
          0.4774193548387097,
          0.4838709677419355,
          0.49032258064516127,
          0.4967741935483871,
          0.5032258064516129,
          0.5096774193548387,
          0.5161290322580645,
          0.5225806451612903,
          0.5290322580645161,
          0.535483870967742,
          0.5419354838709678,
          0.5483870967741935,
          0.5548387096774193,
          0.5612903225806452,
          0.567741935483871,
          0.5741935483870968,
          0.5806451612903226,
          0.5870967741935483,
          0.5935483870967742,
          0.6,
          0.6064516129032258,
          0.6129032258064516,
          0.6193548387096774,
          0.6258064516129033,
          0.632258064516129,
          0.6387096774193548,
          0.6451612903225806,
          0.6516129032258065,
          0.6580645161290323,
          0.6645161290322581,
          0.6709677419354839,
          0.6774193548387096,
          0.6838709677419355,
          0.6903225806451613,
          0.6967741935483871,
          0.7032258064516129,
          0.7096774193548387,
          0.7161290322580646,
          0.7225806451612903,
          0.7290322580645161,
          0.7354838709677419,
          0.7419354838709677,
          0.7483870967741936,
          0.7548387096774194,
          0.7612903225806451,
          0.7677419354838709,
          0.7741935483870968,
          0.7806451612903226,
          0.7870967741935484,
          0.7935483870967742,
          0.8,
          0.8064516129032258,
          0.8129032258064516,
          0.8193548387096774,
          0.8258064516129032,
          0.832258064516129,
          0.8387096774193549,
          0.8451612903225807,
          0.8516129032258064,
          0.8580645161290322,
          0.864516129032258,
          0.8709677419354839,
          0.8774193548387097,
          0.8838709677419355,
          0.8903225806451613,
          0.896774193548387,
          0.9032258064516129,
          0.9096774193548387,
          0.9161290322580645,
          0.9225806451612903,
          0.9290322580645162,
          0.9354838709677419,
          0.9419354838709677,
          0.9483870967741935,
          0.9548387096774194,
          0.9612903225806452,
          0.967741935483871,
          0.9741935483870968,
          0.9741935483870968,
          0.9741935483870968,
          0.9741935483870968,
          0.9806451612903225,
          0.9870967741935484,
          0.9935483870967742,
          1,
          1,
          1,
          1,
          1,
          1,
          1,
          1,
          1,
          1,
          1,
          1,
          1,
          1,
          1,
          1,
          1,
          1,
          1,
          1,
          1,
          1,
          1,
          1,
          1,
          1,
          1,
          1,
          1,
          1,
          1,
          1,
          1,
          1,
          1,
          1,
          1,
          1,
          1,
          1,
          1,
          1,
          1,
          1,
          1,
          1,
          1,
          1,
          1,
          1,
          1,
          1,
          1,
          1,
          1,
          1,
          1,
          1,
          1,
          1,
          1,
          1,
          1,
          1,
          1,
          1,
          1,
          1,
          1,
          1,
          1,
          1,
          1,
          1,
          1,
          1,
          1,
          1,
          1,
          1,
          1,
          1,
          1,
          1,
          1,
          1,
          1,
          1,
          1,
          1,
          1,
          1,
          1,
          1,
          1,
          1,
          1,
          1,
          1,
          1,
          1,
          1,
          1,
          1,
          1,
          1,
          1,
          1,
          1,
          1,
          1,
          1,
          1,
          1,
          1,
          1,
          1,
          1,
          1,
          1,
          1,
          1,
          1,
          1,
          1,
          1,
          1,
          1,
          1,
          1,
          1,
          1,
          1,
          1,
          1,
          1,
          1,
          1,
          1,
          1,
          1,
          1,
          1,
          1,
          1,
          1,
          1
         ],
         "yaxis": "y5"
        }
       ],
       "layout": {
        "annotations": [
         {
          "font": {
           "size": 16
          },
          "showarrow": false,
          "text": "Confusion Matrix",
          "x": 0.225,
          "xanchor": "center",
          "xref": "paper",
          "y": 1,
          "yanchor": "bottom",
          "yref": "paper"
         },
         {
          "font": {
           "size": 16
          },
          "showarrow": false,
          "text": "Metrics",
          "x": 0.775,
          "xanchor": "center",
          "xref": "paper",
          "y": 1,
          "yanchor": "bottom",
          "yref": "paper"
         },
         {
          "font": {
           "size": 16
          },
          "showarrow": false,
          "text": "ROC curve (0.979)",
          "x": 0.225,
          "xanchor": "center",
          "xref": "paper",
          "y": 0.71875,
          "yanchor": "bottom",
          "yref": "paper"
         },
         {
          "font": {
           "size": 16
          },
          "showarrow": false,
          "text": "Precision - Recall curve",
          "x": 0.775,
          "xanchor": "center",
          "xref": "paper",
          "y": 0.71875,
          "yanchor": "bottom",
          "yref": "paper"
         },
         {
          "font": {
           "size": 16
          },
          "showarrow": false,
          "text": "Cumulative gains curve",
          "x": 0.5,
          "xanchor": "center",
          "xref": "paper",
          "y": 0.4375,
          "yanchor": "bottom",
          "yref": "paper"
         },
         {
          "font": {
           "size": 16
          },
          "showarrow": false,
          "text": "Feature importance",
          "x": 0.5,
          "xanchor": "center",
          "xref": "paper",
          "y": 0.15625,
          "yanchor": "bottom",
          "yref": "paper"
         }
        ],
        "autosize": false,
        "height": 1500,
        "margin": {
         "b": 195
        },
        "paper_bgcolor": "rgba(240,240,240, 0.95)",
        "plot_bgcolor": "rgba(240,240,240, 0.95)",
        "showlegend": false,
        "template": {
         "data": {
          "bar": [
           {
            "error_x": {
             "color": "#2a3f5f"
            },
            "error_y": {
             "color": "#2a3f5f"
            },
            "marker": {
             "line": {
              "color": "#E5ECF6",
              "width": 0.5
             },
             "pattern": {
              "fillmode": "overlay",
              "size": 10,
              "solidity": 0.2
             }
            },
            "type": "bar"
           }
          ],
          "barpolar": [
           {
            "marker": {
             "line": {
              "color": "#E5ECF6",
              "width": 0.5
             },
             "pattern": {
              "fillmode": "overlay",
              "size": 10,
              "solidity": 0.2
             }
            },
            "type": "barpolar"
           }
          ],
          "carpet": [
           {
            "aaxis": {
             "endlinecolor": "#2a3f5f",
             "gridcolor": "white",
             "linecolor": "white",
             "minorgridcolor": "white",
             "startlinecolor": "#2a3f5f"
            },
            "baxis": {
             "endlinecolor": "#2a3f5f",
             "gridcolor": "white",
             "linecolor": "white",
             "minorgridcolor": "white",
             "startlinecolor": "#2a3f5f"
            },
            "type": "carpet"
           }
          ],
          "choropleth": [
           {
            "colorbar": {
             "outlinewidth": 0,
             "ticks": ""
            },
            "type": "choropleth"
           }
          ],
          "contour": [
           {
            "colorbar": {
             "outlinewidth": 0,
             "ticks": ""
            },
            "colorscale": [
             [
              0,
              "#0d0887"
             ],
             [
              0.1111111111111111,
              "#46039f"
             ],
             [
              0.2222222222222222,
              "#7201a8"
             ],
             [
              0.3333333333333333,
              "#9c179e"
             ],
             [
              0.4444444444444444,
              "#bd3786"
             ],
             [
              0.5555555555555556,
              "#d8576b"
             ],
             [
              0.6666666666666666,
              "#ed7953"
             ],
             [
              0.7777777777777778,
              "#fb9f3a"
             ],
             [
              0.8888888888888888,
              "#fdca26"
             ],
             [
              1,
              "#f0f921"
             ]
            ],
            "type": "contour"
           }
          ],
          "contourcarpet": [
           {
            "colorbar": {
             "outlinewidth": 0,
             "ticks": ""
            },
            "type": "contourcarpet"
           }
          ],
          "heatmap": [
           {
            "colorbar": {
             "outlinewidth": 0,
             "ticks": ""
            },
            "colorscale": [
             [
              0,
              "#0d0887"
             ],
             [
              0.1111111111111111,
              "#46039f"
             ],
             [
              0.2222222222222222,
              "#7201a8"
             ],
             [
              0.3333333333333333,
              "#9c179e"
             ],
             [
              0.4444444444444444,
              "#bd3786"
             ],
             [
              0.5555555555555556,
              "#d8576b"
             ],
             [
              0.6666666666666666,
              "#ed7953"
             ],
             [
              0.7777777777777778,
              "#fb9f3a"
             ],
             [
              0.8888888888888888,
              "#fdca26"
             ],
             [
              1,
              "#f0f921"
             ]
            ],
            "type": "heatmap"
           }
          ],
          "heatmapgl": [
           {
            "colorbar": {
             "outlinewidth": 0,
             "ticks": ""
            },
            "colorscale": [
             [
              0,
              "#0d0887"
             ],
             [
              0.1111111111111111,
              "#46039f"
             ],
             [
              0.2222222222222222,
              "#7201a8"
             ],
             [
              0.3333333333333333,
              "#9c179e"
             ],
             [
              0.4444444444444444,
              "#bd3786"
             ],
             [
              0.5555555555555556,
              "#d8576b"
             ],
             [
              0.6666666666666666,
              "#ed7953"
             ],
             [
              0.7777777777777778,
              "#fb9f3a"
             ],
             [
              0.8888888888888888,
              "#fdca26"
             ],
             [
              1,
              "#f0f921"
             ]
            ],
            "type": "heatmapgl"
           }
          ],
          "histogram": [
           {
            "marker": {
             "pattern": {
              "fillmode": "overlay",
              "size": 10,
              "solidity": 0.2
             }
            },
            "type": "histogram"
           }
          ],
          "histogram2d": [
           {
            "colorbar": {
             "outlinewidth": 0,
             "ticks": ""
            },
            "colorscale": [
             [
              0,
              "#0d0887"
             ],
             [
              0.1111111111111111,
              "#46039f"
             ],
             [
              0.2222222222222222,
              "#7201a8"
             ],
             [
              0.3333333333333333,
              "#9c179e"
             ],
             [
              0.4444444444444444,
              "#bd3786"
             ],
             [
              0.5555555555555556,
              "#d8576b"
             ],
             [
              0.6666666666666666,
              "#ed7953"
             ],
             [
              0.7777777777777778,
              "#fb9f3a"
             ],
             [
              0.8888888888888888,
              "#fdca26"
             ],
             [
              1,
              "#f0f921"
             ]
            ],
            "type": "histogram2d"
           }
          ],
          "histogram2dcontour": [
           {
            "colorbar": {
             "outlinewidth": 0,
             "ticks": ""
            },
            "colorscale": [
             [
              0,
              "#0d0887"
             ],
             [
              0.1111111111111111,
              "#46039f"
             ],
             [
              0.2222222222222222,
              "#7201a8"
             ],
             [
              0.3333333333333333,
              "#9c179e"
             ],
             [
              0.4444444444444444,
              "#bd3786"
             ],
             [
              0.5555555555555556,
              "#d8576b"
             ],
             [
              0.6666666666666666,
              "#ed7953"
             ],
             [
              0.7777777777777778,
              "#fb9f3a"
             ],
             [
              0.8888888888888888,
              "#fdca26"
             ],
             [
              1,
              "#f0f921"
             ]
            ],
            "type": "histogram2dcontour"
           }
          ],
          "mesh3d": [
           {
            "colorbar": {
             "outlinewidth": 0,
             "ticks": ""
            },
            "type": "mesh3d"
           }
          ],
          "parcoords": [
           {
            "line": {
             "colorbar": {
              "outlinewidth": 0,
              "ticks": ""
             }
            },
            "type": "parcoords"
           }
          ],
          "pie": [
           {
            "automargin": true,
            "type": "pie"
           }
          ],
          "scatter": [
           {
            "fillpattern": {
             "fillmode": "overlay",
             "size": 10,
             "solidity": 0.2
            },
            "type": "scatter"
           }
          ],
          "scatter3d": [
           {
            "line": {
             "colorbar": {
              "outlinewidth": 0,
              "ticks": ""
             }
            },
            "marker": {
             "colorbar": {
              "outlinewidth": 0,
              "ticks": ""
             }
            },
            "type": "scatter3d"
           }
          ],
          "scattercarpet": [
           {
            "marker": {
             "colorbar": {
              "outlinewidth": 0,
              "ticks": ""
             }
            },
            "type": "scattercarpet"
           }
          ],
          "scattergeo": [
           {
            "marker": {
             "colorbar": {
              "outlinewidth": 0,
              "ticks": ""
             }
            },
            "type": "scattergeo"
           }
          ],
          "scattergl": [
           {
            "marker": {
             "colorbar": {
              "outlinewidth": 0,
              "ticks": ""
             }
            },
            "type": "scattergl"
           }
          ],
          "scattermapbox": [
           {
            "marker": {
             "colorbar": {
              "outlinewidth": 0,
              "ticks": ""
             }
            },
            "type": "scattermapbox"
           }
          ],
          "scatterpolar": [
           {
            "marker": {
             "colorbar": {
              "outlinewidth": 0,
              "ticks": ""
             }
            },
            "type": "scatterpolar"
           }
          ],
          "scatterpolargl": [
           {
            "marker": {
             "colorbar": {
              "outlinewidth": 0,
              "ticks": ""
             }
            },
            "type": "scatterpolargl"
           }
          ],
          "scatterternary": [
           {
            "marker": {
             "colorbar": {
              "outlinewidth": 0,
              "ticks": ""
             }
            },
            "type": "scatterternary"
           }
          ],
          "surface": [
           {
            "colorbar": {
             "outlinewidth": 0,
             "ticks": ""
            },
            "colorscale": [
             [
              0,
              "#0d0887"
             ],
             [
              0.1111111111111111,
              "#46039f"
             ],
             [
              0.2222222222222222,
              "#7201a8"
             ],
             [
              0.3333333333333333,
              "#9c179e"
             ],
             [
              0.4444444444444444,
              "#bd3786"
             ],
             [
              0.5555555555555556,
              "#d8576b"
             ],
             [
              0.6666666666666666,
              "#ed7953"
             ],
             [
              0.7777777777777778,
              "#fb9f3a"
             ],
             [
              0.8888888888888888,
              "#fdca26"
             ],
             [
              1,
              "#f0f921"
             ]
            ],
            "type": "surface"
           }
          ],
          "table": [
           {
            "cells": {
             "fill": {
              "color": "#EBF0F8"
             },
             "line": {
              "color": "white"
             }
            },
            "header": {
             "fill": {
              "color": "#C8D4E3"
             },
             "line": {
              "color": "white"
             }
            },
            "type": "table"
           }
          ]
         },
         "layout": {
          "annotationdefaults": {
           "arrowcolor": "#2a3f5f",
           "arrowhead": 0,
           "arrowwidth": 1
          },
          "autotypenumbers": "strict",
          "coloraxis": {
           "colorbar": {
            "outlinewidth": 0,
            "ticks": ""
           }
          },
          "colorscale": {
           "diverging": [
            [
             0,
             "#8e0152"
            ],
            [
             0.1,
             "#c51b7d"
            ],
            [
             0.2,
             "#de77ae"
            ],
            [
             0.3,
             "#f1b6da"
            ],
            [
             0.4,
             "#fde0ef"
            ],
            [
             0.5,
             "#f7f7f7"
            ],
            [
             0.6,
             "#e6f5d0"
            ],
            [
             0.7,
             "#b8e186"
            ],
            [
             0.8,
             "#7fbc41"
            ],
            [
             0.9,
             "#4d9221"
            ],
            [
             1,
             "#276419"
            ]
           ],
           "sequential": [
            [
             0,
             "#0d0887"
            ],
            [
             0.1111111111111111,
             "#46039f"
            ],
            [
             0.2222222222222222,
             "#7201a8"
            ],
            [
             0.3333333333333333,
             "#9c179e"
            ],
            [
             0.4444444444444444,
             "#bd3786"
            ],
            [
             0.5555555555555556,
             "#d8576b"
            ],
            [
             0.6666666666666666,
             "#ed7953"
            ],
            [
             0.7777777777777778,
             "#fb9f3a"
            ],
            [
             0.8888888888888888,
             "#fdca26"
            ],
            [
             1,
             "#f0f921"
            ]
           ],
           "sequentialminus": [
            [
             0,
             "#0d0887"
            ],
            [
             0.1111111111111111,
             "#46039f"
            ],
            [
             0.2222222222222222,
             "#7201a8"
            ],
            [
             0.3333333333333333,
             "#9c179e"
            ],
            [
             0.4444444444444444,
             "#bd3786"
            ],
            [
             0.5555555555555556,
             "#d8576b"
            ],
            [
             0.6666666666666666,
             "#ed7953"
            ],
            [
             0.7777777777777778,
             "#fb9f3a"
            ],
            [
             0.8888888888888888,
             "#fdca26"
            ],
            [
             1,
             "#f0f921"
            ]
           ]
          },
          "colorway": [
           "#636efa",
           "#EF553B",
           "#00cc96",
           "#ab63fa",
           "#FFA15A",
           "#19d3f3",
           "#FF6692",
           "#B6E880",
           "#FF97FF",
           "#FECB52"
          ],
          "font": {
           "color": "#2a3f5f"
          },
          "geo": {
           "bgcolor": "white",
           "lakecolor": "white",
           "landcolor": "#E5ECF6",
           "showlakes": true,
           "showland": true,
           "subunitcolor": "white"
          },
          "hoverlabel": {
           "align": "left"
          },
          "hovermode": "closest",
          "mapbox": {
           "style": "light"
          },
          "paper_bgcolor": "white",
          "plot_bgcolor": "#E5ECF6",
          "polar": {
           "angularaxis": {
            "gridcolor": "white",
            "linecolor": "white",
            "ticks": ""
           },
           "bgcolor": "#E5ECF6",
           "radialaxis": {
            "gridcolor": "white",
            "linecolor": "white",
            "ticks": ""
           }
          },
          "scene": {
           "xaxis": {
            "backgroundcolor": "#E5ECF6",
            "gridcolor": "white",
            "gridwidth": 2,
            "linecolor": "white",
            "showbackground": true,
            "ticks": "",
            "zerolinecolor": "white"
           },
           "yaxis": {
            "backgroundcolor": "#E5ECF6",
            "gridcolor": "white",
            "gridwidth": 2,
            "linecolor": "white",
            "showbackground": true,
            "ticks": "",
            "zerolinecolor": "white"
           },
           "zaxis": {
            "backgroundcolor": "#E5ECF6",
            "gridcolor": "white",
            "gridwidth": 2,
            "linecolor": "white",
            "showbackground": true,
            "ticks": "",
            "zerolinecolor": "white"
           }
          },
          "shapedefaults": {
           "line": {
            "color": "#2a3f5f"
           }
          },
          "ternary": {
           "aaxis": {
            "gridcolor": "white",
            "linecolor": "white",
            "ticks": ""
           },
           "baxis": {
            "gridcolor": "white",
            "linecolor": "white",
            "ticks": ""
           },
           "bgcolor": "#E5ECF6",
           "caxis": {
            "gridcolor": "white",
            "linecolor": "white",
            "ticks": ""
           }
          },
          "title": {
           "x": 0.05
          },
          "xaxis": {
           "automargin": true,
           "gridcolor": "white",
           "linecolor": "white",
           "ticks": "",
           "title": {
            "standoff": 15
           },
           "zerolinecolor": "white",
           "zerolinewidth": 2
          },
          "yaxis": {
           "automargin": true,
           "gridcolor": "white",
           "linecolor": "white",
           "ticks": "",
           "title": {
            "standoff": 15
           },
           "zerolinecolor": "white",
           "zerolinewidth": 2
          }
         }
        },
        "title": {
         "font": {
          "size": 14
         },
         "text": "<b>Model performance report</b><br>lgbm_clf "
        },
        "width": 830,
        "xaxis": {
         "anchor": "y",
         "autorange": true,
         "domain": [
          0,
          0.45
         ],
         "range": [
          -0.5,
          1.5
         ],
         "type": "category"
        },
        "xaxis2": {
         "anchor": "y2",
         "domain": [
          0.55,
          1
         ],
         "range": [
          0,
          1
         ],
         "type": "linear"
        },
        "xaxis3": {
         "anchor": "y3",
         "autorange": true,
         "domain": [
          0,
          0.45
         ],
         "range": [
          -0.07134735645252985,
          1.0713473564525298
         ],
         "title": {
          "text": "false positive rate"
         },
         "type": "linear"
        },
        "xaxis4": {
         "anchor": "y4",
         "domain": [
          0.55,
          1
         ],
         "range": [
          0,
          1.05
         ],
         "title": {
          "text": "recall"
         },
         "type": "linear"
        },
        "xaxis5": {
         "anchor": "y5",
         "autorange": true,
         "domain": [
          0,
          1
         ],
         "range": [
          0.003246753246753247,
          1
         ],
         "title": {
          "text": "Percentage contacted"
         },
         "type": "linear"
        },
        "xaxis6": {
         "anchor": "y6",
         "autorange": true,
         "domain": [
          0,
          1
         ],
         "range": [
          -0.5,
          13.5
         ],
         "type": "category"
        },
        "yaxis": {
         "anchor": "x",
         "autorange": true,
         "domain": [
          0.84375,
          1
         ],
         "range": [
          -0.5,
          1.5
         ],
         "type": "category"
        },
        "yaxis2": {
         "anchor": "x2",
         "autorange": true,
         "domain": [
          0.84375,
          1
         ],
         "range": [
          -0.5,
          3.5
         ],
         "type": "category"
        },
        "yaxis3": {
         "anchor": "x3",
         "autorange": true,
         "domain": [
          0.5625,
          0.71875
         ],
         "range": [
          -0.08128316449589966,
          1.0812831644958996
         ],
         "title": {
          "text": "true positive rate"
         },
         "type": "linear"
        },
        "yaxis4": {
         "anchor": "x4",
         "domain": [
          0.5625,
          0.71875
         ],
         "range": [
          0,
          1.05
         ],
         "title": {
          "text": "precision"
         },
         "type": "linear"
        },
        "yaxis5": {
         "anchor": "x5",
         "autorange": true,
         "domain": [
          0.28125,
          0.4375
         ],
         "range": [
          0,
          1.0526315789473684
         ],
         "title": {
          "text": "Percentage positive targeted"
         },
         "type": "linear"
        },
        "yaxis6": {
         "anchor": "x6",
         "autorange": true,
         "domain": [
          0,
          0.15625
         ],
         "range": [
          0,
          3905.2631578947367
         ],
         "type": "linear"
        }
       }
      },
      "image/png": "[encoded data removed]",
      "text/html": [
       "<div>                            <div id=\"f8b8644f-022e-4343-9e5e-712d881a5629\" class=\"plotly-graph-div\" style=\"height:1500px; width:830px;\"></div>            <script type=\"text/javascript\">                require([\"plotly\"], function(Plotly) {                    window.PLOTLYENV=window.PLOTLYENV || {};                                    if (document.getElementById(\"f8b8644f-022e-4343-9e5e-712d881a5629\")) {                    Plotly.newPlot(                        \"f8b8644f-022e-4343-9e5e-712d881a5629\",                        [{\"colorscale\":[[0.0,\"#440154\"],[0.1111111111111111,\"#482878\"],[0.2222222222222222,\"#3e4989\"],[0.3333333333333333,\"#31688e\"],[0.4444444444444444,\"#26828e\"],[0.5555555555555556,\"#1f9e89\"],[0.6666666666666666,\"#35b779\"],[0.7777777777777778,\"#6ece58\"],[0.8888888888888888,\"#b5de2b\"],[1.0,\"#fde725\"]],\"showscale\":false,\"x\":[\"0 (pred)\",\"1 (pred)\"],\"xaxis\":\"x\",\"xgap\":2,\"y\":[\"0 (true)\",\"1 (true)\"],\"yaxis\":\"y\",\"ygap\":2,\"z\":[[149,4],[8,147]],\"type\":\"heatmap\"},{\"marker\":{\"color\":[\"gold\",\"lightgreen\",\"lightcoral\",\"lightskyblue\"],\"line\":{\"color\":\"#000000\",\"width\":1.5}},\"opacity\":0.8,\"orientation\":\"h\",\"text\":[0.961,0.9735,0.9484,0.9608],\"textposition\":\"auto\",\"x\":[0.961038961038961,0.9735099337748344,0.9483870967741935,0.9607843137254902],\"xaxis\":\"x2\",\"y\":[\"Accuracy\",\"Precision\",\"Recall\",\"F1_score\"],\"yaxis\":\"y2\",\"type\":\"bar\"},{\"fill\":\"tozeroy\",\"line\":{\"color\":\"rgb(22, 96, 167)\",\"width\":2},\"name\":\"Roc : 0.979\",\"x\":[0.0,0.0,0.0,0.0,0.0,0.0,0.0,0.0,0.0,0.0,0.0,0.0,0.0,0.0,0.0,0.026143790849673203,0.026143790849673203,0.026143790849673203,0.026143790849673203,0.026143790849673203,0.026143790849673203,0.026143790849673203,0.026143790849673203,0.026143790849673203,0.026143790849673203,0.026143790849673203,0.026143790849673203,0.026143790849673203,0.026143790849673203,0.026143790849673203,0.026143790849673203,0.026143790849673203,0.026143790849673203,0.026143790849673203,0.026143790849673203,0.026143790849673203,0.026143790849673203,0.026143790849673203,0.026143790849673203,0.026143790849673203,0.026143790849673203,0.026143790849673203,0.026143790849673203,0.026143790849673203,0.026143790849673203,0.026143790849673203,0.026143790849673203,0.026143790849673203,0.026143790849673203,0.026143790849673203,0.026143790849673203,0.026143790849673203,0.026143790849673203,0.026143790849673203,0.026143790849673203,0.026143790849673203,0.026143790849673203,0.026143790849673203,0.026143790849673203,0.026143790849673203,0.026143790849673203,0.026143790849673203,0.026143790849673203,0.0457516339869281,0.0457516339869281,0.08496732026143791,0.10457516339869281,0.11764705882352941,0.13071895424836602,0.16339869281045752,0.17647058823529413,0.1895424836601307,0.20915032679738563,0.21568627450980393,0.22875816993464052,0.23529411764705882,0.24836601307189543,0.28104575163398693,0.29411764705882354,0.30718954248366015,0.3202614379084967,0.32679738562091504,0.3464052287581699,0.35294117647058826,0.3660130718954248,0.39215686274509803,0.40522875816993464,0.41830065359477125,0.4444444444444444,0.46405228758169936,0.477124183006536,0.49019607843137253,0.5098039215686274,0.5228758169934641,0.5294117647058824,0.5490196078431373,0.5555555555555556,0.5686274509803921,0.5816993464052288,0.5947712418300654,0.6013071895424836,0.6143790849673203,0.6862745098039216,0.6993464052287581,0.7058823529411765,0.7254901960784313,0.738562091503268,0.7516339869281046,0.7647058823529411,0.7777777777777778,0.7908496732026143,0.803921568627451,0.8235294117647058,0.8366013071895425,0.8562091503267973,0.869281045751634,0.8888888888888888,0.9019607843137255,0.9084967320261438,0.9281045751633987,0.9411764705882353,0.9477124183006536,0.9607843137254902,0.9803921568627451,0.9934640522875817,1.0],\"xaxis\":\"x3\",\"y\":[0.0,0.012903225806451613,0.025806451612903226,0.03870967741935484,0.05806451612903226,0.06451612903225806,0.07741935483870968,0.1032258064516129,0.12258064516129032,0.14193548387096774,0.15483870967741936,0.16774193548387098,0.17419354838709677,0.2,0.23225806451612904,0.23225806451612904,0.25161290322580643,0.2645161290322581,0.27741935483870966,0.2903225806451613,0.32903225806451614,0.3419354838709677,0.3548387096774194,0.38064516129032255,0.3935483870967742,0.4129032258064516,0.4258064516129032,0.432258064516129,0.44516129032258067,0.45161290322580644,0.4774193548387097,0.49032258064516127,0.5032258064516129,0.5290322580645161,0.5419354838709678,0.5612903225806452,0.5741935483870968,0.5870967741935483,0.6129032258064516,0.6193548387096774,0.632258064516129,0.6580645161290323,0.6709677419354839,0.6838709677419355,0.6967741935483871,0.7032258064516129,0.7161290322580646,0.7419354838709677,0.7548387096774194,0.7612903225806451,0.7741935483870968,0.7806451612903226,0.7935483870967742,0.8064516129032258,0.8193548387096774,0.8387096774193549,0.8516129032258064,0.8709677419354839,0.8838709677419355,0.9032258064516129,0.9290322580645162,0.9483870967741935,0.9741935483870968,0.9741935483870968,1.0,1.0,1.0,1.0,1.0,1.0,1.0,1.0,1.0,1.0,1.0,1.0,1.0,1.0,1.0,1.0,1.0,1.0,1.0,1.0,1.0,1.0,1.0,1.0,1.0,1.0,1.0,1.0,1.0,1.0,1.0,1.0,1.0,1.0,1.0,1.0,1.0,1.0,1.0,1.0,1.0,1.0,1.0,1.0,1.0,1.0,1.0,1.0,1.0,1.0,1.0,1.0,1.0,1.0,1.0,1.0,1.0,1.0,1.0,1.0,1.0,1.0],\"yaxis\":\"y3\",\"type\":\"scatter\"},{\"line\":{\"color\":\"black\",\"dash\":\"dot\",\"width\":1.5},\"x\":[0,1],\"xaxis\":\"x3\",\"y\":[0,1],\"yaxis\":\"y3\",\"type\":\"scatter\"},{\"fill\":\"tozeroy\",\"line\":{\"color\":\"lightcoral\",\"width\":2},\"name\":\"Precision[0.95679012 0.9556962  0.97419355 0.97350993 0.97297297 0.97260274\\n 0.97222222 0.97202797 0.97183099 0.97163121 0.97122302 0.97101449\\n 0.97080292 0.97058824 0.97014925 0.96992481 0.96969697 0.96946565\\n 0.96899225 0.96875    0.96850394 0.968      0.96774194 0.96721311\\n 0.96694215 0.96638655 0.96610169 0.96581197 0.96551724 0.96521739\\n 0.96460177 0.96428571 0.96363636 0.96330275 0.96296296 0.96226415\\n 0.96190476 0.96153846 0.96116505 0.96078431 0.96       0.95959596\\n 0.95876289 0.95789474 0.95744681 0.95698925 0.95604396 0.95555556\\n 0.95505618 0.95454545 0.95348837 0.95294118 0.95238095 0.95180723\\n 0.95121951 0.95       0.94936709 0.94871795 0.94736842 0.94594595\\n 0.94520548 0.94366197 0.94285714 0.94117647 0.93846154 0.9375\\n 0.93650794 0.93442623 0.93220339 0.93103448 0.92982456 0.92727273\\n 0.92592593 0.9245283  0.92307692 0.92156863 0.92       0.91836735\\n 0.91489362 0.91304348 0.91111111 0.90697674 0.9047619  0.90243902\\n 0.9        1.         1.         1.         1.         1.\\n 1.         1.         1.         1.         1.         1.\\n 1.         1.         1.         1.         1.         1.\\n 1.         1.         1.         1.         1.         1.\\n 1.        ]\",\"x\":[1.0,0.9741935483870968,0.9741935483870968,0.9483870967741935,0.9290322580645162,0.9161290322580645,0.9032258064516129,0.896774193548387,0.8903225806451613,0.8838709677419355,0.8709677419354839,0.864516129032258,0.8580645161290322,0.8516129032258064,0.8387096774193549,0.832258064516129,0.8258064516129032,0.8193548387096774,0.8064516129032258,0.8,0.7935483870967742,0.7806451612903226,0.7741935483870968,0.7612903225806451,0.7548387096774194,0.7419354838709677,0.7354838709677419,0.7290322580645161,0.7225806451612903,0.7161290322580646,0.7032258064516129,0.6967741935483871,0.6838709677419355,0.6774193548387096,0.6709677419354839,0.6580645161290323,0.6516129032258065,0.6451612903225806,0.6387096774193548,0.632258064516129,0.6193548387096774,0.6129032258064516,0.6,0.5870967741935483,0.5806451612903226,0.5741935483870968,0.5612903225806452,0.5548387096774193,0.5483870967741935,0.5419354838709678,0.5290322580645161,0.5225806451612903,0.5161290322580645,0.5096774193548387,0.5032258064516129,0.49032258064516127,0.4838709677419355,0.4774193548387097,0.4645161290322581,0.45161290322580644,0.44516129032258067,0.432258064516129,0.4258064516129032,0.4129032258064516,0.3935483870967742,0.3870967741935484,0.38064516129032255,0.36774193548387096,0.3548387096774194,0.34838709677419355,0.3419354838709677,0.32903225806451614,0.3225806451612903,0.3161290322580645,0.3096774193548387,0.3032258064516129,0.2967741935483871,0.2903225806451613,0.27741935483870966,0.2709677419354839,0.2645161290322581,0.25161290322580643,0.24516129032258063,0.23870967741935484,0.23225806451612904,0.23225806451612904,0.22580645161290322,0.21935483870967742,0.2129032258064516,0.2064516129032258,0.2,0.1870967741935484,0.17419354838709677,0.16774193548387098,0.15483870967741936,0.14838709677419354,0.14193548387096774,0.12258064516129032,0.11612903225806452,0.10967741935483871,0.1032258064516129,0.07741935483870968,0.06451612903225806,0.05806451612903226,0.03870967741935484,0.025806451612903226,0.01935483870967742,0.012903225806451613,0.0],\"xaxis\":\"x4\",\"y\":[0.9567901234567902,0.9556962025316456,0.9741935483870968,0.9735099337748344,0.972972972972973,0.9726027397260274,0.9722222222222222,0.972027972027972,0.971830985915493,0.9716312056737588,0.9712230215827338,0.9710144927536232,0.9708029197080292,0.9705882352941176,0.9701492537313433,0.9699248120300752,0.9696969696969697,0.9694656488549618,0.9689922480620154,0.96875,0.968503937007874,0.968,0.967741935483871,0.9672131147540983,0.9669421487603306,0.9663865546218487,0.9661016949152542,0.9658119658119658,0.9655172413793104,0.9652173913043478,0.9646017699115044,0.9642857142857143,0.9636363636363636,0.963302752293578,0.9629629629629629,0.9622641509433962,0.9619047619047619,0.9615384615384616,0.9611650485436893,0.9607843137254902,0.96,0.9595959595959596,0.9587628865979382,0.9578947368421052,0.9574468085106383,0.956989247311828,0.9560439560439561,0.9555555555555556,0.9550561797752809,0.9545454545454546,0.9534883720930233,0.9529411764705882,0.9523809523809523,0.9518072289156626,0.9512195121951219,0.95,0.9493670886075949,0.9487179487179487,0.9473684210526315,0.9459459459459459,0.9452054794520548,0.9436619718309859,0.9428571428571428,0.9411764705882353,0.9384615384615385,0.9375,0.9365079365079365,0.9344262295081968,0.9322033898305084,0.9310344827586207,0.9298245614035088,0.9272727272727272,0.9259259259259259,0.9245283018867925,0.9230769230769231,0.9215686274509803,0.92,0.9183673469387755,0.9148936170212766,0.9130434782608695,0.9111111111111111,0.9069767441860465,0.9047619047619048,0.9024390243902439,0.9,1.0,1.0,1.0,1.0,1.0,1.0,1.0,1.0,1.0,1.0,1.0,1.0,1.0,1.0,1.0,1.0,1.0,1.0,1.0,1.0,1.0,1.0,1.0,1.0],\"yaxis\":\"y4\",\"type\":\"scatter\"},{\"marker\":{\"color\":[3710,3506,3266,2965,2550,1657,1154,982,613,566,543,504,492,409,336,288,250,249,207,135,133,95,64,55],\"colorscale\":[[0.0,\"#440154\"],[0.1111111111111111,\"#482878\"],[0.2222222222222222,\"#3e4989\"],[0.3333333333333333,\"#31688e\"],[0.4444444444444444,\"#26828e\"],[0.5555555555555556,\"#1f9e89\"],[0.6666666666666666,\"#35b779\"],[0.7777777777777778,\"#6ece58\"],[0.8888888888888888,\"#b5de2b\"],[1.0,\"#fde725\"]],\"line\":{\"color\":\"black\",\"width\":0.6}},\"name\":\"coefficients\",\"x\":[\"trestbps\",\"age\",\"cp\",\"chol\",\"sex\",\"fbs\",\"ca\",null,null,null,\"slope\",\"restecg\",null,null,\"thalach\",null,null,null,\"oldpeak\",\"exang\",\"thal\",\"target\",null,null],\"xaxis\":\"x6\",\"y\":[3710,3506,3266,2965,2550,1657,1154,982,613,566,543,504,492,409,336,288,250,249,207,135,133,95,64,55],\"yaxis\":\"y6\",\"type\":\"bar\"},{\"fill\":\"tozeroy\",\"line\":{\"color\":\"gold\",\"width\":2},\"name\":\"Lift curve\",\"x\":[0.003246753246753247,0.006493506493506494,0.00974025974025974,0.012987012987012988,0.016233766233766232,0.01948051948051948,0.022727272727272728,0.025974025974025976,0.02922077922077922,0.032467532467532464,0.03571428571428571,0.03896103896103896,0.04220779220779221,0.045454545454545456,0.048701298701298704,0.05194805194805195,0.05519480519480519,0.05844155844155844,0.06168831168831169,0.06493506493506493,0.06818181818181818,0.07142857142857142,0.07467532467532467,0.07792207792207792,0.08116883116883117,0.08441558441558442,0.08766233766233766,0.09090909090909091,0.09415584415584416,0.09740259740259741,0.10064935064935066,0.1038961038961039,0.10714285714285714,0.11038961038961038,0.11363636363636363,0.11688311688311688,0.12012987012987013,0.12337662337662338,0.1266233766233766,0.12987012987012986,0.1331168831168831,0.13636363636363635,0.1396103896103896,0.14285714285714285,0.1461038961038961,0.14935064935064934,0.1525974025974026,0.15584415584415584,0.1590909090909091,0.16233766233766234,0.16558441558441558,0.16883116883116883,0.17207792207792208,0.17532467532467533,0.17857142857142858,0.18181818181818182,0.18506493506493507,0.18831168831168832,0.19155844155844157,0.19480519480519481,0.19805194805194806,0.2012987012987013,0.20454545454545456,0.2077922077922078,0.21103896103896103,0.21428571428571427,0.21753246753246752,0.22077922077922077,0.22402597402597402,0.22727272727272727,0.2305194805194805,0.23376623376623376,0.237012987012987,0.24025974025974026,0.2435064935064935,0.24675324675324675,0.25,0.2532467532467532,0.2564935064935065,0.2597402597402597,0.262987012987013,0.2662337662337662,0.2694805194805195,0.2727272727272727,0.275974025974026,0.2792207792207792,0.2824675324675325,0.2857142857142857,0.288961038961039,0.2922077922077922,0.29545454545454547,0.2987012987012987,0.30194805194805197,0.3051948051948052,0.30844155844155846,0.3116883116883117,0.31493506493506496,0.3181818181818182,0.32142857142857145,0.3246753246753247,0.32792207792207795,0.33116883116883117,0.3344155844155844,0.33766233766233766,0.3409090909090909,0.34415584415584416,0.3474025974025974,0.35064935064935066,0.3538961038961039,0.35714285714285715,0.36038961038961037,0.36363636363636365,0.36688311688311687,0.37012987012987014,0.37337662337662336,0.37662337662337664,0.37987012987012986,0.38311688311688313,0.38636363636363635,0.38961038961038963,0.39285714285714285,0.3961038961038961,0.39935064935064934,0.4025974025974026,0.40584415584415584,0.4090909090909091,0.41233766233766234,0.4155844155844156,0.41883116883116883,0.42207792207792205,0.4253246753246753,0.42857142857142855,0.4318181818181818,0.43506493506493504,0.4383116883116883,0.44155844155844154,0.4448051948051948,0.44805194805194803,0.4512987012987013,0.45454545454545453,0.4577922077922078,0.461038961038961,0.4642857142857143,0.4675324675324675,0.4707792207792208,0.474025974025974,0.4772727272727273,0.4805194805194805,0.4837662337662338,0.487012987012987,0.4902597402597403,0.4935064935064935,0.4967532467532468,0.5,0.5032467532467533,0.5064935064935064,0.5097402597402597,0.512987012987013,0.5162337662337663,0.5194805194805194,0.5227272727272727,0.525974025974026,0.5292207792207793,0.5324675324675324,0.5357142857142857,0.538961038961039,0.5422077922077922,0.5454545454545454,0.5487012987012987,0.551948051948052,0.5551948051948052,0.5584415584415584,0.5616883116883117,0.564935064935065,0.5681818181818182,0.5714285714285714,0.5746753246753247,0.577922077922078,0.5811688311688312,0.5844155844155844,0.5876623376623377,0.5909090909090909,0.5941558441558441,0.5974025974025974,0.6006493506493507,0.6038961038961039,0.6071428571428571,0.6103896103896104,0.6136363636363636,0.6168831168831169,0.6201298701298701,0.6233766233766234,0.6266233766233766,0.6298701298701299,0.6331168831168831,0.6363636363636364,0.6396103896103896,0.6428571428571429,0.6461038961038961,0.6493506493506493,0.6525974025974026,0.6558441558441559,0.6590909090909091,0.6623376623376623,0.6655844155844156,0.6688311688311688,0.672077922077922,0.6753246753246753,0.6785714285714286,0.6818181818181818,0.685064935064935,0.6883116883116883,0.6915584415584416,0.6948051948051948,0.698051948051948,0.7012987012987013,0.7045454545454546,0.7077922077922078,0.711038961038961,0.7142857142857143,0.7175324675324676,0.7207792207792207,0.724025974025974,0.7272727272727273,0.7305194805194806,0.7337662337662337,0.737012987012987,0.7402597402597403,0.7435064935064936,0.7467532467532467,0.75,0.7532467532467533,0.7564935064935064,0.7597402597402597,0.762987012987013,0.7662337662337663,0.7694805194805194,0.7727272727272727,0.775974025974026,0.7792207792207793,0.7824675324675324,0.7857142857142857,0.788961038961039,0.7922077922077922,0.7954545454545454,0.7987012987012987,0.801948051948052,0.8051948051948052,0.8084415584415584,0.8116883116883117,0.814935064935065,0.8181818181818182,0.8214285714285714,0.8246753246753247,0.827922077922078,0.8311688311688312,0.8344155844155844,0.8376623376623377,0.8409090909090909,0.8441558441558441,0.8474025974025974,0.8506493506493507,0.8538961038961039,0.8571428571428571,0.8603896103896104,0.8636363636363636,0.8668831168831169,0.8701298701298701,0.8733766233766234,0.8766233766233766,0.8798701298701299,0.8831168831168831,0.8863636363636364,0.8896103896103896,0.8928571428571429,0.8961038961038961,0.8993506493506493,0.9025974025974026,0.9058441558441559,0.9090909090909091,0.9123376623376623,0.9155844155844156,0.9188311688311688,0.922077922077922,0.9253246753246753,0.9285714285714286,0.9318181818181818,0.935064935064935,0.9383116883116883,0.9415584415584416,0.9448051948051948,0.948051948051948,0.9512987012987013,0.9545454545454546,0.9577922077922078,0.961038961038961,0.9642857142857143,0.9675324675324676,0.9707792207792207,0.974025974025974,0.9772727272727273,0.9805194805194806,0.9837662337662337,0.987012987012987,0.9902597402597403,0.9935064935064936,0.9967532467532467,1.0,1.0032467532467533,1.0064935064935066,1.0097402597402598,1.0129870129870129,1.0162337662337662,1.0194805194805194,1.0227272727272727,1.025974025974026,1.0292207792207793,1.0324675324675325,1.0357142857142858,1.0389610389610389,1.0422077922077921,1.0454545454545454,1.0487012987012987,1.051948051948052,1.0551948051948052,1.0584415584415585,1.0616883116883118,1.0649350649350648,1.0681818181818181,1.0714285714285714,1.0746753246753247,1.077922077922078,1.0811688311688312,1.0844155844155845,1.0876623376623376,1.0909090909090908,1.094155844155844,1.0974025974025974,1.1006493506493507,1.103896103896104,1.1071428571428572,1.1103896103896105,1.1136363636363635,1.1168831168831168,1.12012987012987,1.1233766233766234,1.1266233766233766,1.12987012987013,1.1331168831168832,1.1363636363636365,1.1396103896103895,1.1428571428571428,1.146103896103896,1.1493506493506493,1.1525974025974026,1.155844155844156,1.1590909090909092,1.1623376623376624,1.1655844155844155,1.1688311688311688,1.172077922077922,1.1753246753246753,1.1785714285714286,1.1818181818181819,1.1850649350649352,1.1883116883116882,1.1915584415584415,1.1948051948051948],\"xaxis\":\"x5\",\"y\":[0.0064516129032258064,0.012903225806451613,0.01935483870967742,0.025806451612903226,0.03225806451612903,0.03870967741935484,0.04516129032258064,0.05161290322580645,0.05806451612903226,0.06451612903225806,0.07096774193548387,0.07741935483870968,0.08387096774193549,0.09032258064516129,0.0967741935483871,0.1032258064516129,0.10967741935483871,0.11612903225806452,0.12258064516129032,0.12903225806451613,0.13548387096774195,0.14193548387096774,0.14838709677419354,0.15483870967741936,0.16129032258064516,0.16774193548387098,0.17419354838709677,0.18064516129032257,0.1870967741935484,0.1935483870967742,0.2,0.2064516129032258,0.2129032258064516,0.21935483870967742,0.22580645161290322,0.23225806451612904,0.23225806451612904,0.23225806451612904,0.23225806451612904,0.23225806451612904,0.23870967741935484,0.24516129032258063,0.25161290322580643,0.25806451612903225,0.2645161290322581,0.2709677419354839,0.27741935483870966,0.2838709677419355,0.2903225806451613,0.2967741935483871,0.3032258064516129,0.3096774193548387,0.3161290322580645,0.3225806451612903,0.32903225806451614,0.33548387096774196,0.3419354838709677,0.34838709677419355,0.3548387096774194,0.36129032258064514,0.36774193548387096,0.3741935483870968,0.38064516129032255,0.3870967741935484,0.3935483870967742,0.4,0.4064516129032258,0.4129032258064516,0.41935483870967744,0.4258064516129032,0.432258064516129,0.43870967741935485,0.44516129032258067,0.45161290322580644,0.45806451612903226,0.4645161290322581,0.47096774193548385,0.4774193548387097,0.4838709677419355,0.49032258064516127,0.4967741935483871,0.5032258064516129,0.5096774193548387,0.5161290322580645,0.5225806451612903,0.5290322580645161,0.535483870967742,0.5419354838709678,0.5483870967741935,0.5548387096774193,0.5612903225806452,0.567741935483871,0.5741935483870968,0.5806451612903226,0.5870967741935483,0.5935483870967742,0.6,0.6064516129032258,0.6129032258064516,0.6193548387096774,0.6258064516129033,0.632258064516129,0.6387096774193548,0.6451612903225806,0.6516129032258065,0.6580645161290323,0.6645161290322581,0.6709677419354839,0.6774193548387096,0.6838709677419355,0.6903225806451613,0.6967741935483871,0.7032258064516129,0.7096774193548387,0.7161290322580646,0.7225806451612903,0.7290322580645161,0.7354838709677419,0.7419354838709677,0.7483870967741936,0.7548387096774194,0.7612903225806451,0.7677419354838709,0.7741935483870968,0.7806451612903226,0.7870967741935484,0.7935483870967742,0.8,0.8064516129032258,0.8129032258064516,0.8193548387096774,0.8258064516129032,0.832258064516129,0.8387096774193549,0.8451612903225807,0.8516129032258064,0.8580645161290322,0.864516129032258,0.8709677419354839,0.8774193548387097,0.8838709677419355,0.8903225806451613,0.896774193548387,0.9032258064516129,0.9096774193548387,0.9161290322580645,0.9225806451612903,0.9290322580645162,0.9354838709677419,0.9419354838709677,0.9483870967741935,0.9548387096774194,0.9612903225806452,0.967741935483871,0.9741935483870968,0.9741935483870968,0.9741935483870968,0.9741935483870968,0.9806451612903225,0.9870967741935484,0.9935483870967742,1.0,1.0,1.0,1.0,1.0,1.0,1.0,1.0,1.0,1.0,1.0,1.0,1.0,1.0,1.0,1.0,1.0,1.0,1.0,1.0,1.0,1.0,1.0,1.0,1.0,1.0,1.0,1.0,1.0,1.0,1.0,1.0,1.0,1.0,1.0,1.0,1.0,1.0,1.0,1.0,1.0,1.0,1.0,1.0,1.0,1.0,1.0,1.0,1.0,1.0,1.0,1.0,1.0,1.0,1.0,1.0,1.0,1.0,1.0,1.0,1.0,1.0,1.0,1.0,1.0,1.0,1.0,1.0,1.0,1.0,1.0,1.0,1.0,1.0,1.0,1.0,1.0,1.0,1.0,1.0,1.0,1.0,1.0,1.0,1.0,1.0,1.0,1.0,1.0,1.0,1.0,1.0,1.0,1.0,1.0,1.0,1.0,1.0,1.0,1.0,1.0,1.0,1.0,1.0,1.0,1.0,1.0,1.0,1.0,1.0,1.0,1.0,1.0,1.0,1.0,1.0,1.0,1.0,1.0,1.0,1.0,1.0,1.0,1.0,1.0,1.0,1.0,1.0,1.0,1.0,1.0,1.0,1.0,1.0,1.0,1.0,1.0,1.0,1.0,1.0,1.0,1.0,1.0,1.0,1.0,1.0,1.0],\"yaxis\":\"y5\",\"type\":\"scatter\"}],                        {\"annotations\":[{\"font\":{\"size\":16},\"showarrow\":false,\"text\":\"Confusion Matrix\",\"x\":0.225,\"xanchor\":\"center\",\"xref\":\"paper\",\"y\":1.0,\"yanchor\":\"bottom\",\"yref\":\"paper\"},{\"font\":{\"size\":16},\"showarrow\":false,\"text\":\"Metrics\",\"x\":0.775,\"xanchor\":\"center\",\"xref\":\"paper\",\"y\":1.0,\"yanchor\":\"bottom\",\"yref\":\"paper\"},{\"font\":{\"size\":16},\"showarrow\":false,\"text\":\"ROC curve (0.979)\",\"x\":0.225,\"xanchor\":\"center\",\"xref\":\"paper\",\"y\":0.71875,\"yanchor\":\"bottom\",\"yref\":\"paper\"},{\"font\":{\"size\":16},\"showarrow\":false,\"text\":\"Precision - Recall curve\",\"x\":0.775,\"xanchor\":\"center\",\"xref\":\"paper\",\"y\":0.71875,\"yanchor\":\"bottom\",\"yref\":\"paper\"},{\"font\":{\"size\":16},\"showarrow\":false,\"text\":\"Cumulative gains curve\",\"x\":0.5,\"xanchor\":\"center\",\"xref\":\"paper\",\"y\":0.4375,\"yanchor\":\"bottom\",\"yref\":\"paper\"},{\"font\":{\"size\":16},\"showarrow\":false,\"text\":\"Feature importance\",\"x\":0.5,\"xanchor\":\"center\",\"xref\":\"paper\",\"y\":0.15625,\"yanchor\":\"bottom\",\"yref\":\"paper\"}],\"autosize\":false,\"height\":1500,\"margin\":{\"b\":195},\"paper_bgcolor\":\"rgba(240,240,240, 0.95)\",\"plot_bgcolor\":\"rgba(240,240,240, 0.95)\",\"showlegend\":false,\"template\":{\"data\":{\"barpolar\":[{\"marker\":{\"line\":{\"color\":\"#E5ECF6\",\"width\":0.5},\"pattern\":{\"fillmode\":\"overlay\",\"size\":10,\"solidity\":0.2}},\"type\":\"barpolar\"}],\"bar\":[{\"error_x\":{\"color\":\"#2a3f5f\"},\"error_y\":{\"color\":\"#2a3f5f\"},\"marker\":{\"line\":{\"color\":\"#E5ECF6\",\"width\":0.5},\"pattern\":{\"fillmode\":\"overlay\",\"size\":10,\"solidity\":0.2}},\"type\":\"bar\"}],\"carpet\":[{\"aaxis\":{\"endlinecolor\":\"#2a3f5f\",\"gridcolor\":\"white\",\"linecolor\":\"white\",\"minorgridcolor\":\"white\",\"startlinecolor\":\"#2a3f5f\"},\"baxis\":{\"endlinecolor\":\"#2a3f5f\",\"gridcolor\":\"white\",\"linecolor\":\"white\",\"minorgridcolor\":\"white\",\"startlinecolor\":\"#2a3f5f\"},\"type\":\"carpet\"}],\"choropleth\":[{\"colorbar\":{\"outlinewidth\":0,\"ticks\":\"\"},\"type\":\"choropleth\"}],\"contourcarpet\":[{\"colorbar\":{\"outlinewidth\":0,\"ticks\":\"\"},\"type\":\"contourcarpet\"}],\"contour\":[{\"colorbar\":{\"outlinewidth\":0,\"ticks\":\"\"},\"colorscale\":[[0.0,\"#0d0887\"],[0.1111111111111111,\"#46039f\"],[0.2222222222222222,\"#7201a8\"],[0.3333333333333333,\"#9c179e\"],[0.4444444444444444,\"#bd3786\"],[0.5555555555555556,\"#d8576b\"],[0.6666666666666666,\"#ed7953\"],[0.7777777777777778,\"#fb9f3a\"],[0.8888888888888888,\"#fdca26\"],[1.0,\"#f0f921\"]],\"type\":\"contour\"}],\"heatmapgl\":[{\"colorbar\":{\"outlinewidth\":0,\"ticks\":\"\"},\"colorscale\":[[0.0,\"#0d0887\"],[0.1111111111111111,\"#46039f\"],[0.2222222222222222,\"#7201a8\"],[0.3333333333333333,\"#9c179e\"],[0.4444444444444444,\"#bd3786\"],[0.5555555555555556,\"#d8576b\"],[0.6666666666666666,\"#ed7953\"],[0.7777777777777778,\"#fb9f3a\"],[0.8888888888888888,\"#fdca26\"],[1.0,\"#f0f921\"]],\"type\":\"heatmapgl\"}],\"heatmap\":[{\"colorbar\":{\"outlinewidth\":0,\"ticks\":\"\"},\"colorscale\":[[0.0,\"#0d0887\"],[0.1111111111111111,\"#46039f\"],[0.2222222222222222,\"#7201a8\"],[0.3333333333333333,\"#9c179e\"],[0.4444444444444444,\"#bd3786\"],[0.5555555555555556,\"#d8576b\"],[0.6666666666666666,\"#ed7953\"],[0.7777777777777778,\"#fb9f3a\"],[0.8888888888888888,\"#fdca26\"],[1.0,\"#f0f921\"]],\"type\":\"heatmap\"}],\"histogram2dcontour\":[{\"colorbar\":{\"outlinewidth\":0,\"ticks\":\"\"},\"colorscale\":[[0.0,\"#0d0887\"],[0.1111111111111111,\"#46039f\"],[0.2222222222222222,\"#7201a8\"],[0.3333333333333333,\"#9c179e\"],[0.4444444444444444,\"#bd3786\"],[0.5555555555555556,\"#d8576b\"],[0.6666666666666666,\"#ed7953\"],[0.7777777777777778,\"#fb9f3a\"],[0.8888888888888888,\"#fdca26\"],[1.0,\"#f0f921\"]],\"type\":\"histogram2dcontour\"}],\"histogram2d\":[{\"colorbar\":{\"outlinewidth\":0,\"ticks\":\"\"},\"colorscale\":[[0.0,\"#0d0887\"],[0.1111111111111111,\"#46039f\"],[0.2222222222222222,\"#7201a8\"],[0.3333333333333333,\"#9c179e\"],[0.4444444444444444,\"#bd3786\"],[0.5555555555555556,\"#d8576b\"],[0.6666666666666666,\"#ed7953\"],[0.7777777777777778,\"#fb9f3a\"],[0.8888888888888888,\"#fdca26\"],[1.0,\"#f0f921\"]],\"type\":\"histogram2d\"}],\"histogram\":[{\"marker\":{\"pattern\":{\"fillmode\":\"overlay\",\"size\":10,\"solidity\":0.2}},\"type\":\"histogram\"}],\"mesh3d\":[{\"colorbar\":{\"outlinewidth\":0,\"ticks\":\"\"},\"type\":\"mesh3d\"}],\"parcoords\":[{\"line\":{\"colorbar\":{\"outlinewidth\":0,\"ticks\":\"\"}},\"type\":\"parcoords\"}],\"pie\":[{\"automargin\":true,\"type\":\"pie\"}],\"scatter3d\":[{\"line\":{\"colorbar\":{\"outlinewidth\":0,\"ticks\":\"\"}},\"marker\":{\"colorbar\":{\"outlinewidth\":0,\"ticks\":\"\"}},\"type\":\"scatter3d\"}],\"scattercarpet\":[{\"marker\":{\"colorbar\":{\"outlinewidth\":0,\"ticks\":\"\"}},\"type\":\"scattercarpet\"}],\"scattergeo\":[{\"marker\":{\"colorbar\":{\"outlinewidth\":0,\"ticks\":\"\"}},\"type\":\"scattergeo\"}],\"scattergl\":[{\"marker\":{\"colorbar\":{\"outlinewidth\":0,\"ticks\":\"\"}},\"type\":\"scattergl\"}],\"scattermapbox\":[{\"marker\":{\"colorbar\":{\"outlinewidth\":0,\"ticks\":\"\"}},\"type\":\"scattermapbox\"}],\"scatterpolargl\":[{\"marker\":{\"colorbar\":{\"outlinewidth\":0,\"ticks\":\"\"}},\"type\":\"scatterpolargl\"}],\"scatterpolar\":[{\"marker\":{\"colorbar\":{\"outlinewidth\":0,\"ticks\":\"\"}},\"type\":\"scatterpolar\"}],\"scatter\":[{\"fillpattern\":{\"fillmode\":\"overlay\",\"size\":10,\"solidity\":0.2},\"type\":\"scatter\"}],\"scatterternary\":[{\"marker\":{\"colorbar\":{\"outlinewidth\":0,\"ticks\":\"\"}},\"type\":\"scatterternary\"}],\"surface\":[{\"colorbar\":{\"outlinewidth\":0,\"ticks\":\"\"},\"colorscale\":[[0.0,\"#0d0887\"],[0.1111111111111111,\"#46039f\"],[0.2222222222222222,\"#7201a8\"],[0.3333333333333333,\"#9c179e\"],[0.4444444444444444,\"#bd3786\"],[0.5555555555555556,\"#d8576b\"],[0.6666666666666666,\"#ed7953\"],[0.7777777777777778,\"#fb9f3a\"],[0.8888888888888888,\"#fdca26\"],[1.0,\"#f0f921\"]],\"type\":\"surface\"}],\"table\":[{\"cells\":{\"fill\":{\"color\":\"#EBF0F8\"},\"line\":{\"color\":\"white\"}},\"header\":{\"fill\":{\"color\":\"#C8D4E3\"},\"line\":{\"color\":\"white\"}},\"type\":\"table\"}]},\"layout\":{\"annotationdefaults\":{\"arrowcolor\":\"#2a3f5f\",\"arrowhead\":0,\"arrowwidth\":1},\"autotypenumbers\":\"strict\",\"coloraxis\":{\"colorbar\":{\"outlinewidth\":0,\"ticks\":\"\"}},\"colorscale\":{\"diverging\":[[0,\"#8e0152\"],[0.1,\"#c51b7d\"],[0.2,\"#de77ae\"],[0.3,\"#f1b6da\"],[0.4,\"#fde0ef\"],[0.5,\"#f7f7f7\"],[0.6,\"#e6f5d0\"],[0.7,\"#b8e186\"],[0.8,\"#7fbc41\"],[0.9,\"#4d9221\"],[1,\"#276419\"]],\"sequential\":[[0.0,\"#0d0887\"],[0.1111111111111111,\"#46039f\"],[0.2222222222222222,\"#7201a8\"],[0.3333333333333333,\"#9c179e\"],[0.4444444444444444,\"#bd3786\"],[0.5555555555555556,\"#d8576b\"],[0.6666666666666666,\"#ed7953\"],[0.7777777777777778,\"#fb9f3a\"],[0.8888888888888888,\"#fdca26\"],[1.0,\"#f0f921\"]],\"sequentialminus\":[[0.0,\"#0d0887\"],[0.1111111111111111,\"#46039f\"],[0.2222222222222222,\"#7201a8\"],[0.3333333333333333,\"#9c179e\"],[0.4444444444444444,\"#bd3786\"],[0.5555555555555556,\"#d8576b\"],[0.6666666666666666,\"#ed7953\"],[0.7777777777777778,\"#fb9f3a\"],[0.8888888888888888,\"#fdca26\"],[1.0,\"#f0f921\"]]},\"colorway\":[\"#636efa\",\"#EF553B\",\"#00cc96\",\"#ab63fa\",\"#FFA15A\",\"#19d3f3\",\"#FF6692\",\"#B6E880\",\"#FF97FF\",\"#FECB52\"],\"font\":{\"color\":\"#2a3f5f\"},\"geo\":{\"bgcolor\":\"white\",\"lakecolor\":\"white\",\"landcolor\":\"#E5ECF6\",\"showlakes\":true,\"showland\":true,\"subunitcolor\":\"white\"},\"hoverlabel\":{\"align\":\"left\"},\"hovermode\":\"closest\",\"mapbox\":{\"style\":\"light\"},\"paper_bgcolor\":\"white\",\"plot_bgcolor\":\"#E5ECF6\",\"polar\":{\"angularaxis\":{\"gridcolor\":\"white\",\"linecolor\":\"white\",\"ticks\":\"\"},\"bgcolor\":\"#E5ECF6\",\"radialaxis\":{\"gridcolor\":\"white\",\"linecolor\":\"white\",\"ticks\":\"\"}},\"scene\":{\"xaxis\":{\"backgroundcolor\":\"#E5ECF6\",\"gridcolor\":\"white\",\"gridwidth\":2,\"linecolor\":\"white\",\"showbackground\":true,\"ticks\":\"\",\"zerolinecolor\":\"white\"},\"yaxis\":{\"backgroundcolor\":\"#E5ECF6\",\"gridcolor\":\"white\",\"gridwidth\":2,\"linecolor\":\"white\",\"showbackground\":true,\"ticks\":\"\",\"zerolinecolor\":\"white\"},\"zaxis\":{\"backgroundcolor\":\"#E5ECF6\",\"gridcolor\":\"white\",\"gridwidth\":2,\"linecolor\":\"white\",\"showbackground\":true,\"ticks\":\"\",\"zerolinecolor\":\"white\"}},\"shapedefaults\":{\"line\":{\"color\":\"#2a3f5f\"}},\"ternary\":{\"aaxis\":{\"gridcolor\":\"white\",\"linecolor\":\"white\",\"ticks\":\"\"},\"baxis\":{\"gridcolor\":\"white\",\"linecolor\":\"white\",\"ticks\":\"\"},\"bgcolor\":\"#E5ECF6\",\"caxis\":{\"gridcolor\":\"white\",\"linecolor\":\"white\",\"ticks\":\"\"}},\"title\":{\"x\":0.05},\"xaxis\":{\"automargin\":true,\"gridcolor\":\"white\",\"linecolor\":\"white\",\"ticks\":\"\",\"title\":{\"standoff\":15},\"zerolinecolor\":\"white\",\"zerolinewidth\":2},\"yaxis\":{\"automargin\":true,\"gridcolor\":\"white\",\"linecolor\":\"white\",\"ticks\":\"\",\"title\":{\"standoff\":15},\"zerolinecolor\":\"white\",\"zerolinewidth\":2}}},\"title\":{\"font\":{\"size\":14},\"text\":\"<b>Model performance report</b><br>lgbm_clf \"},\"width\":830,\"xaxis\":{\"anchor\":\"y\",\"domain\":[0.0,0.45]},\"yaxis\":{\"anchor\":\"x\",\"domain\":[0.84375,1.0]},\"xaxis2\":{\"anchor\":\"y2\",\"domain\":[0.55,1.0],\"range\":[0,1]},\"yaxis2\":{\"anchor\":\"x2\",\"domain\":[0.84375,1.0]},\"xaxis3\":{\"anchor\":\"y3\",\"domain\":[0.0,0.45],\"title\":{\"text\":\"false positive rate\"}},\"yaxis3\":{\"anchor\":\"x3\",\"domain\":[0.5625,0.71875],\"title\":{\"text\":\"true positive rate\"}},\"xaxis4\":{\"anchor\":\"y4\",\"domain\":[0.55,1.0],\"range\":[0,1.05],\"title\":{\"text\":\"recall\"}},\"yaxis4\":{\"anchor\":\"x4\",\"domain\":[0.5625,0.71875],\"range\":[0,1.05],\"title\":{\"text\":\"precision\"}},\"xaxis5\":{\"anchor\":\"y5\",\"domain\":[0.0,1.0],\"title\":{\"text\":\"Percentage contacted\"}},\"yaxis5\":{\"anchor\":\"x5\",\"domain\":[0.28125,0.4375],\"title\":{\"text\":\"Percentage positive targeted\"}},\"xaxis6\":{\"anchor\":\"y6\",\"domain\":[0.0,1.0]},\"yaxis6\":{\"anchor\":\"x6\",\"domain\":[0.0,0.15625]}},                        {\"responsive\": true}                    ).then(function(){\n",
       "                            \n",
       "var gd = document.getElementById('f8b8644f-022e-4343-9e5e-712d881a5629');\n",
       "var x = new MutationObserver(function (mutations, observer) {{\n",
       "        var display = window.getComputedStyle(gd).display;\n",
       "        if (!display || display === 'none') {{\n",
       "            console.log([gd, 'removed!']);\n",
       "            Plotly.purge(gd);\n",
       "            observer.disconnect();\n",
       "        }}\n",
       "}});\n",
       "\n",
       "// Listen for the removal of the full notebook cells\n",
       "var notebookContainer = gd.closest('#notebook-container');\n",
       "if (notebookContainer) {{\n",
       "    x.observe(notebookContainer, {childList: true});\n",
       "}}\n",
       "\n",
       "// Listen for the clearing of the current output cell\n",
       "var outputEl = gd.closest('.output');\n",
       "if (outputEl) {{\n",
       "    x.observe(outputEl, {childList: true});\n",
       "}}\n",
       "\n",
       "                        })                };                });            </script>        </div>"
      ]
     },
     "metadata": {},
     "output_type": "display_data"
    }
   ],
   "source": [
    "model_performance('lgbm_clf ')"
   ]
  }
 ],
 "metadata": {
  "kernelspec": {
   "display_name": "Python 3 (ipykernel)",
   "language": "python",
   "name": "python3"
  },
  "language_info": {
   "codemirror_mode": {
    "name": "ipython",
    "version": 3
   },
   "file_extension": ".py",
   "mimetype": "text/x-python",
   "name": "python",
   "nbconvert_exporter": "python",
   "pygments_lexer": "ipython3",
   "version": "3.9.13"
  }
 },
 "nbformat": 4,
 "nbformat_minor": 5
}
