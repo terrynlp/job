{
 "cells": [
  {
   "cell_type": "markdown",
   "id": "65716fc1",
   "metadata": {},
   "source": [
    "## 情感分析部分"
   ]
  },
  {
   "cell_type": "code",
   "execution_count": 101,
   "id": "01f2d9d7",
   "metadata": {
    "scrolled": false
   },
   "outputs": [
    {
     "data": {
      "text/html": [
       "<div>\n",
       "<style scoped>\n",
       "    .dataframe tbody tr th:only-of-type {\n",
       "        vertical-align: middle;\n",
       "    }\n",
       "\n",
       "    .dataframe tbody tr th {\n",
       "        vertical-align: top;\n",
       "    }\n",
       "\n",
       "    .dataframe thead th {\n",
       "        text-align: right;\n",
       "    }\n",
       "</style>\n",
       "<table border=\"1\" class=\"dataframe\">\n",
       "  <thead>\n",
       "    <tr style=\"text-align: right;\">\n",
       "      <th></th>\n",
       "      <th>答题序号</th>\n",
       "      <th>来源</th>\n",
       "      <th>Q1_性别</th>\n",
       "      <th>Q2_您的年龄是?</th>\n",
       "      <th>Q3_您的受教育程度是</th>\n",
       "      <th>Q4_您所在的户籍地_省份</th>\n",
       "      <th>Q4_您所在的户籍地_城市</th>\n",
       "      <th>Q4_您所在的户籍地_区/县</th>\n",
       "      <th>Q5_您一个月的饮食花销占比为？</th>\n",
       "      <th>Q6_以下菜种中，您偏好于哪几种？_鲁菜（糖醋鲤鱼）</th>\n",
       "      <th>...</th>\n",
       "      <th>Q21_您是否赞同目前预制菜还存在下列缺点？_产品菜系种类少</th>\n",
       "      <th>Q21_您是否赞同目前预制菜还存在下列缺点？_食材不绿色健康</th>\n",
       "      <th>Q21_您是否赞同目前预制菜还存在下列缺点？_没有现做的好吃</th>\n",
       "      <th>Q21_您是否赞同目前预制菜还存在下列缺点？_加工过程不卫生</th>\n",
       "      <th>Q21_您是否赞同目前预制菜还存在下列缺点？_不符合高品质生活</th>\n",
       "      <th>Q22_您对预制菜有什么想说的？</th>\n",
       "      <th>开始时间</th>\n",
       "      <th>提交时间</th>\n",
       "      <th>答题时长</th>\n",
       "      <th>sentiment</th>\n",
       "    </tr>\n",
       "  </thead>\n",
       "  <tbody>\n",
       "    <tr>\n",
       "      <th>0</th>\n",
       "      <td>17</td>\n",
       "      <td>微信</td>\n",
       "      <td>女</td>\n",
       "      <td>18~26岁</td>\n",
       "      <td>研究生</td>\n",
       "      <td>上海市</td>\n",
       "      <td>上海城区</td>\n",
       "      <td>徐汇区</td>\n",
       "      <td>21%-50%</td>\n",
       "      <td>NaN</td>\n",
       "      <td>...</td>\n",
       "      <td>5</td>\n",
       "      <td>5</td>\n",
       "      <td>5</td>\n",
       "      <td>5</td>\n",
       "      <td>5</td>\n",
       "      <td>做得好吃点</td>\n",
       "      <td>2023-03-15 11:53:30</td>\n",
       "      <td>2023-03-15 11:55:46</td>\n",
       "      <td>2分16秒</td>\n",
       "      <td>0.646467</td>\n",
       "    </tr>\n",
       "    <tr>\n",
       "      <th>1</th>\n",
       "      <td>18</td>\n",
       "      <td>微信</td>\n",
       "      <td>女</td>\n",
       "      <td>18~26岁</td>\n",
       "      <td>研究生</td>\n",
       "      <td>江苏省</td>\n",
       "      <td>泰州市</td>\n",
       "      <td>兴化市</td>\n",
       "      <td>21%-50%</td>\n",
       "      <td>NaN</td>\n",
       "      <td>...</td>\n",
       "      <td>5</td>\n",
       "      <td>3</td>\n",
       "      <td>4</td>\n",
       "      <td>3</td>\n",
       "      <td>3</td>\n",
       "      <td>肉太少</td>\n",
       "      <td>2023-03-15 11:56:08</td>\n",
       "      <td>2023-03-15 12:00:48</td>\n",
       "      <td>4分40秒</td>\n",
       "      <td>0.244434</td>\n",
       "    </tr>\n",
       "    <tr>\n",
       "      <th>2</th>\n",
       "      <td>19</td>\n",
       "      <td>微信</td>\n",
       "      <td>男</td>\n",
       "      <td>27~30岁</td>\n",
       "      <td>研究生</td>\n",
       "      <td>上海市</td>\n",
       "      <td>上海城区</td>\n",
       "      <td>徐汇区</td>\n",
       "      <td>21%-50%</td>\n",
       "      <td>NaN</td>\n",
       "      <td>...</td>\n",
       "      <td>2</td>\n",
       "      <td>2</td>\n",
       "      <td>2</td>\n",
       "      <td>2</td>\n",
       "      <td>2</td>\n",
       "      <td>我从来都没有吃过这么好吃的东西！</td>\n",
       "      <td>2023-03-15 12:05:36</td>\n",
       "      <td>2023-03-15 12:09:02</td>\n",
       "      <td>3分26秒</td>\n",
       "      <td>0.487761</td>\n",
       "    </tr>\n",
       "    <tr>\n",
       "      <th>3</th>\n",
       "      <td>20</td>\n",
       "      <td>微信</td>\n",
       "      <td>男</td>\n",
       "      <td>18~26岁</td>\n",
       "      <td>研究生</td>\n",
       "      <td>河南省</td>\n",
       "      <td>洛阳市</td>\n",
       "      <td>洛龙区</td>\n",
       "      <td>50%-80%</td>\n",
       "      <td>鲁菜（糖醋鲤鱼）</td>\n",
       "      <td>...</td>\n",
       "      <td>3</td>\n",
       "      <td>4</td>\n",
       "      <td>3</td>\n",
       "      <td>4</td>\n",
       "      <td>4</td>\n",
       "      <td>没有</td>\n",
       "      <td>2023-03-15 12:08:06</td>\n",
       "      <td>2023-03-15 12:11:58</td>\n",
       "      <td>3分52秒</td>\n",
       "      <td>0.526233</td>\n",
       "    </tr>\n",
       "    <tr>\n",
       "      <th>4</th>\n",
       "      <td>21</td>\n",
       "      <td>微信</td>\n",
       "      <td>女</td>\n",
       "      <td>18~26岁</td>\n",
       "      <td>研究生</td>\n",
       "      <td>安徽省</td>\n",
       "      <td>安庆市</td>\n",
       "      <td>潜山市</td>\n",
       "      <td>21%-50%</td>\n",
       "      <td>NaN</td>\n",
       "      <td>...</td>\n",
       "      <td>3</td>\n",
       "      <td>4</td>\n",
       "      <td>5</td>\n",
       "      <td>4</td>\n",
       "      <td>2</td>\n",
       "      <td>无</td>\n",
       "      <td>2023-03-15 12:10:28</td>\n",
       "      <td>2023-03-15 12:15:32</td>\n",
       "      <td>5分4秒</td>\n",
       "      <td>0.409149</td>\n",
       "    </tr>\n",
       "    <tr>\n",
       "      <th>...</th>\n",
       "      <td>...</td>\n",
       "      <td>...</td>\n",
       "      <td>...</td>\n",
       "      <td>...</td>\n",
       "      <td>...</td>\n",
       "      <td>...</td>\n",
       "      <td>...</td>\n",
       "      <td>...</td>\n",
       "      <td>...</td>\n",
       "      <td>...</td>\n",
       "      <td>...</td>\n",
       "      <td>...</td>\n",
       "      <td>...</td>\n",
       "      <td>...</td>\n",
       "      <td>...</td>\n",
       "      <td>...</td>\n",
       "      <td>...</td>\n",
       "      <td>...</td>\n",
       "      <td>...</td>\n",
       "      <td>...</td>\n",
       "      <td>...</td>\n",
       "    </tr>\n",
       "    <tr>\n",
       "      <th>162</th>\n",
       "      <td>182</td>\n",
       "      <td>微信</td>\n",
       "      <td>女</td>\n",
       "      <td>18~26岁</td>\n",
       "      <td>研究生</td>\n",
       "      <td>湖北省</td>\n",
       "      <td>宜昌市</td>\n",
       "      <td>当阳市</td>\n",
       "      <td>21%-50%</td>\n",
       "      <td>鲁菜（糖醋鲤鱼）</td>\n",
       "      <td>...</td>\n",
       "      <td>3</td>\n",
       "      <td>3</td>\n",
       "      <td>3</td>\n",
       "      <td>4</td>\n",
       "      <td>4</td>\n",
       "      <td>无</td>\n",
       "      <td>2023-03-16 22:28:40</td>\n",
       "      <td>2023-03-16 22:32:12</td>\n",
       "      <td>3分32秒</td>\n",
       "      <td>0.409149</td>\n",
       "    </tr>\n",
       "    <tr>\n",
       "      <th>163</th>\n",
       "      <td>183</td>\n",
       "      <td>微信</td>\n",
       "      <td>女</td>\n",
       "      <td>18~26岁</td>\n",
       "      <td>研究生</td>\n",
       "      <td>安徽省</td>\n",
       "      <td>合肥市</td>\n",
       "      <td>庐江县</td>\n",
       "      <td>50%-80%</td>\n",
       "      <td>鲁菜（糖醋鲤鱼）</td>\n",
       "      <td>...</td>\n",
       "      <td>3</td>\n",
       "      <td>3</td>\n",
       "      <td>5</td>\n",
       "      <td>3</td>\n",
       "      <td>4</td>\n",
       "      <td>无</td>\n",
       "      <td>2023-03-16 23:30:39</td>\n",
       "      <td>2023-03-16 23:34:38</td>\n",
       "      <td>3分59秒</td>\n",
       "      <td>0.409149</td>\n",
       "    </tr>\n",
       "    <tr>\n",
       "      <th>164</th>\n",
       "      <td>184</td>\n",
       "      <td>微信</td>\n",
       "      <td>男</td>\n",
       "      <td>18~26岁</td>\n",
       "      <td>本科生</td>\n",
       "      <td>安徽省</td>\n",
       "      <td>六安市</td>\n",
       "      <td>霍邱县</td>\n",
       "      <td>21%-50%</td>\n",
       "      <td>NaN</td>\n",
       "      <td>...</td>\n",
       "      <td>2</td>\n",
       "      <td>3</td>\n",
       "      <td>5</td>\n",
       "      <td>3</td>\n",
       "      <td>4</td>\n",
       "      <td>无</td>\n",
       "      <td>2023-03-16 23:34:14</td>\n",
       "      <td>2023-03-16 23:37:42</td>\n",
       "      <td>3分28秒</td>\n",
       "      <td>0.409149</td>\n",
       "    </tr>\n",
       "    <tr>\n",
       "      <th>165</th>\n",
       "      <td>185</td>\n",
       "      <td>微信</td>\n",
       "      <td>男</td>\n",
       "      <td>18~26岁</td>\n",
       "      <td>研究生</td>\n",
       "      <td>湖北省</td>\n",
       "      <td>武汉市</td>\n",
       "      <td>洪山区</td>\n",
       "      <td>50%-80%</td>\n",
       "      <td>NaN</td>\n",
       "      <td>...</td>\n",
       "      <td>1</td>\n",
       "      <td>1</td>\n",
       "      <td>1</td>\n",
       "      <td>3</td>\n",
       "      <td>5</td>\n",
       "      <td>很难推广</td>\n",
       "      <td>2023-03-16 23:38:42</td>\n",
       "      <td>2023-03-16 23:43:23</td>\n",
       "      <td>4分41秒</td>\n",
       "      <td>0.709251</td>\n",
       "    </tr>\n",
       "    <tr>\n",
       "      <th>166</th>\n",
       "      <td>186</td>\n",
       "      <td>NaN</td>\n",
       "      <td>男</td>\n",
       "      <td>27~30岁</td>\n",
       "      <td>研究生</td>\n",
       "      <td>浙江省</td>\n",
       "      <td>嘉兴市</td>\n",
       "      <td>海宁市</td>\n",
       "      <td>&gt;80%</td>\n",
       "      <td>NaN</td>\n",
       "      <td>...</td>\n",
       "      <td>5</td>\n",
       "      <td>5</td>\n",
       "      <td>5</td>\n",
       "      <td>5</td>\n",
       "      <td>5</td>\n",
       "      <td>没有</td>\n",
       "      <td>2023-03-17 09:09:10</td>\n",
       "      <td>2023-03-17 09:13:32</td>\n",
       "      <td>4分22秒</td>\n",
       "      <td>0.526233</td>\n",
       "    </tr>\n",
       "  </tbody>\n",
       "</table>\n",
       "<p>167 rows × 110 columns</p>\n",
       "</div>"
      ],
      "text/plain": [
       "     答题序号   来源 Q1_性别 Q2_您的年龄是? Q3_您的受教育程度是 Q4_您所在的户籍地_省份 Q4_您所在的户籍地_城市  \\\n",
       "0      17   微信     女    18~26岁         研究生           上海市          上海城区   \n",
       "1      18   微信     女    18~26岁         研究生           江苏省           泰州市   \n",
       "2      19   微信     男    27~30岁         研究生           上海市          上海城区   \n",
       "3      20   微信     男    18~26岁         研究生           河南省           洛阳市   \n",
       "4      21   微信     女    18~26岁         研究生           安徽省           安庆市   \n",
       "..    ...  ...   ...       ...         ...           ...           ...   \n",
       "162   182   微信     女    18~26岁         研究生           湖北省           宜昌市   \n",
       "163   183   微信     女    18~26岁         研究生           安徽省           合肥市   \n",
       "164   184   微信     男    18~26岁         本科生           安徽省           六安市   \n",
       "165   185   微信     男    18~26岁         研究生           湖北省           武汉市   \n",
       "166   186  NaN     男    27~30岁         研究生           浙江省           嘉兴市   \n",
       "\n",
       "    Q4_您所在的户籍地_区/县 Q5_您一个月的饮食花销占比为？ Q6_以下菜种中，您偏好于哪几种？_鲁菜（糖醋鲤鱼）  ...  \\\n",
       "0              徐汇区          21%-50%                        NaN  ...   \n",
       "1              兴化市          21%-50%                        NaN  ...   \n",
       "2              徐汇区          21%-50%                        NaN  ...   \n",
       "3              洛龙区          50%-80%                   鲁菜（糖醋鲤鱼）  ...   \n",
       "4              潜山市          21%-50%                        NaN  ...   \n",
       "..             ...              ...                        ...  ...   \n",
       "162            当阳市          21%-50%                   鲁菜（糖醋鲤鱼）  ...   \n",
       "163            庐江县          50%-80%                   鲁菜（糖醋鲤鱼）  ...   \n",
       "164            霍邱县          21%-50%                        NaN  ...   \n",
       "165            洪山区          50%-80%                        NaN  ...   \n",
       "166            海宁市             >80%                        NaN  ...   \n",
       "\n",
       "    Q21_您是否赞同目前预制菜还存在下列缺点？_产品菜系种类少 Q21_您是否赞同目前预制菜还存在下列缺点？_食材不绿色健康  \\\n",
       "0                                5                              5   \n",
       "1                                5                              3   \n",
       "2                                2                              2   \n",
       "3                                3                              4   \n",
       "4                                3                              4   \n",
       "..                             ...                            ...   \n",
       "162                              3                              3   \n",
       "163                              3                              3   \n",
       "164                              2                              3   \n",
       "165                              1                              1   \n",
       "166                              5                              5   \n",
       "\n",
       "    Q21_您是否赞同目前预制菜还存在下列缺点？_没有现做的好吃 Q21_您是否赞同目前预制菜还存在下列缺点？_加工过程不卫生  \\\n",
       "0                                5                              5   \n",
       "1                                4                              3   \n",
       "2                                2                              2   \n",
       "3                                3                              4   \n",
       "4                                5                              4   \n",
       "..                             ...                            ...   \n",
       "162                              3                              4   \n",
       "163                              5                              3   \n",
       "164                              5                              3   \n",
       "165                              1                              3   \n",
       "166                              5                              5   \n",
       "\n",
       "    Q21_您是否赞同目前预制菜还存在下列缺点？_不符合高品质生活  Q22_您对预制菜有什么想说的？                 开始时间  \\\n",
       "0                                 5             做得好吃点  2023-03-15 11:53:30   \n",
       "1                                 3               肉太少  2023-03-15 11:56:08   \n",
       "2                                 2  我从来都没有吃过这么好吃的东西！  2023-03-15 12:05:36   \n",
       "3                                 4                没有  2023-03-15 12:08:06   \n",
       "4                                 2                 无  2023-03-15 12:10:28   \n",
       "..                              ...               ...                  ...   \n",
       "162                               4                 无  2023-03-16 22:28:40   \n",
       "163                               4                 无  2023-03-16 23:30:39   \n",
       "164                               4                 无  2023-03-16 23:34:14   \n",
       "165                               5              很难推广  2023-03-16 23:38:42   \n",
       "166                               5                没有  2023-03-17 09:09:10   \n",
       "\n",
       "                    提交时间   答题时长 sentiment  \n",
       "0    2023-03-15 11:55:46  2分16秒  0.646467  \n",
       "1    2023-03-15 12:00:48  4分40秒  0.244434  \n",
       "2    2023-03-15 12:09:02  3分26秒  0.487761  \n",
       "3    2023-03-15 12:11:58  3分52秒  0.526233  \n",
       "4    2023-03-15 12:15:32   5分4秒  0.409149  \n",
       "..                   ...    ...       ...  \n",
       "162  2023-03-16 22:32:12  3分32秒  0.409149  \n",
       "163  2023-03-16 23:34:38  3分59秒  0.409149  \n",
       "164  2023-03-16 23:37:42  3分28秒  0.409149  \n",
       "165  2023-03-16 23:43:23  4分41秒  0.709251  \n",
       "166  2023-03-17 09:13:32  4分22秒  0.526233  \n",
       "\n",
       "[167 rows x 110 columns]"
      ]
     },
     "execution_count": 101,
     "metadata": {},
     "output_type": "execute_result"
    }
   ],
   "source": [
    "import pandas as pd\n",
    "from snownlp import SnowNLP\n",
    "data = pd.read_excel(r\"C:\\Users\\Terry\\Desktop\\数据表_原始数据.xlsx\")\n",
    "data[\"sentiment\"] = data[\"Q22_您对预制菜有什么想说的？\"].apply(lambda x: SnowNLP(x).sentiments)\n",
    "data"
   ]
  },
  {
   "cell_type": "code",
   "execution_count": 103,
   "id": "b62ee270",
   "metadata": {},
   "outputs": [],
   "source": [
    "data.to_excel(r\"C:\\Users\\Terry\\Desktop\\sentiment.xlsx\")"
   ]
  },
  {
   "cell_type": "code",
   "execution_count": 40,
   "id": "466c962d",
   "metadata": {},
   "outputs": [],
   "source": [
    "data[\"sign\"] = \"\"\n",
    "data.loc[data['sentiment'] < 0.4,\"sign\"] = \"negative\"\n",
    "data.loc[data['sentiment'] > 0.6,\"sign\"] = \"positive\"\n",
    "data.loc[(data['sentiment'] > 0.4) & (data['sentiment'] <0.6),\"sign\"] = \"neutral\""
   ]
  },
  {
   "cell_type": "code",
   "execution_count": 41,
   "id": "5ed3b85d",
   "metadata": {},
   "outputs": [
    {
     "data": {
      "text/html": [
       "<div>\n",
       "<style scoped>\n",
       "    .dataframe tbody tr th:only-of-type {\n",
       "        vertical-align: middle;\n",
       "    }\n",
       "\n",
       "    .dataframe tbody tr th {\n",
       "        vertical-align: top;\n",
       "    }\n",
       "\n",
       "    .dataframe thead th {\n",
       "        text-align: right;\n",
       "    }\n",
       "</style>\n",
       "<table border=\"1\" class=\"dataframe\">\n",
       "  <thead>\n",
       "    <tr style=\"text-align: right;\">\n",
       "      <th></th>\n",
       "      <th>sign</th>\n",
       "    </tr>\n",
       "  </thead>\n",
       "  <tbody>\n",
       "    <tr>\n",
       "      <th>neutral</th>\n",
       "      <td>98</td>\n",
       "    </tr>\n",
       "    <tr>\n",
       "      <th>positive</th>\n",
       "      <td>40</td>\n",
       "    </tr>\n",
       "    <tr>\n",
       "      <th>negative</th>\n",
       "      <td>29</td>\n",
       "    </tr>\n",
       "  </tbody>\n",
       "</table>\n",
       "</div>"
      ],
      "text/plain": [
       "          sign\n",
       "neutral     98\n",
       "positive    40\n",
       "negative    29"
      ]
     },
     "execution_count": 41,
     "metadata": {},
     "output_type": "execute_result"
    }
   ],
   "source": [
    "data = pd.DataFrame(data.sign.value_counts())\n",
    "data"
   ]
  },
  {
   "cell_type": "code",
   "execution_count": 42,
   "id": "283f9c05",
   "metadata": {},
   "outputs": [
    {
     "data": {
      "application/vnd.plotly.v1+json": {
       "config": {
        "plotlyServerURL": "https://plot.ly"
       },
       "data": [
        {
         "hole": 0.3,
         "labels": [
          "neutral",
          "positive",
          "negative"
         ],
         "type": "pie",
         "values": [
          98,
          40,
          29
         ]
        }
       ],
       "layout": {
        "template": {
         "data": {
          "bar": [
           {
            "error_x": {
             "color": "#2a3f5f"
            },
            "error_y": {
             "color": "#2a3f5f"
            },
            "marker": {
             "line": {
              "color": "#E5ECF6",
              "width": 0.5
             },
             "pattern": {
              "fillmode": "overlay",
              "size": 10,
              "solidity": 0.2
             }
            },
            "type": "bar"
           }
          ],
          "barpolar": [
           {
            "marker": {
             "line": {
              "color": "#E5ECF6",
              "width": 0.5
             },
             "pattern": {
              "fillmode": "overlay",
              "size": 10,
              "solidity": 0.2
             }
            },
            "type": "barpolar"
           }
          ],
          "carpet": [
           {
            "aaxis": {
             "endlinecolor": "#2a3f5f",
             "gridcolor": "white",
             "linecolor": "white",
             "minorgridcolor": "white",
             "startlinecolor": "#2a3f5f"
            },
            "baxis": {
             "endlinecolor": "#2a3f5f",
             "gridcolor": "white",
             "linecolor": "white",
             "minorgridcolor": "white",
             "startlinecolor": "#2a3f5f"
            },
            "type": "carpet"
           }
          ],
          "choropleth": [
           {
            "colorbar": {
             "outlinewidth": 0,
             "ticks": ""
            },
            "type": "choropleth"
           }
          ],
          "contour": [
           {
            "colorbar": {
             "outlinewidth": 0,
             "ticks": ""
            },
            "colorscale": [
             [
              0,
              "#0d0887"
             ],
             [
              0.1111111111111111,
              "#46039f"
             ],
             [
              0.2222222222222222,
              "#7201a8"
             ],
             [
              0.3333333333333333,
              "#9c179e"
             ],
             [
              0.4444444444444444,
              "#bd3786"
             ],
             [
              0.5555555555555556,
              "#d8576b"
             ],
             [
              0.6666666666666666,
              "#ed7953"
             ],
             [
              0.7777777777777778,
              "#fb9f3a"
             ],
             [
              0.8888888888888888,
              "#fdca26"
             ],
             [
              1,
              "#f0f921"
             ]
            ],
            "type": "contour"
           }
          ],
          "contourcarpet": [
           {
            "colorbar": {
             "outlinewidth": 0,
             "ticks": ""
            },
            "type": "contourcarpet"
           }
          ],
          "heatmap": [
           {
            "colorbar": {
             "outlinewidth": 0,
             "ticks": ""
            },
            "colorscale": [
             [
              0,
              "#0d0887"
             ],
             [
              0.1111111111111111,
              "#46039f"
             ],
             [
              0.2222222222222222,
              "#7201a8"
             ],
             [
              0.3333333333333333,
              "#9c179e"
             ],
             [
              0.4444444444444444,
              "#bd3786"
             ],
             [
              0.5555555555555556,
              "#d8576b"
             ],
             [
              0.6666666666666666,
              "#ed7953"
             ],
             [
              0.7777777777777778,
              "#fb9f3a"
             ],
             [
              0.8888888888888888,
              "#fdca26"
             ],
             [
              1,
              "#f0f921"
             ]
            ],
            "type": "heatmap"
           }
          ],
          "heatmapgl": [
           {
            "colorbar": {
             "outlinewidth": 0,
             "ticks": ""
            },
            "colorscale": [
             [
              0,
              "#0d0887"
             ],
             [
              0.1111111111111111,
              "#46039f"
             ],
             [
              0.2222222222222222,
              "#7201a8"
             ],
             [
              0.3333333333333333,
              "#9c179e"
             ],
             [
              0.4444444444444444,
              "#bd3786"
             ],
             [
              0.5555555555555556,
              "#d8576b"
             ],
             [
              0.6666666666666666,
              "#ed7953"
             ],
             [
              0.7777777777777778,
              "#fb9f3a"
             ],
             [
              0.8888888888888888,
              "#fdca26"
             ],
             [
              1,
              "#f0f921"
             ]
            ],
            "type": "heatmapgl"
           }
          ],
          "histogram": [
           {
            "marker": {
             "pattern": {
              "fillmode": "overlay",
              "size": 10,
              "solidity": 0.2
             }
            },
            "type": "histogram"
           }
          ],
          "histogram2d": [
           {
            "colorbar": {
             "outlinewidth": 0,
             "ticks": ""
            },
            "colorscale": [
             [
              0,
              "#0d0887"
             ],
             [
              0.1111111111111111,
              "#46039f"
             ],
             [
              0.2222222222222222,
              "#7201a8"
             ],
             [
              0.3333333333333333,
              "#9c179e"
             ],
             [
              0.4444444444444444,
              "#bd3786"
             ],
             [
              0.5555555555555556,
              "#d8576b"
             ],
             [
              0.6666666666666666,
              "#ed7953"
             ],
             [
              0.7777777777777778,
              "#fb9f3a"
             ],
             [
              0.8888888888888888,
              "#fdca26"
             ],
             [
              1,
              "#f0f921"
             ]
            ],
            "type": "histogram2d"
           }
          ],
          "histogram2dcontour": [
           {
            "colorbar": {
             "outlinewidth": 0,
             "ticks": ""
            },
            "colorscale": [
             [
              0,
              "#0d0887"
             ],
             [
              0.1111111111111111,
              "#46039f"
             ],
             [
              0.2222222222222222,
              "#7201a8"
             ],
             [
              0.3333333333333333,
              "#9c179e"
             ],
             [
              0.4444444444444444,
              "#bd3786"
             ],
             [
              0.5555555555555556,
              "#d8576b"
             ],
             [
              0.6666666666666666,
              "#ed7953"
             ],
             [
              0.7777777777777778,
              "#fb9f3a"
             ],
             [
              0.8888888888888888,
              "#fdca26"
             ],
             [
              1,
              "#f0f921"
             ]
            ],
            "type": "histogram2dcontour"
           }
          ],
          "mesh3d": [
           {
            "colorbar": {
             "outlinewidth": 0,
             "ticks": ""
            },
            "type": "mesh3d"
           }
          ],
          "parcoords": [
           {
            "line": {
             "colorbar": {
              "outlinewidth": 0,
              "ticks": ""
             }
            },
            "type": "parcoords"
           }
          ],
          "pie": [
           {
            "automargin": true,
            "type": "pie"
           }
          ],
          "scatter": [
           {
            "fillpattern": {
             "fillmode": "overlay",
             "size": 10,
             "solidity": 0.2
            },
            "type": "scatter"
           }
          ],
          "scatter3d": [
           {
            "line": {
             "colorbar": {
              "outlinewidth": 0,
              "ticks": ""
             }
            },
            "marker": {
             "colorbar": {
              "outlinewidth": 0,
              "ticks": ""
             }
            },
            "type": "scatter3d"
           }
          ],
          "scattercarpet": [
           {
            "marker": {
             "colorbar": {
              "outlinewidth": 0,
              "ticks": ""
             }
            },
            "type": "scattercarpet"
           }
          ],
          "scattergeo": [
           {
            "marker": {
             "colorbar": {
              "outlinewidth": 0,
              "ticks": ""
             }
            },
            "type": "scattergeo"
           }
          ],
          "scattergl": [
           {
            "marker": {
             "colorbar": {
              "outlinewidth": 0,
              "ticks": ""
             }
            },
            "type": "scattergl"
           }
          ],
          "scattermapbox": [
           {
            "marker": {
             "colorbar": {
              "outlinewidth": 0,
              "ticks": ""
             }
            },
            "type": "scattermapbox"
           }
          ],
          "scatterpolar": [
           {
            "marker": {
             "colorbar": {
              "outlinewidth": 0,
              "ticks": ""
             }
            },
            "type": "scatterpolar"
           }
          ],
          "scatterpolargl": [
           {
            "marker": {
             "colorbar": {
              "outlinewidth": 0,
              "ticks": ""
             }
            },
            "type": "scatterpolargl"
           }
          ],
          "scatterternary": [
           {
            "marker": {
             "colorbar": {
              "outlinewidth": 0,
              "ticks": ""
             }
            },
            "type": "scatterternary"
           }
          ],
          "surface": [
           {
            "colorbar": {
             "outlinewidth": 0,
             "ticks": ""
            },
            "colorscale": [
             [
              0,
              "#0d0887"
             ],
             [
              0.1111111111111111,
              "#46039f"
             ],
             [
              0.2222222222222222,
              "#7201a8"
             ],
             [
              0.3333333333333333,
              "#9c179e"
             ],
             [
              0.4444444444444444,
              "#bd3786"
             ],
             [
              0.5555555555555556,
              "#d8576b"
             ],
             [
              0.6666666666666666,
              "#ed7953"
             ],
             [
              0.7777777777777778,
              "#fb9f3a"
             ],
             [
              0.8888888888888888,
              "#fdca26"
             ],
             [
              1,
              "#f0f921"
             ]
            ],
            "type": "surface"
           }
          ],
          "table": [
           {
            "cells": {
             "fill": {
              "color": "#EBF0F8"
             },
             "line": {
              "color": "white"
             }
            },
            "header": {
             "fill": {
              "color": "#C8D4E3"
             },
             "line": {
              "color": "white"
             }
            },
            "type": "table"
           }
          ]
         },
         "layout": {
          "annotationdefaults": {
           "arrowcolor": "#2a3f5f",
           "arrowhead": 0,
           "arrowwidth": 1
          },
          "autotypenumbers": "strict",
          "coloraxis": {
           "colorbar": {
            "outlinewidth": 0,
            "ticks": ""
           }
          },
          "colorscale": {
           "diverging": [
            [
             0,
             "#8e0152"
            ],
            [
             0.1,
             "#c51b7d"
            ],
            [
             0.2,
             "#de77ae"
            ],
            [
             0.3,
             "#f1b6da"
            ],
            [
             0.4,
             "#fde0ef"
            ],
            [
             0.5,
             "#f7f7f7"
            ],
            [
             0.6,
             "#e6f5d0"
            ],
            [
             0.7,
             "#b8e186"
            ],
            [
             0.8,
             "#7fbc41"
            ],
            [
             0.9,
             "#4d9221"
            ],
            [
             1,
             "#276419"
            ]
           ],
           "sequential": [
            [
             0,
             "#0d0887"
            ],
            [
             0.1111111111111111,
             "#46039f"
            ],
            [
             0.2222222222222222,
             "#7201a8"
            ],
            [
             0.3333333333333333,
             "#9c179e"
            ],
            [
             0.4444444444444444,
             "#bd3786"
            ],
            [
             0.5555555555555556,
             "#d8576b"
            ],
            [
             0.6666666666666666,
             "#ed7953"
            ],
            [
             0.7777777777777778,
             "#fb9f3a"
            ],
            [
             0.8888888888888888,
             "#fdca26"
            ],
            [
             1,
             "#f0f921"
            ]
           ],
           "sequentialminus": [
            [
             0,
             "#0d0887"
            ],
            [
             0.1111111111111111,
             "#46039f"
            ],
            [
             0.2222222222222222,
             "#7201a8"
            ],
            [
             0.3333333333333333,
             "#9c179e"
            ],
            [
             0.4444444444444444,
             "#bd3786"
            ],
            [
             0.5555555555555556,
             "#d8576b"
            ],
            [
             0.6666666666666666,
             "#ed7953"
            ],
            [
             0.7777777777777778,
             "#fb9f3a"
            ],
            [
             0.8888888888888888,
             "#fdca26"
            ],
            [
             1,
             "#f0f921"
            ]
           ]
          },
          "colorway": [
           "#636efa",
           "#EF553B",
           "#00cc96",
           "#ab63fa",
           "#FFA15A",
           "#19d3f3",
           "#FF6692",
           "#B6E880",
           "#FF97FF",
           "#FECB52"
          ],
          "font": {
           "color": "#2a3f5f"
          },
          "geo": {
           "bgcolor": "white",
           "lakecolor": "white",
           "landcolor": "#E5ECF6",
           "showlakes": true,
           "showland": true,
           "subunitcolor": "white"
          },
          "hoverlabel": {
           "align": "left"
          },
          "hovermode": "closest",
          "mapbox": {
           "style": "light"
          },
          "paper_bgcolor": "white",
          "plot_bgcolor": "#E5ECF6",
          "polar": {
           "angularaxis": {
            "gridcolor": "white",
            "linecolor": "white",
            "ticks": ""
           },
           "bgcolor": "#E5ECF6",
           "radialaxis": {
            "gridcolor": "white",
            "linecolor": "white",
            "ticks": ""
           }
          },
          "scene": {
           "xaxis": {
            "backgroundcolor": "#E5ECF6",
            "gridcolor": "white",
            "gridwidth": 2,
            "linecolor": "white",
            "showbackground": true,
            "ticks": "",
            "zerolinecolor": "white"
           },
           "yaxis": {
            "backgroundcolor": "#E5ECF6",
            "gridcolor": "white",
            "gridwidth": 2,
            "linecolor": "white",
            "showbackground": true,
            "ticks": "",
            "zerolinecolor": "white"
           },
           "zaxis": {
            "backgroundcolor": "#E5ECF6",
            "gridcolor": "white",
            "gridwidth": 2,
            "linecolor": "white",
            "showbackground": true,
            "ticks": "",
            "zerolinecolor": "white"
           }
          },
          "shapedefaults": {
           "line": {
            "color": "#2a3f5f"
           }
          },
          "ternary": {
           "aaxis": {
            "gridcolor": "white",
            "linecolor": "white",
            "ticks": ""
           },
           "baxis": {
            "gridcolor": "white",
            "linecolor": "white",
            "ticks": ""
           },
           "bgcolor": "#E5ECF6",
           "caxis": {
            "gridcolor": "white",
            "linecolor": "white",
            "ticks": ""
           }
          },
          "title": {
           "x": 0.05
          },
          "xaxis": {
           "automargin": true,
           "gridcolor": "white",
           "linecolor": "white",
           "ticks": "",
           "title": {
            "standoff": 15
           },
           "zerolinecolor": "white",
           "zerolinewidth": 2
          },
          "yaxis": {
           "automargin": true,
           "gridcolor": "white",
           "linecolor": "white",
           "ticks": "",
           "title": {
            "standoff": 15
           },
           "zerolinecolor": "white",
           "zerolinewidth": 2
          }
         }
        }
       }
      },
      "text/html": [
       "<div>                            <div id=\"a542a12d-7fde-4ee3-9fe6-82eaddd8ddab\" class=\"plotly-graph-div\" style=\"height:525px; width:100%;\"></div>            <script type=\"text/javascript\">                require([\"plotly\"], function(Plotly) {                    window.PLOTLYENV=window.PLOTLYENV || {};                                    if (document.getElementById(\"a542a12d-7fde-4ee3-9fe6-82eaddd8ddab\")) {                    Plotly.newPlot(                        \"a542a12d-7fde-4ee3-9fe6-82eaddd8ddab\",                        [{\"hole\":0.3,\"labels\":[\"neutral\",\"positive\",\"negative\"],\"values\":[98,40,29],\"type\":\"pie\"}],                        {\"template\":{\"data\":{\"histogram2dcontour\":[{\"type\":\"histogram2dcontour\",\"colorbar\":{\"outlinewidth\":0,\"ticks\":\"\"},\"colorscale\":[[0.0,\"#0d0887\"],[0.1111111111111111,\"#46039f\"],[0.2222222222222222,\"#7201a8\"],[0.3333333333333333,\"#9c179e\"],[0.4444444444444444,\"#bd3786\"],[0.5555555555555556,\"#d8576b\"],[0.6666666666666666,\"#ed7953\"],[0.7777777777777778,\"#fb9f3a\"],[0.8888888888888888,\"#fdca26\"],[1.0,\"#f0f921\"]]}],\"choropleth\":[{\"type\":\"choropleth\",\"colorbar\":{\"outlinewidth\":0,\"ticks\":\"\"}}],\"histogram2d\":[{\"type\":\"histogram2d\",\"colorbar\":{\"outlinewidth\":0,\"ticks\":\"\"},\"colorscale\":[[0.0,\"#0d0887\"],[0.1111111111111111,\"#46039f\"],[0.2222222222222222,\"#7201a8\"],[0.3333333333333333,\"#9c179e\"],[0.4444444444444444,\"#bd3786\"],[0.5555555555555556,\"#d8576b\"],[0.6666666666666666,\"#ed7953\"],[0.7777777777777778,\"#fb9f3a\"],[0.8888888888888888,\"#fdca26\"],[1.0,\"#f0f921\"]]}],\"heatmap\":[{\"type\":\"heatmap\",\"colorbar\":{\"outlinewidth\":0,\"ticks\":\"\"},\"colorscale\":[[0.0,\"#0d0887\"],[0.1111111111111111,\"#46039f\"],[0.2222222222222222,\"#7201a8\"],[0.3333333333333333,\"#9c179e\"],[0.4444444444444444,\"#bd3786\"],[0.5555555555555556,\"#d8576b\"],[0.6666666666666666,\"#ed7953\"],[0.7777777777777778,\"#fb9f3a\"],[0.8888888888888888,\"#fdca26\"],[1.0,\"#f0f921\"]]}],\"heatmapgl\":[{\"type\":\"heatmapgl\",\"colorbar\":{\"outlinewidth\":0,\"ticks\":\"\"},\"colorscale\":[[0.0,\"#0d0887\"],[0.1111111111111111,\"#46039f\"],[0.2222222222222222,\"#7201a8\"],[0.3333333333333333,\"#9c179e\"],[0.4444444444444444,\"#bd3786\"],[0.5555555555555556,\"#d8576b\"],[0.6666666666666666,\"#ed7953\"],[0.7777777777777778,\"#fb9f3a\"],[0.8888888888888888,\"#fdca26\"],[1.0,\"#f0f921\"]]}],\"contourcarpet\":[{\"type\":\"contourcarpet\",\"colorbar\":{\"outlinewidth\":0,\"ticks\":\"\"}}],\"contour\":[{\"type\":\"contour\",\"colorbar\":{\"outlinewidth\":0,\"ticks\":\"\"},\"colorscale\":[[0.0,\"#0d0887\"],[0.1111111111111111,\"#46039f\"],[0.2222222222222222,\"#7201a8\"],[0.3333333333333333,\"#9c179e\"],[0.4444444444444444,\"#bd3786\"],[0.5555555555555556,\"#d8576b\"],[0.6666666666666666,\"#ed7953\"],[0.7777777777777778,\"#fb9f3a\"],[0.8888888888888888,\"#fdca26\"],[1.0,\"#f0f921\"]]}],\"surface\":[{\"type\":\"surface\",\"colorbar\":{\"outlinewidth\":0,\"ticks\":\"\"},\"colorscale\":[[0.0,\"#0d0887\"],[0.1111111111111111,\"#46039f\"],[0.2222222222222222,\"#7201a8\"],[0.3333333333333333,\"#9c179e\"],[0.4444444444444444,\"#bd3786\"],[0.5555555555555556,\"#d8576b\"],[0.6666666666666666,\"#ed7953\"],[0.7777777777777778,\"#fb9f3a\"],[0.8888888888888888,\"#fdca26\"],[1.0,\"#f0f921\"]]}],\"mesh3d\":[{\"type\":\"mesh3d\",\"colorbar\":{\"outlinewidth\":0,\"ticks\":\"\"}}],\"scatter\":[{\"fillpattern\":{\"fillmode\":\"overlay\",\"size\":10,\"solidity\":0.2},\"type\":\"scatter\"}],\"parcoords\":[{\"type\":\"parcoords\",\"line\":{\"colorbar\":{\"outlinewidth\":0,\"ticks\":\"\"}}}],\"scatterpolargl\":[{\"type\":\"scatterpolargl\",\"marker\":{\"colorbar\":{\"outlinewidth\":0,\"ticks\":\"\"}}}],\"bar\":[{\"error_x\":{\"color\":\"#2a3f5f\"},\"error_y\":{\"color\":\"#2a3f5f\"},\"marker\":{\"line\":{\"color\":\"#E5ECF6\",\"width\":0.5},\"pattern\":{\"fillmode\":\"overlay\",\"size\":10,\"solidity\":0.2}},\"type\":\"bar\"}],\"scattergeo\":[{\"type\":\"scattergeo\",\"marker\":{\"colorbar\":{\"outlinewidth\":0,\"ticks\":\"\"}}}],\"scatterpolar\":[{\"type\":\"scatterpolar\",\"marker\":{\"colorbar\":{\"outlinewidth\":0,\"ticks\":\"\"}}}],\"histogram\":[{\"marker\":{\"pattern\":{\"fillmode\":\"overlay\",\"size\":10,\"solidity\":0.2}},\"type\":\"histogram\"}],\"scattergl\":[{\"type\":\"scattergl\",\"marker\":{\"colorbar\":{\"outlinewidth\":0,\"ticks\":\"\"}}}],\"scatter3d\":[{\"type\":\"scatter3d\",\"line\":{\"colorbar\":{\"outlinewidth\":0,\"ticks\":\"\"}},\"marker\":{\"colorbar\":{\"outlinewidth\":0,\"ticks\":\"\"}}}],\"scattermapbox\":[{\"type\":\"scattermapbox\",\"marker\":{\"colorbar\":{\"outlinewidth\":0,\"ticks\":\"\"}}}],\"scatterternary\":[{\"type\":\"scatterternary\",\"marker\":{\"colorbar\":{\"outlinewidth\":0,\"ticks\":\"\"}}}],\"scattercarpet\":[{\"type\":\"scattercarpet\",\"marker\":{\"colorbar\":{\"outlinewidth\":0,\"ticks\":\"\"}}}],\"carpet\":[{\"aaxis\":{\"endlinecolor\":\"#2a3f5f\",\"gridcolor\":\"white\",\"linecolor\":\"white\",\"minorgridcolor\":\"white\",\"startlinecolor\":\"#2a3f5f\"},\"baxis\":{\"endlinecolor\":\"#2a3f5f\",\"gridcolor\":\"white\",\"linecolor\":\"white\",\"minorgridcolor\":\"white\",\"startlinecolor\":\"#2a3f5f\"},\"type\":\"carpet\"}],\"table\":[{\"cells\":{\"fill\":{\"color\":\"#EBF0F8\"},\"line\":{\"color\":\"white\"}},\"header\":{\"fill\":{\"color\":\"#C8D4E3\"},\"line\":{\"color\":\"white\"}},\"type\":\"table\"}],\"barpolar\":[{\"marker\":{\"line\":{\"color\":\"#E5ECF6\",\"width\":0.5},\"pattern\":{\"fillmode\":\"overlay\",\"size\":10,\"solidity\":0.2}},\"type\":\"barpolar\"}],\"pie\":[{\"automargin\":true,\"type\":\"pie\"}]},\"layout\":{\"autotypenumbers\":\"strict\",\"colorway\":[\"#636efa\",\"#EF553B\",\"#00cc96\",\"#ab63fa\",\"#FFA15A\",\"#19d3f3\",\"#FF6692\",\"#B6E880\",\"#FF97FF\",\"#FECB52\"],\"font\":{\"color\":\"#2a3f5f\"},\"hovermode\":\"closest\",\"hoverlabel\":{\"align\":\"left\"},\"paper_bgcolor\":\"white\",\"plot_bgcolor\":\"#E5ECF6\",\"polar\":{\"bgcolor\":\"#E5ECF6\",\"angularaxis\":{\"gridcolor\":\"white\",\"linecolor\":\"white\",\"ticks\":\"\"},\"radialaxis\":{\"gridcolor\":\"white\",\"linecolor\":\"white\",\"ticks\":\"\"}},\"ternary\":{\"bgcolor\":\"#E5ECF6\",\"aaxis\":{\"gridcolor\":\"white\",\"linecolor\":\"white\",\"ticks\":\"\"},\"baxis\":{\"gridcolor\":\"white\",\"linecolor\":\"white\",\"ticks\":\"\"},\"caxis\":{\"gridcolor\":\"white\",\"linecolor\":\"white\",\"ticks\":\"\"}},\"coloraxis\":{\"colorbar\":{\"outlinewidth\":0,\"ticks\":\"\"}},\"colorscale\":{\"sequential\":[[0.0,\"#0d0887\"],[0.1111111111111111,\"#46039f\"],[0.2222222222222222,\"#7201a8\"],[0.3333333333333333,\"#9c179e\"],[0.4444444444444444,\"#bd3786\"],[0.5555555555555556,\"#d8576b\"],[0.6666666666666666,\"#ed7953\"],[0.7777777777777778,\"#fb9f3a\"],[0.8888888888888888,\"#fdca26\"],[1.0,\"#f0f921\"]],\"sequentialminus\":[[0.0,\"#0d0887\"],[0.1111111111111111,\"#46039f\"],[0.2222222222222222,\"#7201a8\"],[0.3333333333333333,\"#9c179e\"],[0.4444444444444444,\"#bd3786\"],[0.5555555555555556,\"#d8576b\"],[0.6666666666666666,\"#ed7953\"],[0.7777777777777778,\"#fb9f3a\"],[0.8888888888888888,\"#fdca26\"],[1.0,\"#f0f921\"]],\"diverging\":[[0,\"#8e0152\"],[0.1,\"#c51b7d\"],[0.2,\"#de77ae\"],[0.3,\"#f1b6da\"],[0.4,\"#fde0ef\"],[0.5,\"#f7f7f7\"],[0.6,\"#e6f5d0\"],[0.7,\"#b8e186\"],[0.8,\"#7fbc41\"],[0.9,\"#4d9221\"],[1,\"#276419\"]]},\"xaxis\":{\"gridcolor\":\"white\",\"linecolor\":\"white\",\"ticks\":\"\",\"title\":{\"standoff\":15},\"zerolinecolor\":\"white\",\"automargin\":true,\"zerolinewidth\":2},\"yaxis\":{\"gridcolor\":\"white\",\"linecolor\":\"white\",\"ticks\":\"\",\"title\":{\"standoff\":15},\"zerolinecolor\":\"white\",\"automargin\":true,\"zerolinewidth\":2},\"scene\":{\"xaxis\":{\"backgroundcolor\":\"#E5ECF6\",\"gridcolor\":\"white\",\"linecolor\":\"white\",\"showbackground\":true,\"ticks\":\"\",\"zerolinecolor\":\"white\",\"gridwidth\":2},\"yaxis\":{\"backgroundcolor\":\"#E5ECF6\",\"gridcolor\":\"white\",\"linecolor\":\"white\",\"showbackground\":true,\"ticks\":\"\",\"zerolinecolor\":\"white\",\"gridwidth\":2},\"zaxis\":{\"backgroundcolor\":\"#E5ECF6\",\"gridcolor\":\"white\",\"linecolor\":\"white\",\"showbackground\":true,\"ticks\":\"\",\"zerolinecolor\":\"white\",\"gridwidth\":2}},\"shapedefaults\":{\"line\":{\"color\":\"#2a3f5f\"}},\"annotationdefaults\":{\"arrowcolor\":\"#2a3f5f\",\"arrowhead\":0,\"arrowwidth\":1},\"geo\":{\"bgcolor\":\"white\",\"landcolor\":\"#E5ECF6\",\"subunitcolor\":\"white\",\"showland\":true,\"showlakes\":true,\"lakecolor\":\"white\"},\"title\":{\"x\":0.05},\"mapbox\":{\"style\":\"light\"}}}},                        {\"responsive\": true}                    ).then(function(){\n",
       "                            \n",
       "var gd = document.getElementById('a542a12d-7fde-4ee3-9fe6-82eaddd8ddab');\n",
       "var x = new MutationObserver(function (mutations, observer) {{\n",
       "        var display = window.getComputedStyle(gd).display;\n",
       "        if (!display || display === 'none') {{\n",
       "            console.log([gd, 'removed!']);\n",
       "            Plotly.purge(gd);\n",
       "            observer.disconnect();\n",
       "        }}\n",
       "}});\n",
       "\n",
       "// Listen for the removal of the full notebook cells\n",
       "var notebookContainer = gd.closest('#notebook-container');\n",
       "if (notebookContainer) {{\n",
       "    x.observe(notebookContainer, {childList: true});\n",
       "}}\n",
       "\n",
       "// Listen for the clearing of the current output cell\n",
       "var outputEl = gd.closest('.output');\n",
       "if (outputEl) {{\n",
       "    x.observe(outputEl, {childList: true});\n",
       "}}\n",
       "\n",
       "                        })                };                });            </script>        </div>"
      ]
     },
     "metadata": {},
     "output_type": "display_data"
    }
   ],
   "source": [
    "import plotly.graph_objects as go\n",
    "\n",
    "# 根据情感分为中立/积极/消极\n",
    "fig = go.Figure(data=[go.Pie(labels=data.index, values=data.sign, hole=.3)])\n",
    "fig.show()"
   ]
  },
  {
   "cell_type": "code",
   "execution_count": 82,
   "id": "51bae244",
   "metadata": {
    "scrolled": true
   },
   "outputs": [],
   "source": [
    "# 雷达图数据处理\n",
    "data = pd.read_excel(r\"C:\\Users\\Terry\\Desktop\\数据.xlsx\")"
   ]
  },
  {
   "cell_type": "code",
   "execution_count": 80,
   "id": "33580a88",
   "metadata": {},
   "outputs": [],
   "source": [
    "# Q16\n",
    "Q16_1 = pd.DataFrame(data['Q16|1'].value_counts())\n",
    "Q16_1.columns = ['轻食减脂（沙拉）']\n",
    "Q16_2 = pd.DataFrame(data['Q16|2'].value_counts())\n",
    "Q16_2.columns = ['特色小吃（如红糖糍粑）']\n",
    "Q16_3 = pd.DataFrame(data['Q16|3'].value_counts())\n",
    "Q16_3.columns = ['粉面系列（螺蛳粉酸辣粉）']\n",
    "Q16_4 = pd.DataFrame(data['Q16|4'].value_counts())\n",
    "Q16_4.columns = ['烘烤系列（桃李面包）']\n",
    "Q16_5 = pd.DataFrame(data['Q16|5'].value_counts())\n",
    "Q16_5.columns = ['爆炒系列（宫保鸡丁）']\n",
    "Q16_6 = pd.DataFrame(data['Q16|6'].value_counts())\n",
    "Q16_6.columns = ['西餐快餐（汉堡披萨）']"
   ]
  },
  {
   "cell_type": "code",
   "execution_count": 83,
   "id": "4246b643",
   "metadata": {},
   "outputs": [
    {
     "data": {
      "text/html": [
       "<div>\n",
       "<style scoped>\n",
       "    .dataframe tbody tr th:only-of-type {\n",
       "        vertical-align: middle;\n",
       "    }\n",
       "\n",
       "    .dataframe tbody tr th {\n",
       "        vertical-align: top;\n",
       "    }\n",
       "\n",
       "    .dataframe thead th {\n",
       "        text-align: right;\n",
       "    }\n",
       "</style>\n",
       "<table border=\"1\" class=\"dataframe\">\n",
       "  <thead>\n",
       "    <tr style=\"text-align: right;\">\n",
       "      <th></th>\n",
       "      <th>index</th>\n",
       "      <th>轻食减脂（沙拉）</th>\n",
       "      <th>特色小吃（如红糖糍粑）</th>\n",
       "      <th>粉面系列（螺蛳粉酸辣粉）</th>\n",
       "      <th>烘烤系列（桃李面包）</th>\n",
       "      <th>爆炒系列（宫保鸡丁）</th>\n",
       "      <th>西餐快餐（汉堡披萨）</th>\n",
       "    </tr>\n",
       "  </thead>\n",
       "  <tbody>\n",
       "    <tr>\n",
       "      <th>0</th>\n",
       "      <td>1.0</td>\n",
       "      <td>49</td>\n",
       "      <td>21</td>\n",
       "      <td>21</td>\n",
       "      <td>4</td>\n",
       "      <td>5</td>\n",
       "      <td>5</td>\n",
       "    </tr>\n",
       "    <tr>\n",
       "      <th>1</th>\n",
       "      <td>2.0</td>\n",
       "      <td>15</td>\n",
       "      <td>24</td>\n",
       "      <td>22</td>\n",
       "      <td>15</td>\n",
       "      <td>12</td>\n",
       "      <td>17</td>\n",
       "    </tr>\n",
       "    <tr>\n",
       "      <th>2</th>\n",
       "      <td>3.0</td>\n",
       "      <td>12</td>\n",
       "      <td>19</td>\n",
       "      <td>25</td>\n",
       "      <td>21</td>\n",
       "      <td>10</td>\n",
       "      <td>18</td>\n",
       "    </tr>\n",
       "    <tr>\n",
       "      <th>3</th>\n",
       "      <td>6.0</td>\n",
       "      <td>11</td>\n",
       "      <td>13</td>\n",
       "      <td>11</td>\n",
       "      <td>14</td>\n",
       "      <td>27</td>\n",
       "      <td>29</td>\n",
       "    </tr>\n",
       "    <tr>\n",
       "      <th>4</th>\n",
       "      <td>4.0</td>\n",
       "      <td>11</td>\n",
       "      <td>13</td>\n",
       "      <td>14</td>\n",
       "      <td>33</td>\n",
       "      <td>19</td>\n",
       "      <td>15</td>\n",
       "    </tr>\n",
       "    <tr>\n",
       "      <th>5</th>\n",
       "      <td>5.0</td>\n",
       "      <td>7</td>\n",
       "      <td>15</td>\n",
       "      <td>12</td>\n",
       "      <td>18</td>\n",
       "      <td>32</td>\n",
       "      <td>21</td>\n",
       "    </tr>\n",
       "  </tbody>\n",
       "</table>\n",
       "</div>"
      ],
      "text/plain": [
       "   index  轻食减脂（沙拉）  特色小吃（如红糖糍粑）  粉面系列（螺蛳粉酸辣粉）  烘烤系列（桃李面包）  爆炒系列（宫保鸡丁）  \\\n",
       "0    1.0        49           21            21           4           5   \n",
       "1    2.0        15           24            22          15          12   \n",
       "2    3.0        12           19            25          21          10   \n",
       "3    6.0        11           13            11          14          27   \n",
       "4    4.0        11           13            14          33          19   \n",
       "5    5.0         7           15            12          18          32   \n",
       "\n",
       "   西餐快餐（汉堡披萨）  \n",
       "0           5  \n",
       "1          17  \n",
       "2          18  \n",
       "3          29  \n",
       "4          15  \n",
       "5          21  "
      ]
     },
     "execution_count": 83,
     "metadata": {},
     "output_type": "execute_result"
    }
   ],
   "source": [
    "Q16 = pd.concat([Q16_1,Q16_2,Q16_3,Q16_4,Q16_5,Q16_6],axis = 1)\n",
    "Q16 = Q16.reset_index()\n",
    "Q16"
   ]
  },
  {
   "cell_type": "code",
   "execution_count": 84,
   "id": "5d830957",
   "metadata": {},
   "outputs": [],
   "source": [
    "Q16.to_excel(r\"C:\\Users\\Terry\\Desktop\\Q16.xlsx\")"
   ]
  },
  {
   "cell_type": "code",
   "execution_count": 98,
   "id": "63428961",
   "metadata": {},
   "outputs": [],
   "source": [
    "# 百分比带状图 你认为的缺点\n",
    "Q21_1 = pd.DataFrame(data['Q21|R1'].value_counts())\n",
    "Q21_1.columns = ['产品菜系种类少']\n",
    "Q21_2 = pd.DataFrame(data['Q21|R2'].value_counts())\n",
    "Q21_2.columns = ['食材不绿色健康']\n",
    "Q21_3 = pd.DataFrame(data['Q21|R3'].value_counts())\n",
    "Q21_3.columns = ['没有现做的好吃']\n",
    "Q21_4 = pd.DataFrame(data['Q21|R6'].value_counts())\n",
    "Q21_4.columns = ['加工过程不卫生']\n",
    "Q21_5 = pd.DataFrame(data['Q21|R7'].value_counts())\n",
    "Q21_5.columns = ['不符合高品质生活']\n",
    "Q21 = pd.concat([Q21_1,Q21_2,Q21_3,Q21_4,Q21_5],axis = 1)\n",
    "Q21 = Q21.reset_index().sort_values(by = 'index').reset_index(drop = True)\n",
    "name = ['非常不赞同','比较不赞同','不确定','比较赞同','非常赞同']\n",
    "name = pd.DataFrame({\"态度\":['非常不赞同','比较不赞同','不确定','比较赞同','非常赞同']})\n",
    "Q21_all = pd.concat([Q21,name],axis = 1)"
   ]
  },
  {
   "cell_type": "code",
   "execution_count": 99,
   "id": "2be4e5b3",
   "metadata": {},
   "outputs": [
    {
     "data": {
      "text/html": [
       "<div>\n",
       "<style scoped>\n",
       "    .dataframe tbody tr th:only-of-type {\n",
       "        vertical-align: middle;\n",
       "    }\n",
       "\n",
       "    .dataframe tbody tr th {\n",
       "        vertical-align: top;\n",
       "    }\n",
       "\n",
       "    .dataframe thead th {\n",
       "        text-align: right;\n",
       "    }\n",
       "</style>\n",
       "<table border=\"1\" class=\"dataframe\">\n",
       "  <thead>\n",
       "    <tr style=\"text-align: right;\">\n",
       "      <th></th>\n",
       "      <th>index</th>\n",
       "      <th>产品菜系种类少</th>\n",
       "      <th>食材不绿色健康</th>\n",
       "      <th>没有现做的好吃</th>\n",
       "      <th>加工过程不卫生</th>\n",
       "      <th>不符合高品质生活</th>\n",
       "      <th>态度</th>\n",
       "    </tr>\n",
       "  </thead>\n",
       "  <tbody>\n",
       "    <tr>\n",
       "      <th>0</th>\n",
       "      <td>1</td>\n",
       "      <td>13</td>\n",
       "      <td>11</td>\n",
       "      <td>4</td>\n",
       "      <td>6</td>\n",
       "      <td>21</td>\n",
       "      <td>非常不赞同</td>\n",
       "    </tr>\n",
       "    <tr>\n",
       "      <th>1</th>\n",
       "      <td>2</td>\n",
       "      <td>32</td>\n",
       "      <td>23</td>\n",
       "      <td>25</td>\n",
       "      <td>27</td>\n",
       "      <td>51</td>\n",
       "      <td>比较不赞同</td>\n",
       "    </tr>\n",
       "    <tr>\n",
       "      <th>2</th>\n",
       "      <td>3</td>\n",
       "      <td>59</td>\n",
       "      <td>45</td>\n",
       "      <td>30</td>\n",
       "      <td>57</td>\n",
       "      <td>40</td>\n",
       "      <td>不确定</td>\n",
       "    </tr>\n",
       "    <tr>\n",
       "      <th>3</th>\n",
       "      <td>4</td>\n",
       "      <td>41</td>\n",
       "      <td>54</td>\n",
       "      <td>48</td>\n",
       "      <td>43</td>\n",
       "      <td>36</td>\n",
       "      <td>比较赞同</td>\n",
       "    </tr>\n",
       "    <tr>\n",
       "      <th>4</th>\n",
       "      <td>5</td>\n",
       "      <td>22</td>\n",
       "      <td>34</td>\n",
       "      <td>60</td>\n",
       "      <td>34</td>\n",
       "      <td>19</td>\n",
       "      <td>非常赞同</td>\n",
       "    </tr>\n",
       "  </tbody>\n",
       "</table>\n",
       "</div>"
      ],
      "text/plain": [
       "   index  产品菜系种类少  食材不绿色健康  没有现做的好吃  加工过程不卫生  不符合高品质生活     态度\n",
       "0      1       13       11        4        6        21  非常不赞同\n",
       "1      2       32       23       25       27        51  比较不赞同\n",
       "2      3       59       45       30       57        40    不确定\n",
       "3      4       41       54       48       43        36   比较赞同\n",
       "4      5       22       34       60       34        19   非常赞同"
      ]
     },
     "execution_count": 99,
     "metadata": {},
     "output_type": "execute_result"
    }
   ],
   "source": [
    "Q21_all"
   ]
  },
  {
   "cell_type": "code",
   "execution_count": 100,
   "id": "8cdc484d",
   "metadata": {},
   "outputs": [],
   "source": [
    "Q21.to_excel(r\"C:\\Users\\Terry\\Desktop\\Q21.xlsx\")"
   ]
  }
 ],
 "metadata": {
  "kernelspec": {
   "display_name": "Python 3 (ipykernel)",
   "language": "python",
   "name": "python3"
  },
  "language_info": {
   "codemirror_mode": {
    "name": "ipython",
    "version": 3
   },
   "file_extension": ".py",
   "mimetype": "text/x-python",
   "name": "python",
   "nbconvert_exporter": "python",
   "pygments_lexer": "ipython3",
   "version": "3.9.13"
  }
 },
 "nbformat": 4,
 "nbformat_minor": 5
}
